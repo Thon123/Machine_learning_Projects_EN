{
 "cells": [
  {
   "cell_type": "markdown",
   "metadata": {},
   "source": [
    "# A-BASICS 1.0 FXCM platforma instalace FXCMPY"
   ]
  },
  {
   "cell_type": "markdown",
   "metadata": {},
   "source": [
    "## INSTALACE FXCM "
   ]
  },
  {
   "cell_type": "code",
   "execution_count": 1,
   "metadata": {},
   "outputs": [
    {
     "name": "stdout",
     "output_type": "stream",
     "text": [
      "Collecting fxcmpy\n",
      "  Downloading fxcmpy-1.2.9-py3-none-any.whl (28 kB)\n",
      "Collecting python-engineio\n",
      "  Downloading python_engineio-4.3.0-py3-none-any.whl (52 kB)\n",
      "Requirement already satisfied: pandas in c:\\users\\first\\anaconda3\\lib\\site-packages (from fxcmpy) (1.0.1)\n",
      "Requirement already satisfied: requests[socks] in c:\\users\\first\\anaconda3\\lib\\site-packages (from fxcmpy) (2.22.0)\n",
      "Collecting python-socketio\n",
      "  Downloading python_socketio-5.5.0-py3-none-any.whl (55 kB)\n",
      "Collecting configparser\n",
      "  Downloading configparser-5.2.0-py3-none-any.whl (19 kB)\n",
      "Requirement already satisfied: pytz>=2017.2 in c:\\users\\first\\anaconda3\\lib\\site-packages (from pandas->fxcmpy) (2019.3)\n",
      "Requirement already satisfied: python-dateutil>=2.6.1 in c:\\users\\first\\anaconda3\\lib\\site-packages (from pandas->fxcmpy) (2.8.1)\n",
      "Requirement already satisfied: numpy>=1.13.3 in c:\\users\\first\\anaconda3\\lib\\site-packages (from pandas->fxcmpy) (1.18.1)\n",
      "Requirement already satisfied: certifi>=2017.4.17 in c:\\users\\first\\anaconda3\\lib\\site-packages (from requests[socks]->fxcmpy) (2019.11.28)\n",
      "Requirement already satisfied: urllib3!=1.25.0,!=1.25.1,<1.26,>=1.21.1 in c:\\users\\first\\anaconda3\\lib\\site-packages (from requests[socks]->fxcmpy) (1.25.8)\n",
      "Requirement already satisfied: chardet<3.1.0,>=3.0.2 in c:\\users\\first\\anaconda3\\lib\\site-packages (from requests[socks]->fxcmpy) (3.0.4)\n",
      "Requirement already satisfied: idna<2.9,>=2.5 in c:\\users\\first\\anaconda3\\lib\\site-packages (from requests[socks]->fxcmpy) (2.8)\n",
      "Requirement already satisfied: PySocks!=1.5.7,>=1.5.6; extra == \"socks\" in c:\\users\\first\\anaconda3\\lib\\site-packages (from requests[socks]->fxcmpy) (1.7.1)\n",
      "Collecting bidict>=0.21.0\n",
      "  Downloading bidict-0.21.4-py3-none-any.whl (36 kB)\n",
      "Requirement already satisfied: six>=1.5 in c:\\users\\first\\anaconda3\\lib\\site-packages (from python-dateutil>=2.6.1->pandas->fxcmpy) (1.14.0)\n",
      "Installing collected packages: python-engineio, bidict, python-socketio, configparser, fxcmpy\n",
      "Successfully installed bidict-0.21.4 configparser-5.2.0 fxcmpy-1.2.9 python-engineio-4.3.0 python-socketio-5.5.0\n"
     ]
    }
   ],
   "source": [
    "!pip install fxcmpy #ZÁKLADNÍ INSTALACE"
   ]
  },
  {
   "cell_type": "code",
   "execution_count": 2,
   "metadata": {},
   "outputs": [
    {
     "name": "stdout",
     "output_type": "stream",
     "text": [
      "Requirement already up-to-date: fxcmpy in c:\\users\\first\\anaconda3\\lib\\site-packages (1.2.9)\n",
      "Requirement already satisfied, skipping upgrade: requests[socks] in c:\\users\\first\\anaconda3\\lib\\site-packages (from fxcmpy) (2.22.0)\n",
      "Requirement already satisfied, skipping upgrade: configparser in c:\\users\\first\\anaconda3\\lib\\site-packages (from fxcmpy) (5.2.0)\n",
      "Requirement already satisfied, skipping upgrade: pandas in c:\\users\\first\\anaconda3\\lib\\site-packages (from fxcmpy) (1.0.1)\n",
      "Requirement already satisfied, skipping upgrade: python-engineio in c:\\users\\first\\anaconda3\\lib\\site-packages (from fxcmpy) (4.3.0)\n",
      "Requirement already satisfied, skipping upgrade: python-socketio in c:\\users\\first\\anaconda3\\lib\\site-packages (from fxcmpy) (5.5.0)\n",
      "Requirement already satisfied, skipping upgrade: chardet<3.1.0,>=3.0.2 in c:\\users\\first\\anaconda3\\lib\\site-packages (from requests[socks]->fxcmpy) (3.0.4)\n",
      "Requirement already satisfied, skipping upgrade: certifi>=2017.4.17 in c:\\users\\first\\anaconda3\\lib\\site-packages (from requests[socks]->fxcmpy) (2019.11.28)\n",
      "Requirement already satisfied, skipping upgrade: urllib3!=1.25.0,!=1.25.1,<1.26,>=1.21.1 in c:\\users\\first\\anaconda3\\lib\\site-packages (from requests[socks]->fxcmpy) (1.25.8)\n",
      "Requirement already satisfied, skipping upgrade: idna<2.9,>=2.5 in c:\\users\\first\\anaconda3\\lib\\site-packages (from requests[socks]->fxcmpy) (2.8)\n",
      "Requirement already satisfied, skipping upgrade: PySocks!=1.5.7,>=1.5.6; extra == \"socks\" in c:\\users\\first\\anaconda3\\lib\\site-packages (from requests[socks]->fxcmpy) (1.7.1)\n",
      "Requirement already satisfied, skipping upgrade: numpy>=1.13.3 in c:\\users\\first\\anaconda3\\lib\\site-packages (from pandas->fxcmpy) (1.18.1)\n",
      "Requirement already satisfied, skipping upgrade: pytz>=2017.2 in c:\\users\\first\\anaconda3\\lib\\site-packages (from pandas->fxcmpy) (2019.3)\n",
      "Requirement already satisfied, skipping upgrade: python-dateutil>=2.6.1 in c:\\users\\first\\anaconda3\\lib\\site-packages (from pandas->fxcmpy) (2.8.1)\n",
      "Requirement already satisfied, skipping upgrade: bidict>=0.21.0 in c:\\users\\first\\anaconda3\\lib\\site-packages (from python-socketio->fxcmpy) (0.21.4)\n",
      "Requirement already satisfied, skipping upgrade: six>=1.5 in c:\\users\\first\\anaconda3\\lib\\site-packages (from python-dateutil>=2.6.1->pandas->fxcmpy) (1.14.0)\n"
     ]
    }
   ],
   "source": [
    "!pip install fxcmpy --upgrade #POUZE UPDATE MOJÍ INSTALAČKY"
   ]
  },
  {
   "cell_type": "code",
   "execution_count": 4,
   "metadata": {},
   "outputs": [],
   "source": [
    "import fxcmpy #IMPORT MODULU"
   ]
  },
  {
   "cell_type": "code",
   "execution_count": 5,
   "metadata": {},
   "outputs": [
    {
     "data": {
      "text/plain": [
       "'1.2.9'"
      ]
     },
     "execution_count": 5,
     "metadata": {},
     "output_type": "execute_result"
    }
   ],
   "source": [
    "fxcmpy.__version__ # CHECK VERZE"
   ]
  },
  {
   "cell_type": "markdown",
   "metadata": {},
   "source": [
    "Abych pořád nenačítal dokola a dokola tak přejdu do dalšího notebooku"
   ]
  }
 ],
 "metadata": {
  "kernelspec": {
   "display_name": "Python 3",
   "language": "python",
   "name": "python3"
  },
  "language_info": {
   "codemirror_mode": {
    "name": "ipython",
    "version": 3
   },
   "file_extension": ".py",
   "mimetype": "text/x-python",
   "name": "python",
   "nbconvert_exporter": "python",
   "pygments_lexer": "ipython3",
   "version": "3.7.6"
  }
 },
 "nbformat": 4,
 "nbformat_minor": 4
}
