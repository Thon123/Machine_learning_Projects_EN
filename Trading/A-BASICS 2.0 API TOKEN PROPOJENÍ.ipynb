{
 "cells": [
  {
   "cell_type": "markdown",
   "metadata": {},
   "source": [
    "# Základní propojení"
   ]
  },
  {
   "cell_type": "code",
   "execution_count": 11,
   "metadata": {
    "scrolled": true
   },
   "outputs": [
    {
     "data": {
      "text/plain": [
       "'\\n!pip install fxcmpy==1.2.6\\n!pip install python-socketio==4.4\\n!pip install python-engineio==3.9\\n!pip install websocket-client==1.1.0\\n'"
      ]
     },
     "execution_count": 11,
     "metadata": {},
     "output_type": "execute_result"
    }
   ],
   "source": [
    "\"\"\"\n",
    "!pip install fxcmpy==1.2.6\n",
    "!pip install python-socketio==4.4\n",
    "!pip install python-engineio==3.9\n",
    "!pip install websocket-client==1.1.0\n",
    "\"\"\"\n",
    "#funkční verze instalačky"
   ]
  },
  {
   "cell_type": "code",
   "execution_count": 1,
   "metadata": {},
   "outputs": [],
   "source": [
    "#potřebné importy\n",
    "import fxcmpy\n",
    "import socketio\n",
    "import engineio\n",
    "import websocket"
   ]
  },
  {
   "cell_type": "code",
   "execution_count": 74,
   "metadata": {},
   "outputs": [],
   "source": [
    "TOKEN = 'a19787f3f6fe3eb4ffa3f06f7808c7073b49f375' #můj token -> přes soubor"
   ]
  },
  {
   "cell_type": "code",
   "execution_count": 9,
   "metadata": {
    "scrolled": true
   },
   "outputs": [
    {
     "name": "stdout",
     "output_type": "stream",
     "text": [
      "I am connected huraay\n"
     ]
    }
   ],
   "source": [
    "con = fxcmpy.fxcmpy(access_token=TOKEN, log_level='error',proxy_port=443) #připojení napřímo\n",
    "print(\"I am connected huraay\")"
   ]
  },
  {
   "cell_type": "code",
   "execution_count": 11,
   "metadata": {},
   "outputs": [
    {
     "name": "stdout",
     "output_type": "stream",
     "text": [
      "I am closing my connection\n"
     ]
    }
   ],
   "source": [
    "#con.close() #zavření připojení\n",
    "print(\"I am closing my connection\")"
   ]
  },
  {
   "cell_type": "code",
   "execution_count": 8,
   "metadata": {},
   "outputs": [],
   "source": [
    "#con = fxcmpy.fxcmpy(config_file='fxcm.cfg') - nefunguje mi skrze CFG soubor [ZATÍM NEŘEŠIT]"
   ]
  },
  {
   "cell_type": "markdown",
   "metadata": {},
   "source": [
    "# Prvotní funkce"
   ]
  },
  {
   "cell_type": "code",
   "execution_count": 10,
   "metadata": {},
   "outputs": [
    {
     "name": "stdout",
     "output_type": "stream",
     "text": [
      "['EUR/USD', 'USD/JPY', 'GBP/USD', 'USD/CHF', 'EUR/CHF', 'AUD/USD', 'USD/CAD', 'NZD/USD', 'EUR/GBP', 'EUR/JPY', 'GBP/JPY', 'CHF/JPY', 'GBP/CHF', 'EUR/AUD', 'EUR/CAD', 'AUD/CAD', 'AUD/JPY', 'CAD/JPY', 'NZD/JPY', 'GBP/CAD', 'GBP/NZD', 'GBP/AUD', 'AUD/NZD', 'USD/SEK', 'EUR/SEK', 'EUR/NOK', 'USD/NOK', 'USD/MXN', 'AUD/CHF', 'EUR/NZD', 'USD/ZAR', 'USD/HKD', 'ZAR/JPY', 'USD/TRY', 'EUR/TRY', 'NZD/CHF', 'CAD/CHF', 'NZD/CAD', 'TRY/JPY', 'USD/CNH', 'AUS200', 'ESP35', 'FRA40', 'GER30', 'HKG33', 'JPN225', 'NAS100', 'SPX500', 'UK100', 'US30', 'Copper', 'CHN50', 'EUSTX50', 'VOLX', 'USDOLLAR', 'US2000', 'INDIA50', 'USOil', 'UKOil', 'SOYF', 'NGAS', 'USOilSpot', 'UKOilSpot', 'WHEATF', 'CORNF', 'Bund', 'XAU/USD', 'XAG/USD', 'EMBasket', 'JPYBasket', 'ESPORTS', 'BIOTECH', 'CANNABIS', 'FAANG', 'CHN.TECH', 'CHN.ECOMM', 'USEquities', 'AIRLINES', 'CASINOS', 'TRAVEL', 'US.ECOMM', 'US.BANKS', 'US.AUTO', 'WFH', 'ATMX', 'URANIUM', 'Cryptostock', 'BA.us', 'BAC.us', 'BRKB.us', 'C.us', 'CRM.us', 'DIS.us', 'F.us', 'JPM.us', 'KO.us', 'MA.us', 'MCD.us', 'PFE.us', 'PG.us', 'SE.us', 'T.us', 'TGT.us', 'V.us', 'XOM.us', 'AAPL.us', 'AMZN.us', 'BIDU.us', 'FB.us', 'GOOG.us', 'INTC.us', 'MSFT.us', 'SBUX.us', 'ACA.fr', 'AI.fr', 'ALO.fr', 'BN.fr', 'BNP.fr', 'CA.fr', 'DG.fr', 'AIR.fr', 'ORA.fr', 'GLE.fr', 'MC.fr', 'ML.fr', 'OR.fr', 'RNO.fr', 'SAN.fr', 'SGO.fr', 'SU.fr', 'VIE.fr', 'VIV.fr', 'ADS.de', 'ALV.de', 'BAS.de', 'BAYN.de', 'BMW.de', 'CON.de', 'DAI.de', 'DB1.de', 'DBK.de', 'DPW.de', 'DTE.de', 'EOAN.de', 'IFX.de', 'LHA.de', 'MRK.de', 'RWE.de', 'SAP.de', 'SIE.de', 'TUI1.de', 'VOW.de', 'AV.uk', 'AZN.uk', 'BA.uk', 'BARC.uk', 'BATS.uk', 'BP.uk', 'GSK.uk', 'HSBA.uk', 'IAG.uk', 'LGEN.uk', 'LLOY.uk', 'RR.uk', 'STAN.uk', 'TSCO.uk', 'VOD.uk', 'BABA.us', 'DAL.us', 'NFLX.us', 'TSLA.us', 'GLEN.uk', 'RDSB.uk', 'TTE.fr', 'ENGI.fr', 'VNA.de', 'SQ.us', 'LYFT.us', 'UAL.us', 'DKNG.us', 'SHOP.us', 'BYND.us', 'UBER.us', 'ZM.us', 'LCID.us', 'HOOD.us', 'CRWD.us', 'BEKE.us', 'CPNG.us', 'NET.us', 'RBLX.us', 'ENR.de', 'BIDU.hk', 'COIN.us', 'CSL.au', 'CBA.au', 'BHP.au', 'WBC.au', 'NAB.au', 'ANZ.au', 'WOW.au', 'WES.au', 'FMG.au', 'MQG.au', 'TLS.au', 'RIO.au', 'GMG.au', 'WPL.au', 'NCM.au', 'COL.au', 'ALL.au', 'SYD.au', 'A2M.au', 'REA.au', 'XRO.au', 'APT.au', 'CWN.au', 'QAN.au', 'Z1P.au', 'BT.A.uk', 'NWG.uk', 'TW.uk', 'MRO.uk', 'MNG.uk', 'ROO.uk', 'CBK.de', 'DHER.de', 'STM.fr', 'STLA.fr', 'DIDI.us', 'FVRR.us', 'SPOT.us', 'MARA.us', 'BTBT.us', 'BITF.us', 'WISH.us', '', 'RIVN.us', 'WE.us', 'JD.us', 'PDD.us', 'TME.us', 'WB.us', 'BILI.us', 'NVDA.us', 'AMD.us', 'DADA.us', 'PTON.us', 'TENC.hk', 'MEIT.hk', 'BYDC.hk', 'XIAO.hk', 'BABA.hk', 'AIA.hk', 'HSBC.hk', 'WUXI.hk', 'HKEX.hk', 'GELY.hk', 'JD.hk', 'NETE.hk', 'PING.hk', 'SMIC.hk', 'SBIO.hk', 'GALA.hk', 'KIDE.hk', 'ALIH.hk', 'ICBC.hk', 'FLAT.hk', 'KSOF.hk', 'SMOO.hk', 'SUNN.hk', 'BYDE.hk', 'TWTR.us', 'MRNA.us', 'NIO.us', 'CCL.us', 'ABNB.us', 'DASH.us', 'AMC.us', 'BNGO.us', 'FCEL.us', 'GME.us', 'PENN.us', 'PLTR.us', 'PLUG.us', 'PYPL.us', 'SNAP.us', 'SNOW.us', 'SPCE.us', 'XPEV.us', 'SONY.us']\n"
     ]
    }
   ],
   "source": [
    "print(con.get_instruments()) # všechny instrumenkty, které jsou dostupné"
   ]
  },
  {
   "cell_type": "code",
   "execution_count": 13,
   "metadata": {},
   "outputs": [
    {
     "data": {
      "text/html": [
       "<div>\n",
       "<style scoped>\n",
       "    .dataframe tbody tr th:only-of-type {\n",
       "        vertical-align: middle;\n",
       "    }\n",
       "\n",
       "    .dataframe tbody tr th {\n",
       "        vertical-align: top;\n",
       "    }\n",
       "\n",
       "    .dataframe thead th {\n",
       "        text-align: right;\n",
       "    }\n",
       "</style>\n",
       "<table border=\"1\" class=\"dataframe\">\n",
       "  <thead>\n",
       "    <tr style=\"text-align: right;\">\n",
       "      <th></th>\n",
       "      <th>bidopen</th>\n",
       "      <th>bidclose</th>\n",
       "      <th>bidhigh</th>\n",
       "      <th>bidlow</th>\n",
       "      <th>askopen</th>\n",
       "      <th>askclose</th>\n",
       "      <th>askhigh</th>\n",
       "      <th>asklow</th>\n",
       "      <th>tickqty</th>\n",
       "    </tr>\n",
       "    <tr>\n",
       "      <th>date</th>\n",
       "      <th></th>\n",
       "      <th></th>\n",
       "      <th></th>\n",
       "      <th></th>\n",
       "      <th></th>\n",
       "      <th></th>\n",
       "      <th></th>\n",
       "      <th></th>\n",
       "      <th></th>\n",
       "    </tr>\n",
       "  </thead>\n",
       "  <tbody>\n",
       "    <tr>\n",
       "      <th>2022-01-07 11:54:00</th>\n",
       "      <td>1.13040</td>\n",
       "      <td>1.13046</td>\n",
       "      <td>1.13048</td>\n",
       "      <td>1.13039</td>\n",
       "      <td>1.13050</td>\n",
       "      <td>1.13058</td>\n",
       "      <td>1.13060</td>\n",
       "      <td>1.13050</td>\n",
       "      <td>90</td>\n",
       "    </tr>\n",
       "    <tr>\n",
       "      <th>2022-01-07 11:55:00</th>\n",
       "      <td>1.13046</td>\n",
       "      <td>1.13052</td>\n",
       "      <td>1.13075</td>\n",
       "      <td>1.13030</td>\n",
       "      <td>1.13059</td>\n",
       "      <td>1.13062</td>\n",
       "      <td>1.13086</td>\n",
       "      <td>1.13042</td>\n",
       "      <td>246</td>\n",
       "    </tr>\n",
       "    <tr>\n",
       "      <th>2022-01-07 11:56:00</th>\n",
       "      <td>1.13051</td>\n",
       "      <td>1.13021</td>\n",
       "      <td>1.13052</td>\n",
       "      <td>1.13020</td>\n",
       "      <td>1.13062</td>\n",
       "      <td>1.13034</td>\n",
       "      <td>1.13062</td>\n",
       "      <td>1.13032</td>\n",
       "      <td>92</td>\n",
       "    </tr>\n",
       "    <tr>\n",
       "      <th>2022-01-07 11:57:00</th>\n",
       "      <td>1.13022</td>\n",
       "      <td>1.13033</td>\n",
       "      <td>1.13034</td>\n",
       "      <td>1.13019</td>\n",
       "      <td>1.13034</td>\n",
       "      <td>1.13044</td>\n",
       "      <td>1.13045</td>\n",
       "      <td>1.13031</td>\n",
       "      <td>54</td>\n",
       "    </tr>\n",
       "    <tr>\n",
       "      <th>2022-01-07 11:58:00</th>\n",
       "      <td>1.13033</td>\n",
       "      <td>1.13024</td>\n",
       "      <td>1.13035</td>\n",
       "      <td>1.13020</td>\n",
       "      <td>1.13045</td>\n",
       "      <td>1.13034</td>\n",
       "      <td>1.13046</td>\n",
       "      <td>1.13032</td>\n",
       "      <td>146</td>\n",
       "    </tr>\n",
       "  </tbody>\n",
       "</table>\n",
       "</div>"
      ],
      "text/plain": [
       "                     bidopen  bidclose  bidhigh   bidlow  askopen  askclose  \\\n",
       "date                                                                          \n",
       "2022-01-07 11:54:00  1.13040   1.13046  1.13048  1.13039  1.13050   1.13058   \n",
       "2022-01-07 11:55:00  1.13046   1.13052  1.13075  1.13030  1.13059   1.13062   \n",
       "2022-01-07 11:56:00  1.13051   1.13021  1.13052  1.13020  1.13062   1.13034   \n",
       "2022-01-07 11:57:00  1.13022   1.13033  1.13034  1.13019  1.13034   1.13044   \n",
       "2022-01-07 11:58:00  1.13033   1.13024  1.13035  1.13020  1.13045   1.13034   \n",
       "\n",
       "                     askhigh   asklow  tickqty  \n",
       "date                                            \n",
       "2022-01-07 11:54:00  1.13060  1.13050       90  \n",
       "2022-01-07 11:55:00  1.13086  1.13042      246  \n",
       "2022-01-07 11:56:00  1.13062  1.13032       92  \n",
       "2022-01-07 11:57:00  1.13045  1.13031       54  \n",
       "2022-01-07 11:58:00  1.13046  1.13032      146  "
      ]
     },
     "execution_count": 13,
     "metadata": {},
     "output_type": "execute_result"
    }
   ],
   "source": [
    "data = con.get_candles('EUR/USD', period='m1', number=250) #dolujeme si ceny candle ceny pro eurusd - posledních 250 minut :)\n",
    "data.tail() #tail = konec tzn. 250m -> 1 řádek je před 250 minutami, poslední je poslední minuta"
   ]
  },
  {
   "cell_type": "code",
   "execution_count": 14,
   "metadata": {},
   "outputs": [
    {
     "data": {
      "text/plain": [
       "<matplotlib.axes._subplots.AxesSubplot at 0x1eea2e0c6c8>"
      ]
     },
     "execution_count": 14,
     "metadata": {},
     "output_type": "execute_result"
    },
    {
     "data": {
      "image/png": "[encoded data removed]",
      "text/plain": [
       "<Figure size 720x432 with 1 Axes>"
      ]
     },
     "metadata": {
      "needs_background": "light"
     },
     "output_type": "display_data"
    }
   ],
   "source": [
    "from pylab import plt\n",
    "plt.style.use('seaborn')\n",
    "%matplotlib inline\n",
    "data['askclose'].plot(figsize=(10, 6)) #jen tiskneme data -> zatím netřeba hrotit"
   ]
  },
  {
   "cell_type": "code",
   "execution_count": 16,
   "metadata": {},
   "outputs": [
    {
     "data": {
      "text/plain": [
       "True"
      ]
     },
     "execution_count": 16,
     "metadata": {},
     "output_type": "execute_result"
    }
   ],
   "source": [
    "con.is_connected() #OVĚŘENÍ ZDA JSEM PŘIPOJENÝ -> DŮLEŽITÉ! KMOD VŽDY ZAČNE OVĚŘENÍM PŘIPOJENÍ "
   ]
  },
  {
   "cell_type": "code",
   "execution_count": 17,
   "metadata": {},
   "outputs": [
    {
     "data": {
      "text/plain": [
       "[877149]"
      ]
     },
     "execution_count": 17,
     "metadata": {},
     "output_type": "execute_result"
    }
   ],
   "source": [
    "con.get_account_ids() #moje id --> teoreticky budu mít více účtů -> ALE asi lepší server = účet?? Kdo ví"
   ]
  },
  {
   "cell_type": "code",
   "execution_count": 18,
   "metadata": {},
   "outputs": [
    {
     "data": {
      "text/plain": [
       "877149"
      ]
     },
     "execution_count": 18,
     "metadata": {},
     "output_type": "execute_result"
    }
   ],
   "source": [
    "con.get_default_account() #první account id = defaultní lze poté přepínat na jiné"
   ]
  },
  {
   "cell_type": "code",
   "execution_count": 19,
   "metadata": {},
   "outputs": [],
   "source": [
    "con.set_default_account(877149) #mám jen jeden účet takže dávám default již na default"
   ]
  },
  {
   "cell_type": "code",
   "execution_count": 20,
   "metadata": {},
   "outputs": [
    {
     "data": {
      "text/plain": [
       "[]"
      ]
     },
     "execution_count": 20,
     "metadata": {},
     "output_type": "execute_result"
    }
   ],
   "source": [
    "con.get_order_ids() #idčka objednávek - důležité pro tracking!!  teď žádné nemám"
   ]
  },
  {
   "cell_type": "code",
   "execution_count": 24,
   "metadata": {},
   "outputs": [
    {
     "data": {
      "text/plain": [
       "['AUD/CAD',\n",
       " 'EUR/SEK',\n",
       " 'SOYF',\n",
       " 'ZAR/JPY',\n",
       " 'US.ECOMM',\n",
       " 'SE.us',\n",
       " 'AIR.fr',\n",
       " 'DBK.de',\n",
       " 'IAG.uk',\n",
       " 'SHOP.us',\n",
       " 'WOW.au',\n",
       " 'NWG.uk',\n",
       " 'PDD.us',\n",
       " 'ABNB.us',\n",
       " 'GALA.hk']"
      ]
     },
     "execution_count": 24,
     "metadata": {},
     "output_type": "execute_result"
    }
   ],
   "source": [
    "con.get_instruments_for_candles()[::20] #jen co vše má candle data -> každý 20tý -> máme jich hafec"
   ]
  },
  {
   "cell_type": "code",
   "execution_count": 34,
   "metadata": {},
   "outputs": [
    {
     "data": {
      "text/html": [
       "<div>\n",
       "<style scoped>\n",
       "    .dataframe tbody tr th:only-of-type {\n",
       "        vertical-align: middle;\n",
       "    }\n",
       "\n",
       "    .dataframe tbody tr th {\n",
       "        vertical-align: top;\n",
       "    }\n",
       "\n",
       "    .dataframe thead th {\n",
       "        text-align: right;\n",
       "    }\n",
       "</style>\n",
       "<table border=\"1\" class=\"dataframe\">\n",
       "  <thead>\n",
       "    <tr style=\"text-align: right;\">\n",
       "      <th></th>\n",
       "      <th>bidopen</th>\n",
       "      <th>bidclose</th>\n",
       "      <th>bidhigh</th>\n",
       "      <th>bidlow</th>\n",
       "      <th>askopen</th>\n",
       "      <th>askclose</th>\n",
       "      <th>askhigh</th>\n",
       "      <th>asklow</th>\n",
       "      <th>tickqty</th>\n",
       "    </tr>\n",
       "    <tr>\n",
       "      <th>date</th>\n",
       "      <th></th>\n",
       "      <th></th>\n",
       "      <th></th>\n",
       "      <th></th>\n",
       "      <th></th>\n",
       "      <th></th>\n",
       "      <th></th>\n",
       "      <th></th>\n",
       "      <th></th>\n",
       "    </tr>\n",
       "  </thead>\n",
       "  <tbody>\n",
       "    <tr>\n",
       "      <th>2021-06-02 21:00:00</th>\n",
       "      <td>109.461</td>\n",
       "      <td>109.513</td>\n",
       "      <td>109.878</td>\n",
       "      <td>109.382</td>\n",
       "      <td>109.512</td>\n",
       "      <td>109.599</td>\n",
       "      <td>109.890</td>\n",
       "      <td>109.437</td>\n",
       "      <td>113320</td>\n",
       "    </tr>\n",
       "    <tr>\n",
       "      <th>2021-06-03 21:00:00</th>\n",
       "      <td>109.513</td>\n",
       "      <td>110.253</td>\n",
       "      <td>110.314</td>\n",
       "      <td>109.510</td>\n",
       "      <td>109.599</td>\n",
       "      <td>110.327</td>\n",
       "      <td>110.329</td>\n",
       "      <td>109.566</td>\n",
       "      <td>119603</td>\n",
       "    </tr>\n",
       "    <tr>\n",
       "      <th>2021-06-04 21:00:00</th>\n",
       "      <td>110.253</td>\n",
       "      <td>109.475</td>\n",
       "      <td>110.323</td>\n",
       "      <td>109.359</td>\n",
       "      <td>110.327</td>\n",
       "      <td>109.575</td>\n",
       "      <td>110.341</td>\n",
       "      <td>109.371</td>\n",
       "      <td>137076</td>\n",
       "    </tr>\n",
       "    <tr>\n",
       "      <th>2021-06-06 21:00:00</th>\n",
       "      <td>109.475</td>\n",
       "      <td>109.580</td>\n",
       "      <td>109.580</td>\n",
       "      <td>109.574</td>\n",
       "      <td>109.575</td>\n",
       "      <td>109.639</td>\n",
       "      <td>109.645</td>\n",
       "      <td>109.639</td>\n",
       "      <td>2</td>\n",
       "    </tr>\n",
       "    <tr>\n",
       "      <th>2021-06-07 21:00:00</th>\n",
       "      <td>109.580</td>\n",
       "      <td>109.232</td>\n",
       "      <td>109.631</td>\n",
       "      <td>109.182</td>\n",
       "      <td>109.639</td>\n",
       "      <td>109.275</td>\n",
       "      <td>109.645</td>\n",
       "      <td>109.195</td>\n",
       "      <td>109195</td>\n",
       "    </tr>\n",
       "    <tr>\n",
       "      <th>...</th>\n",
       "      <td>...</td>\n",
       "      <td>...</td>\n",
       "      <td>...</td>\n",
       "      <td>...</td>\n",
       "      <td>...</td>\n",
       "      <td>...</td>\n",
       "      <td>...</td>\n",
       "      <td>...</td>\n",
       "      <td>...</td>\n",
       "    </tr>\n",
       "    <tr>\n",
       "      <th>2021-12-27 22:00:00</th>\n",
       "      <td>114.315</td>\n",
       "      <td>114.853</td>\n",
       "      <td>114.907</td>\n",
       "      <td>114.304</td>\n",
       "      <td>114.444</td>\n",
       "      <td>114.904</td>\n",
       "      <td>114.921</td>\n",
       "      <td>114.319</td>\n",
       "      <td>71898</td>\n",
       "    </tr>\n",
       "    <tr>\n",
       "      <th>2021-12-28 22:00:00</th>\n",
       "      <td>114.853</td>\n",
       "      <td>114.805</td>\n",
       "      <td>114.943</td>\n",
       "      <td>114.701</td>\n",
       "      <td>114.904</td>\n",
       "      <td>114.840</td>\n",
       "      <td>114.956</td>\n",
       "      <td>114.714</td>\n",
       "      <td>82860</td>\n",
       "    </tr>\n",
       "    <tr>\n",
       "      <th>2021-12-29 22:00:00</th>\n",
       "      <td>114.805</td>\n",
       "      <td>114.930</td>\n",
       "      <td>115.032</td>\n",
       "      <td>114.662</td>\n",
       "      <td>114.840</td>\n",
       "      <td>114.974</td>\n",
       "      <td>115.045</td>\n",
       "      <td>114.674</td>\n",
       "      <td>107166</td>\n",
       "    </tr>\n",
       "    <tr>\n",
       "      <th>2021-12-30 22:00:00</th>\n",
       "      <td>114.930</td>\n",
       "      <td>115.027</td>\n",
       "      <td>115.215</td>\n",
       "      <td>114.892</td>\n",
       "      <td>114.974</td>\n",
       "      <td>115.085</td>\n",
       "      <td>115.215</td>\n",
       "      <td>114.950</td>\n",
       "      <td>95404</td>\n",
       "    </tr>\n",
       "    <tr>\n",
       "      <th>2021-12-31 22:00:00</th>\n",
       "      <td>115.027</td>\n",
       "      <td>115.084</td>\n",
       "      <td>115.192</td>\n",
       "      <td>114.998</td>\n",
       "      <td>115.085</td>\n",
       "      <td>115.100</td>\n",
       "      <td>115.205</td>\n",
       "      <td>115.011</td>\n",
       "      <td>80722</td>\n",
       "    </tr>\n",
       "  </tbody>\n",
       "</table>\n",
       "<p>178 rows × 9 columns</p>\n",
       "</div>"
      ],
      "text/plain": [
       "                     bidopen  bidclose  bidhigh   bidlow  askopen  askclose  \\\n",
       "date                                                                          \n",
       "2021-06-02 21:00:00  109.461   109.513  109.878  109.382  109.512   109.599   \n",
       "2021-06-03 21:00:00  109.513   110.253  110.314  109.510  109.599   110.327   \n",
       "2021-06-04 21:00:00  110.253   109.475  110.323  109.359  110.327   109.575   \n",
       "2021-06-06 21:00:00  109.475   109.580  109.580  109.574  109.575   109.639   \n",
       "2021-06-07 21:00:00  109.580   109.232  109.631  109.182  109.639   109.275   \n",
       "...                      ...       ...      ...      ...      ...       ...   \n",
       "2021-12-27 22:00:00  114.315   114.853  114.907  114.304  114.444   114.904   \n",
       "2021-12-28 22:00:00  114.853   114.805  114.943  114.701  114.904   114.840   \n",
       "2021-12-29 22:00:00  114.805   114.930  115.032  114.662  114.840   114.974   \n",
       "2021-12-30 22:00:00  114.930   115.027  115.215  114.892  114.974   115.085   \n",
       "2021-12-31 22:00:00  115.027   115.084  115.192  114.998  115.085   115.100   \n",
       "\n",
       "                     askhigh   asklow  tickqty  \n",
       "date                                            \n",
       "2021-06-02 21:00:00  109.890  109.437   113320  \n",
       "2021-06-03 21:00:00  110.329  109.566   119603  \n",
       "2021-06-04 21:00:00  110.341  109.371   137076  \n",
       "2021-06-06 21:00:00  109.645  109.639        2  \n",
       "2021-06-07 21:00:00  109.645  109.195   109195  \n",
       "...                      ...      ...      ...  \n",
       "2021-12-27 22:00:00  114.921  114.319    71898  \n",
       "2021-12-28 22:00:00  114.956  114.714    82860  \n",
       "2021-12-29 22:00:00  115.045  114.674   107166  \n",
       "2021-12-30 22:00:00  115.215  114.950    95404  \n",
       "2021-12-31 22:00:00  115.205  115.011    80722  \n",
       "\n",
       "[178 rows x 9 columns]"
      ]
     },
     "execution_count": 34,
     "metadata": {},
     "output_type": "execute_result"
    }
   ],
   "source": [
    "import datetime as dt #modul pro čas\n",
    "start = dt.datetime(2021,6,1)  #začátek odbodbí za kdy chci data\n",
    "stop = dt.datetime(2021,12,31) #konec období za kdy chci data\n",
    "con.get_candles('USD/JPY', period='D1', start = start, stop=stop) #canlde data "
   ]
  },
  {
   "cell_type": "code",
   "execution_count": 36,
   "metadata": {},
   "outputs": [
    {
     "data": {
      "text/html": [
       "<div>\n",
       "<style scoped>\n",
       "    .dataframe tbody tr th:only-of-type {\n",
       "        vertical-align: middle;\n",
       "    }\n",
       "\n",
       "    .dataframe tbody tr th {\n",
       "        vertical-align: top;\n",
       "    }\n",
       "\n",
       "    .dataframe thead th {\n",
       "        text-align: right;\n",
       "    }\n",
       "</style>\n",
       "<table border=\"1\" class=\"dataframe\">\n",
       "  <thead>\n",
       "    <tr style=\"text-align: right;\">\n",
       "      <th></th>\n",
       "      <th>bidopen</th>\n",
       "      <th>bidclose</th>\n",
       "      <th>bidhigh</th>\n",
       "      <th>bidlow</th>\n",
       "      <th>askopen</th>\n",
       "      <th>askclose</th>\n",
       "      <th>askhigh</th>\n",
       "      <th>asklow</th>\n",
       "      <th>tickqty</th>\n",
       "    </tr>\n",
       "    <tr>\n",
       "      <th>date</th>\n",
       "      <th></th>\n",
       "      <th></th>\n",
       "      <th></th>\n",
       "      <th></th>\n",
       "      <th></th>\n",
       "      <th></th>\n",
       "      <th></th>\n",
       "      <th></th>\n",
       "      <th></th>\n",
       "    </tr>\n",
       "  </thead>\n",
       "  <tbody>\n",
       "    <tr>\n",
       "      <th>2021-06-17 21:00:00</th>\n",
       "      <td>110.704</td>\n",
       "      <td>110.158</td>\n",
       "      <td>110.818</td>\n",
       "      <td>110.158</td>\n",
       "      <td>110.720</td>\n",
       "      <td>110.245</td>\n",
       "      <td>110.829</td>\n",
       "      <td>110.173</td>\n",
       "      <td>164280</td>\n",
       "    </tr>\n",
       "    <tr>\n",
       "      <th>2021-06-18 21:00:00</th>\n",
       "      <td>110.158</td>\n",
       "      <td>110.203</td>\n",
       "      <td>110.478</td>\n",
       "      <td>109.935</td>\n",
       "      <td>110.245</td>\n",
       "      <td>110.243</td>\n",
       "      <td>110.491</td>\n",
       "      <td>109.948</td>\n",
       "      <td>164006</td>\n",
       "    </tr>\n",
       "    <tr>\n",
       "      <th>2021-06-21 21:00:00</th>\n",
       "      <td>110.203</td>\n",
       "      <td>110.293</td>\n",
       "      <td>110.348</td>\n",
       "      <td>109.709</td>\n",
       "      <td>110.243</td>\n",
       "      <td>110.349</td>\n",
       "      <td>110.360</td>\n",
       "      <td>109.722</td>\n",
       "      <td>175387</td>\n",
       "    </tr>\n",
       "    <tr>\n",
       "      <th>2021-06-22 21:00:00</th>\n",
       "      <td>110.293</td>\n",
       "      <td>110.602</td>\n",
       "      <td>110.787</td>\n",
       "      <td>110.205</td>\n",
       "      <td>110.349</td>\n",
       "      <td>110.697</td>\n",
       "      <td>110.799</td>\n",
       "      <td>110.218</td>\n",
       "      <td>121143</td>\n",
       "    </tr>\n",
       "    <tr>\n",
       "      <th>2021-06-23 21:00:00</th>\n",
       "      <td>110.602</td>\n",
       "      <td>110.946</td>\n",
       "      <td>111.100</td>\n",
       "      <td>110.572</td>\n",
       "      <td>110.697</td>\n",
       "      <td>110.966</td>\n",
       "      <td>111.112</td>\n",
       "      <td>110.631</td>\n",
       "      <td>131414</td>\n",
       "    </tr>\n",
       "    <tr>\n",
       "      <th>...</th>\n",
       "      <td>...</td>\n",
       "      <td>...</td>\n",
       "      <td>...</td>\n",
       "      <td>...</td>\n",
       "      <td>...</td>\n",
       "      <td>...</td>\n",
       "      <td>...</td>\n",
       "      <td>...</td>\n",
       "      <td>...</td>\n",
       "    </tr>\n",
       "    <tr>\n",
       "      <th>2022-01-03 22:00:00</th>\n",
       "      <td>115.085</td>\n",
       "      <td>115.287</td>\n",
       "      <td>115.361</td>\n",
       "      <td>114.940</td>\n",
       "      <td>115.170</td>\n",
       "      <td>115.377</td>\n",
       "      <td>115.377</td>\n",
       "      <td>114.954</td>\n",
       "      <td>103770</td>\n",
       "    </tr>\n",
       "    <tr>\n",
       "      <th>2022-01-04 22:00:00</th>\n",
       "      <td>115.291</td>\n",
       "      <td>116.112</td>\n",
       "      <td>116.346</td>\n",
       "      <td>115.267</td>\n",
       "      <td>115.361</td>\n",
       "      <td>116.202</td>\n",
       "      <td>116.358</td>\n",
       "      <td>115.298</td>\n",
       "      <td>147659</td>\n",
       "    </tr>\n",
       "    <tr>\n",
       "      <th>2022-01-05 22:00:00</th>\n",
       "      <td>116.121</td>\n",
       "      <td>116.063</td>\n",
       "      <td>116.237</td>\n",
       "      <td>115.615</td>\n",
       "      <td>116.175</td>\n",
       "      <td>116.162</td>\n",
       "      <td>116.250</td>\n",
       "      <td>115.627</td>\n",
       "      <td>150236</td>\n",
       "    </tr>\n",
       "    <tr>\n",
       "      <th>2022-01-06 22:00:00</th>\n",
       "      <td>116.042</td>\n",
       "      <td>115.792</td>\n",
       "      <td>116.179</td>\n",
       "      <td>115.619</td>\n",
       "      <td>116.162</td>\n",
       "      <td>115.857</td>\n",
       "      <td>116.193</td>\n",
       "      <td>115.633</td>\n",
       "      <td>160436</td>\n",
       "    </tr>\n",
       "    <tr>\n",
       "      <th>2022-01-07 22:00:00</th>\n",
       "      <td>115.806</td>\n",
       "      <td>115.783</td>\n",
       "      <td>116.044</td>\n",
       "      <td>115.745</td>\n",
       "      <td>115.848</td>\n",
       "      <td>115.794</td>\n",
       "      <td>116.055</td>\n",
       "      <td>115.757</td>\n",
       "      <td>64024</td>\n",
       "    </tr>\n",
       "  </tbody>\n",
       "</table>\n",
       "<p>170 rows × 9 columns</p>\n",
       "</div>"
      ],
      "text/plain": [
       "                     bidopen  bidclose  bidhigh   bidlow  askopen  askclose  \\\n",
       "date                                                                          \n",
       "2021-06-17 21:00:00  110.704   110.158  110.818  110.158  110.720   110.245   \n",
       "2021-06-18 21:00:00  110.158   110.203  110.478  109.935  110.245   110.243   \n",
       "2021-06-21 21:00:00  110.203   110.293  110.348  109.709  110.243   110.349   \n",
       "2021-06-22 21:00:00  110.293   110.602  110.787  110.205  110.349   110.697   \n",
       "2021-06-23 21:00:00  110.602   110.946  111.100  110.572  110.697   110.966   \n",
       "...                      ...       ...      ...      ...      ...       ...   \n",
       "2022-01-03 22:00:00  115.085   115.287  115.361  114.940  115.170   115.377   \n",
       "2022-01-04 22:00:00  115.291   116.112  116.346  115.267  115.361   116.202   \n",
       "2022-01-05 22:00:00  116.121   116.063  116.237  115.615  116.175   116.162   \n",
       "2022-01-06 22:00:00  116.042   115.792  116.179  115.619  116.162   115.857   \n",
       "2022-01-07 22:00:00  115.806   115.783  116.044  115.745  115.848   115.794   \n",
       "\n",
       "                     askhigh   asklow  tickqty  \n",
       "date                                            \n",
       "2021-06-17 21:00:00  110.829  110.173   164280  \n",
       "2021-06-18 21:00:00  110.491  109.948   164006  \n",
       "2021-06-21 21:00:00  110.360  109.722   175387  \n",
       "2021-06-22 21:00:00  110.799  110.218   121143  \n",
       "2021-06-23 21:00:00  111.112  110.631   131414  \n",
       "...                      ...      ...      ...  \n",
       "2022-01-03 22:00:00  115.377  114.954   103770  \n",
       "2022-01-04 22:00:00  116.358  115.298   147659  \n",
       "2022-01-05 22:00:00  116.250  115.627   150236  \n",
       "2022-01-06 22:00:00  116.193  115.633   160436  \n",
       "2022-01-07 22:00:00  116.055  115.757    64024  \n",
       "\n",
       "[170 rows x 9 columns]"
      ]
     },
     "execution_count": 36,
     "metadata": {},
     "output_type": "execute_result"
    }
   ],
   "source": [
    "con.get_candles('USD/JPY', period='D1', number=170) #pomocí number vydoluji data co potřebuji :) -> \n",
    "#dobré pokud řeším signál dle snadných indikátorů -> stále stejné fixní číslo"
   ]
  },
  {
   "cell_type": "code",
   "execution_count": 43,
   "metadata": {},
   "outputs": [
    {
     "data": {
      "image/png": "[encoded data removed]",
      "text/plain": [
       "<Figure size 720x432 with 1 Axes>"
      ]
     },
     "metadata": {
      "needs_background": "light"
     },
     "output_type": "display_data"
    }
   ],
   "source": [
    "from pylab import plt\n",
    "plt.style.use('seaborn')\n",
    "%matplotlib inline\n",
    "data = con.get_candles('EUR/USD', period='D1',\n",
    "                       columns=['askclose'], number=500)\n",
    "\n",
    "data.plot(figsize=(10, 6), lw=0.8);\n",
    "#eurusd za 500 posledních dní :)"
   ]
  },
  {
   "cell_type": "markdown",
   "metadata": {},
   "source": [
    "## Real time data"
   ]
  },
  {
   "cell_type": "code",
   "execution_count": 54,
   "metadata": {},
   "outputs": [],
   "source": [
    "con.subscribe_market_data('EUR/USD') #musím v podstatě subscriptnou abych mohl mít rt data"
   ]
  },
  {
   "cell_type": "code",
   "execution_count": 46,
   "metadata": {},
   "outputs": [
    {
     "data": {
      "text/plain": [
       "['EUR/USD']"
      ]
     },
     "execution_count": 46,
     "metadata": {},
     "output_type": "execute_result"
    }
   ],
   "source": [
    "con.get_subscribed_symbols() # jen ukáže co mám sub.."
   ]
  },
  {
   "cell_type": "code",
   "execution_count": 47,
   "metadata": {},
   "outputs": [
    {
     "data": {
      "text/plain": [
       "True"
      ]
     },
     "execution_count": 47,
     "metadata": {},
     "output_type": "execute_result"
    }
   ],
   "source": [
    "con.is_subscribed('EUR/USD') #klasika"
   ]
  },
  {
   "cell_type": "code",
   "execution_count": 52,
   "metadata": {},
   "outputs": [
    {
     "data": {
      "text/html": [
       "<div>\n",
       "<style scoped>\n",
       "    .dataframe tbody tr th:only-of-type {\n",
       "        vertical-align: middle;\n",
       "    }\n",
       "\n",
       "    .dataframe tbody tr th {\n",
       "        vertical-align: top;\n",
       "    }\n",
       "\n",
       "    .dataframe thead th {\n",
       "        text-align: right;\n",
       "    }\n",
       "</style>\n",
       "<table border=\"1\" class=\"dataframe\">\n",
       "  <thead>\n",
       "    <tr style=\"text-align: right;\">\n",
       "      <th></th>\n",
       "      <th>Bid</th>\n",
       "      <th>Ask</th>\n",
       "      <th>High</th>\n",
       "      <th>Low</th>\n",
       "    </tr>\n",
       "  </thead>\n",
       "  <tbody>\n",
       "    <tr>\n",
       "      <th>2022-01-07 12:22:42.152</th>\n",
       "      <td>1.12989</td>\n",
       "      <td>1.13000</td>\n",
       "      <td>1.13198</td>\n",
       "      <td>1.12894</td>\n",
       "    </tr>\n",
       "    <tr>\n",
       "      <th>2022-01-07 12:22:43.028</th>\n",
       "      <td>1.12989</td>\n",
       "      <td>1.12999</td>\n",
       "      <td>1.13198</td>\n",
       "      <td>1.12894</td>\n",
       "    </tr>\n",
       "    <tr>\n",
       "      <th>2022-01-07 12:22:43.949</th>\n",
       "      <td>1.12988</td>\n",
       "      <td>1.12999</td>\n",
       "      <td>1.13198</td>\n",
       "      <td>1.12894</td>\n",
       "    </tr>\n",
       "    <tr>\n",
       "      <th>2022-01-07 12:22:50.786</th>\n",
       "      <td>1.12989</td>\n",
       "      <td>1.13001</td>\n",
       "      <td>1.13198</td>\n",
       "      <td>1.12894</td>\n",
       "    </tr>\n",
       "    <tr>\n",
       "      <th>2022-01-07 12:22:51.767</th>\n",
       "      <td>1.12988</td>\n",
       "      <td>1.13000</td>\n",
       "      <td>1.13198</td>\n",
       "      <td>1.12894</td>\n",
       "    </tr>\n",
       "  </tbody>\n",
       "</table>\n",
       "</div>"
      ],
      "text/plain": [
       "                             Bid      Ask     High      Low\n",
       "2022-01-07 12:22:42.152  1.12989  1.13000  1.13198  1.12894\n",
       "2022-01-07 12:22:43.028  1.12989  1.12999  1.13198  1.12894\n",
       "2022-01-07 12:22:43.949  1.12988  1.12999  1.13198  1.12894\n",
       "2022-01-07 12:22:50.786  1.12989  1.13001  1.13198  1.12894\n",
       "2022-01-07 12:22:51.767  1.12988  1.13000  1.13198  1.12894"
      ]
     },
     "execution_count": 52,
     "metadata": {},
     "output_type": "execute_result"
    }
   ],
   "source": [
    "con.get_prices('EUR/USD').tail() #dává aktuální data v tomto oklamžiku - mikro rozdíly :D"
   ]
  },
  {
   "cell_type": "code",
   "execution_count": 56,
   "metadata": {},
   "outputs": [],
   "source": [
    "con.unsubscribe_market_data('EUR/USD') #jen že už nechci  "
   ]
  },
  {
   "cell_type": "markdown",
   "metadata": {},
   "source": [
    "# Data tables"
   ]
  },
  {
   "cell_type": "code",
   "execution_count": 59,
   "metadata": {},
   "outputs": [
    {
     "data": {
      "text/html": [
       "<div>\n",
       "<style scoped>\n",
       "    .dataframe tbody tr th:only-of-type {\n",
       "        vertical-align: middle;\n",
       "    }\n",
       "\n",
       "    .dataframe tbody tr th {\n",
       "        vertical-align: top;\n",
       "    }\n",
       "\n",
       "    .dataframe thead th {\n",
       "        text-align: right;\n",
       "    }\n",
       "</style>\n",
       "<table border=\"1\" class=\"dataframe\">\n",
       "  <thead>\n",
       "    <tr style=\"text-align: right;\">\n",
       "      <th></th>\n",
       "      <th>0</th>\n",
       "    </tr>\n",
       "  </thead>\n",
       "  <tbody>\n",
       "    <tr>\n",
       "      <th>t</th>\n",
       "      <td>6</td>\n",
       "    </tr>\n",
       "    <tr>\n",
       "      <th>ratePrecision</th>\n",
       "      <td>0</td>\n",
       "    </tr>\n",
       "    <tr>\n",
       "      <th>accountId</th>\n",
       "      <td>877149</td>\n",
       "    </tr>\n",
       "    <tr>\n",
       "      <th>balance</th>\n",
       "      <td>50000</td>\n",
       "    </tr>\n",
       "    <tr>\n",
       "      <th>usdMr</th>\n",
       "      <td>0</td>\n",
       "    </tr>\n",
       "    <tr>\n",
       "      <th>mc</th>\n",
       "      <td>N</td>\n",
       "    </tr>\n",
       "    <tr>\n",
       "      <th>mcDate</th>\n",
       "      <td></td>\n",
       "    </tr>\n",
       "    <tr>\n",
       "      <th>accountName</th>\n",
       "      <td>00877149</td>\n",
       "    </tr>\n",
       "    <tr>\n",
       "      <th>usdMr3</th>\n",
       "      <td>0</td>\n",
       "    </tr>\n",
       "    <tr>\n",
       "      <th>hedging</th>\n",
       "      <td>Y</td>\n",
       "    </tr>\n",
       "    <tr>\n",
       "      <th>usableMargin3</th>\n",
       "      <td>50000</td>\n",
       "    </tr>\n",
       "    <tr>\n",
       "      <th>usableMarginPerc</th>\n",
       "      <td>100</td>\n",
       "    </tr>\n",
       "    <tr>\n",
       "      <th>usableMargin3Perc</th>\n",
       "      <td>100</td>\n",
       "    </tr>\n",
       "    <tr>\n",
       "      <th>equity</th>\n",
       "      <td>50000</td>\n",
       "    </tr>\n",
       "    <tr>\n",
       "      <th>usableMargin</th>\n",
       "      <td>50000</td>\n",
       "    </tr>\n",
       "    <tr>\n",
       "      <th>bus</th>\n",
       "      <td>1000</td>\n",
       "    </tr>\n",
       "    <tr>\n",
       "      <th>dayPL</th>\n",
       "      <td>0</td>\n",
       "    </tr>\n",
       "    <tr>\n",
       "      <th>grossPL</th>\n",
       "      <td>0</td>\n",
       "    </tr>\n",
       "  </tbody>\n",
       "</table>\n",
       "</div>"
      ],
      "text/plain": [
       "                          0\n",
       "t                         6\n",
       "ratePrecision             0\n",
       "accountId            877149\n",
       "balance               50000\n",
       "usdMr                     0\n",
       "mc                        N\n",
       "mcDate                     \n",
       "accountName        00877149\n",
       "usdMr3                    0\n",
       "hedging                   Y\n",
       "usableMargin3         50000\n",
       "usableMarginPerc        100\n",
       "usableMargin3Perc       100\n",
       "equity                50000\n",
       "usableMargin          50000\n",
       "bus                    1000\n",
       "dayPL                     0\n",
       "grossPL                   0"
      ]
     },
     "execution_count": 59,
     "metadata": {},
     "output_type": "execute_result"
    }
   ],
   "source": [
    "con.get_accounts().T #informace o účtu - tak nějak nezbytnost pro money management"
   ]
  },
  {
   "cell_type": "code",
   "execution_count": 61,
   "metadata": {},
   "outputs": [
    {
     "data": {
      "text/html": [
       "<div>\n",
       "<style scoped>\n",
       "    .dataframe tbody tr th:only-of-type {\n",
       "        vertical-align: middle;\n",
       "    }\n",
       "\n",
       "    .dataframe tbody tr th {\n",
       "        vertical-align: top;\n",
       "    }\n",
       "\n",
       "    .dataframe thead th {\n",
       "        text-align: right;\n",
       "    }\n",
       "</style>\n",
       "<table border=\"1\" class=\"dataframe\">\n",
       "  <thead>\n",
       "    <tr style=\"text-align: right;\">\n",
       "      <th></th>\n",
       "      <th>t</th>\n",
       "      <th>ratePrecision</th>\n",
       "      <th>offerId</th>\n",
       "      <th>rollB</th>\n",
       "      <th>rollS</th>\n",
       "      <th>fractionDigits</th>\n",
       "      <th>pip</th>\n",
       "      <th>defaultSortOrder</th>\n",
       "      <th>currency</th>\n",
       "      <th>instrumentType</th>\n",
       "      <th>...</th>\n",
       "      <th>volume</th>\n",
       "      <th>pipFraction</th>\n",
       "      <th>spread</th>\n",
       "      <th>mmr</th>\n",
       "      <th>emr</th>\n",
       "      <th>lmr</th>\n",
       "      <th>minQuantity</th>\n",
       "      <th>maxQuantity</th>\n",
       "      <th>instrBaseUnitSize</th>\n",
       "      <th>pipCost</th>\n",
       "    </tr>\n",
       "  </thead>\n",
       "  <tbody>\n",
       "    <tr>\n",
       "      <th>0</th>\n",
       "      <td>0</td>\n",
       "      <td>3</td>\n",
       "      <td>2</td>\n",
       "      <td>0.0000</td>\n",
       "      <td>0.0000</td>\n",
       "      <td>3</td>\n",
       "      <td>0.0100</td>\n",
       "      <td>950</td>\n",
       "      <td>USD/JPY</td>\n",
       "      <td>1</td>\n",
       "      <td>...</td>\n",
       "      <td>0.00637</td>\n",
       "      <td>0.1</td>\n",
       "      <td>1.2</td>\n",
       "      <td>29.97</td>\n",
       "      <td>29.97</td>\n",
       "      <td>14.985</td>\n",
       "      <td>1</td>\n",
       "      <td>50000000</td>\n",
       "      <td>1</td>\n",
       "      <td>0.06377</td>\n",
       "    </tr>\n",
       "    <tr>\n",
       "      <th>1</th>\n",
       "      <td>0</td>\n",
       "      <td>5</td>\n",
       "      <td>3</td>\n",
       "      <td>0.0148</td>\n",
       "      <td>-0.0361</td>\n",
       "      <td>5</td>\n",
       "      <td>0.0001</td>\n",
       "      <td>250</td>\n",
       "      <td>GBP/USD</td>\n",
       "      <td>1</td>\n",
       "      <td>...</td>\n",
       "      <td>1.00000</td>\n",
       "      <td>0.1</td>\n",
       "      <td>1.6</td>\n",
       "      <td>33.30</td>\n",
       "      <td>33.30</td>\n",
       "      <td>16.650</td>\n",
       "      <td>1</td>\n",
       "      <td>50000000</td>\n",
       "      <td>1</td>\n",
       "      <td>0.07384</td>\n",
       "    </tr>\n",
       "    <tr>\n",
       "      <th>2</th>\n",
       "      <td>0</td>\n",
       "      <td>5</td>\n",
       "      <td>4</td>\n",
       "      <td>0.1114</td>\n",
       "      <td>-0.2486</td>\n",
       "      <td>5</td>\n",
       "      <td>0.0001</td>\n",
       "      <td>1250</td>\n",
       "      <td>USD/CHF</td>\n",
       "      <td>1</td>\n",
       "      <td>...</td>\n",
       "      <td>0.80008</td>\n",
       "      <td>0.1</td>\n",
       "      <td>1.3</td>\n",
       "      <td>29.97</td>\n",
       "      <td>29.97</td>\n",
       "      <td>14.985</td>\n",
       "      <td>1</td>\n",
       "      <td>50000000</td>\n",
       "      <td>1</td>\n",
       "      <td>0.08005</td>\n",
       "    </tr>\n",
       "    <tr>\n",
       "      <th>3</th>\n",
       "      <td>0</td>\n",
       "      <td>5</td>\n",
       "      <td>5</td>\n",
       "      <td>0.0258</td>\n",
       "      <td>-0.0863</td>\n",
       "      <td>5</td>\n",
       "      <td>0.0001</td>\n",
       "      <td>1450</td>\n",
       "      <td>EUR/CHF</td>\n",
       "      <td>1</td>\n",
       "      <td>...</td>\n",
       "      <td>0.80008</td>\n",
       "      <td>0.1</td>\n",
       "      <td>2.9</td>\n",
       "      <td>33.30</td>\n",
       "      <td>33.30</td>\n",
       "      <td>16.650</td>\n",
       "      <td>1</td>\n",
       "      <td>50000000</td>\n",
       "      <td>1</td>\n",
       "      <td>0.08005</td>\n",
       "    </tr>\n",
       "    <tr>\n",
       "      <th>4</th>\n",
       "      <td>0</td>\n",
       "      <td>5</td>\n",
       "      <td>6</td>\n",
       "      <td>-0.0184</td>\n",
       "      <td>0.0037</td>\n",
       "      <td>5</td>\n",
       "      <td>0.0001</td>\n",
       "      <td>1350</td>\n",
       "      <td>AUD/USD</td>\n",
       "      <td>1</td>\n",
       "      <td>...</td>\n",
       "      <td>0.73788</td>\n",
       "      <td>0.1</td>\n",
       "      <td>1.7</td>\n",
       "      <td>30.00</td>\n",
       "      <td>30.00</td>\n",
       "      <td>15.000</td>\n",
       "      <td>1</td>\n",
       "      <td>50000000</td>\n",
       "      <td>1</td>\n",
       "      <td>0.07384</td>\n",
       "    </tr>\n",
       "  </tbody>\n",
       "</table>\n",
       "<p>5 rows × 28 columns</p>\n",
       "</div>"
      ],
      "text/plain": [
       "   t  ratePrecision  offerId   rollB   rollS  fractionDigits     pip  \\\n",
       "0  0              3        2  0.0000  0.0000               3  0.0100   \n",
       "1  0              5        3  0.0148 -0.0361               5  0.0001   \n",
       "2  0              5        4  0.1114 -0.2486               5  0.0001   \n",
       "3  0              5        5  0.0258 -0.0863               5  0.0001   \n",
       "4  0              5        6 -0.0184  0.0037               5  0.0001   \n",
       "\n",
       "   defaultSortOrder currency  instrumentType  ...   volume pipFraction  \\\n",
       "0               950  USD/JPY               1  ...  0.00637         0.1   \n",
       "1               250  GBP/USD               1  ...  1.00000         0.1   \n",
       "2              1250  USD/CHF               1  ...  0.80008         0.1   \n",
       "3              1450  EUR/CHF               1  ...  0.80008         0.1   \n",
       "4              1350  AUD/USD               1  ...  0.73788         0.1   \n",
       "\n",
       "   spread    mmr    emr     lmr  minQuantity  maxQuantity  instrBaseUnitSize  \\\n",
       "0     1.2  29.97  29.97  14.985            1     50000000                  1   \n",
       "1     1.6  33.30  33.30  16.650            1     50000000                  1   \n",
       "2     1.3  29.97  29.97  14.985            1     50000000                  1   \n",
       "3     2.9  33.30  33.30  16.650            1     50000000                  1   \n",
       "4     1.7  30.00  30.00  15.000            1     50000000                  1   \n",
       "\n",
       "   pipCost  \n",
       "0  0.06377  \n",
       "1  0.07384  \n",
       "2  0.08005  \n",
       "3  0.08005  \n",
       "4  0.07384  \n",
       "\n",
       "[5 rows x 28 columns]"
      ]
     },
     "execution_count": 61,
     "metadata": {},
     "output_type": "execute_result"
    }
   ],
   "source": [
    "con.get_offers(kind='dataframe').head() #prostě jan aktuální nabídky .."
   ]
  },
  {
   "cell_type": "code",
   "execution_count": 62,
   "metadata": {},
   "outputs": [
    {
     "data": {
      "text/plain": [
       "[]"
      ]
     },
     "execution_count": 62,
     "metadata": {},
     "output_type": "execute_result"
    }
   ],
   "source": [
    "con.get_open_positions(kind='list') #aktuálně otevřené pozice ..žádné :D"
   ]
  },
  {
   "cell_type": "code",
   "execution_count": 63,
   "metadata": {},
   "outputs": [
    {
     "data": {
      "text/html": [
       "<div>\n",
       "<style scoped>\n",
       "    .dataframe tbody tr th:only-of-type {\n",
       "        vertical-align: middle;\n",
       "    }\n",
       "\n",
       "    .dataframe tbody tr th {\n",
       "        vertical-align: top;\n",
       "    }\n",
       "\n",
       "    .dataframe thead th {\n",
       "        text-align: right;\n",
       "    }\n",
       "</style>\n",
       "<table border=\"1\" class=\"dataframe\">\n",
       "  <thead>\n",
       "    <tr style=\"text-align: right;\">\n",
       "      <th></th>\n",
       "    </tr>\n",
       "  </thead>\n",
       "  <tbody>\n",
       "  </tbody>\n",
       "</table>\n",
       "</div>"
      ],
      "text/plain": [
       "Empty DataFrame\n",
       "Columns: []\n",
       "Index: []"
      ]
     },
     "execution_count": 63,
     "metadata": {},
     "output_type": "execute_result"
    }
   ],
   "source": [
    "con.get_closed_positions(kind='dataframe').T #překvapivě"
   ]
  },
  {
   "cell_type": "code",
   "execution_count": 64,
   "metadata": {},
   "outputs": [
    {
     "data": {
      "text/html": [
       "<div>\n",
       "<style scoped>\n",
       "    .dataframe tbody tr th:only-of-type {\n",
       "        vertical-align: middle;\n",
       "    }\n",
       "\n",
       "    .dataframe tbody tr th {\n",
       "        vertical-align: top;\n",
       "    }\n",
       "\n",
       "    .dataframe thead th {\n",
       "        text-align: right;\n",
       "    }\n",
       "</style>\n",
       "<table border=\"1\" class=\"dataframe\">\n",
       "  <thead>\n",
       "    <tr style=\"text-align: right;\">\n",
       "      <th></th>\n",
       "    </tr>\n",
       "  </thead>\n",
       "  <tbody>\n",
       "  </tbody>\n",
       "</table>\n",
       "</div>"
      ],
      "text/plain": [
       "Empty DataFrame\n",
       "Columns: []\n",
       "Index: []"
      ]
     },
     "execution_count": 64,
     "metadata": {},
     "output_type": "execute_result"
    }
   ],
   "source": [
    "con.get_orders().T #otevřené pozice ..žádné :)"
   ]
  },
  {
   "cell_type": "code",
   "execution_count": 67,
   "metadata": {},
   "outputs": [
    {
     "data": {
      "text/html": [
       "<div>\n",
       "<style scoped>\n",
       "    .dataframe tbody tr th:only-of-type {\n",
       "        vertical-align: middle;\n",
       "    }\n",
       "\n",
       "    .dataframe tbody tr th {\n",
       "        vertical-align: top;\n",
       "    }\n",
       "\n",
       "    .dataframe thead th {\n",
       "        text-align: right;\n",
       "    }\n",
       "</style>\n",
       "<table border=\"1\" class=\"dataframe\">\n",
       "  <thead>\n",
       "    <tr style=\"text-align: right;\">\n",
       "      <th></th>\n",
       "      <th>0</th>\n",
       "    </tr>\n",
       "  </thead>\n",
       "  <tbody>\n",
       "    <tr>\n",
       "      <th>t</th>\n",
       "      <td>1</td>\n",
       "    </tr>\n",
       "    <tr>\n",
       "      <th>ratePrecision</th>\n",
       "      <td>0</td>\n",
       "    </tr>\n",
       "    <tr>\n",
       "      <th>tradeId</th>\n",
       "      <td></td>\n",
       "    </tr>\n",
       "    <tr>\n",
       "      <th>accountName</th>\n",
       "      <td></td>\n",
       "    </tr>\n",
       "    <tr>\n",
       "      <th>accountId</th>\n",
       "      <td></td>\n",
       "    </tr>\n",
       "    <tr>\n",
       "      <th>roll</th>\n",
       "      <td>0</td>\n",
       "    </tr>\n",
       "    <tr>\n",
       "      <th>com</th>\n",
       "      <td>0</td>\n",
       "    </tr>\n",
       "    <tr>\n",
       "      <th>open</th>\n",
       "      <td>0</td>\n",
       "    </tr>\n",
       "    <tr>\n",
       "      <th>valueDate</th>\n",
       "      <td></td>\n",
       "    </tr>\n",
       "    <tr>\n",
       "      <th>grossPL</th>\n",
       "      <td>0</td>\n",
       "    </tr>\n",
       "    <tr>\n",
       "      <th>close</th>\n",
       "      <td>0</td>\n",
       "    </tr>\n",
       "    <tr>\n",
       "      <th>visiblePL</th>\n",
       "      <td>0</td>\n",
       "    </tr>\n",
       "    <tr>\n",
       "      <th>isDisabled</th>\n",
       "      <td>False</td>\n",
       "    </tr>\n",
       "    <tr>\n",
       "      <th>currency</th>\n",
       "      <td></td>\n",
       "    </tr>\n",
       "    <tr>\n",
       "      <th>isBuy</th>\n",
       "      <td>False</td>\n",
       "    </tr>\n",
       "    <tr>\n",
       "      <th>amountK</th>\n",
       "      <td>0</td>\n",
       "    </tr>\n",
       "    <tr>\n",
       "      <th>currencyPoint</th>\n",
       "      <td>0</td>\n",
       "    </tr>\n",
       "    <tr>\n",
       "      <th>time</th>\n",
       "      <td>None</td>\n",
       "    </tr>\n",
       "    <tr>\n",
       "      <th>usedMargin</th>\n",
       "      <td>0</td>\n",
       "    </tr>\n",
       "    <tr>\n",
       "      <th>stop</th>\n",
       "      <td>0</td>\n",
       "    </tr>\n",
       "    <tr>\n",
       "      <th>stopMove</th>\n",
       "      <td>0</td>\n",
       "    </tr>\n",
       "    <tr>\n",
       "      <th>limit</th>\n",
       "      <td>0</td>\n",
       "    </tr>\n",
       "    <tr>\n",
       "      <th>isTotal</th>\n",
       "      <td>True</td>\n",
       "    </tr>\n",
       "  </tbody>\n",
       "</table>\n",
       "</div>"
      ],
      "text/plain": [
       "                   0\n",
       "t                  1\n",
       "ratePrecision      0\n",
       "tradeId             \n",
       "accountName         \n",
       "accountId           \n",
       "roll               0\n",
       "com                0\n",
       "open               0\n",
       "valueDate           \n",
       "grossPL            0\n",
       "close              0\n",
       "visiblePL          0\n",
       "isDisabled     False\n",
       "currency            \n",
       "isBuy          False\n",
       "amountK            0\n",
       "currencyPoint      0\n",
       "time            None\n",
       "usedMargin         0\n",
       "stop               0\n",
       "stopMove           0\n",
       "limit              0\n",
       "isTotal         True"
      ]
     },
     "execution_count": 67,
     "metadata": {},
     "output_type": "execute_result"
    }
   ],
   "source": [
    "con.get_open_positions_summary().T #jen souhr jak si daří více pozic naráz"
   ]
  },
  {
   "cell_type": "code",
   "execution_count": 68,
   "metadata": {},
   "outputs": [],
   "source": [
    "#netřeba pořád opakovat\n",
    "#con.get_closed_positions_summary().T \n",
    "#con.get_accounts_summary().T\n",
    "#con.get_summary().T"
   ]
  },
  {
   "cell_type": "markdown",
   "metadata": {},
   "source": [
    "# POKLÁDÁNÍ OBJEDNÁVEK"
   ]
  },
  {
   "cell_type": "code",
   "execution_count": 69,
   "metadata": {},
   "outputs": [],
   "source": [
    "#otevřené ob = con.get_open_positions().T"
   ]
  },
  {
   "cell_type": "code",
   "execution_count": 70,
   "metadata": {},
   "outputs": [],
   "source": [
    "#jednoduchá tvorba ob\n",
    "#order = con.create_market_sell_order('EUR/USD', 100)\n",
    "#order = con.create_market_buy_order('USD/JPY', 200)"
   ]
  },
  {
   "cell_type": "code",
   "execution_count": 71,
   "metadata": {
    "scrolled": true
   },
   "outputs": [
    {
     "data": {
      "text/plain": [
       "\"order = con.open_trade(symbol='USD/JPY', is_buy=True,\\n                       rate=105, is_in_pips=False,\\n                       amount='1000', time_in_force='GTC',\\n                       order_type='AtMarket', limit=120)\""
      ]
     },
     "execution_count": 71,
     "metadata": {},
     "output_type": "execute_result"
    }
   ],
   "source": [
    "\"\"\"order = con.open_trade(symbol='USD/JPY', is_buy=True,\n",
    "                       rate=105, is_in_pips=False,\n",
    "                       amount='1000', time_in_force='GTC',\n",
    "                       order_type='AtMarket', limit=120)\"\"\"\n",
    "#PROČÍST DOKUMENTACE PRO ZAPSÁNÍ ...SYSTÉM NA VÝPOČET PIPŮ APOD. -> TOHLE UŽ CHCE MÍT VYLADĚNÉ "
   ]
  },
  {
   "cell_type": "markdown",
   "metadata": {},
   "source": [
    "ZAVÍRAT OB DLE ID!"
   ]
  },
  {
   "cell_type": "code",
   "execution_count": 72,
   "metadata": {},
   "outputs": [],
   "source": [
    "#con.get_open_positions().T\n",
    "#con.get_open_positions()['tradeId']\n",
    "#con.get_open_trade_ids()\n",
    "#con.get_all_trade_ids()\n",
    "#tradeId = con.get_open_trade_ids()[-1]\n",
    "#con.change_trade_stop_limit(tradeId, is_in_pips=False,\n",
    "#                            is_stop=False, rate=115)\n",
    "#\n",
    "#con.get_open_positions().T\n",
    "#con.close_trade(trade_id=tradeId, amount=1000)\n",
    "#con.close_all_for_symbol('EUR/USD')"
   ]
  },
  {
   "cell_type": "markdown",
   "metadata": {},
   "source": [
    "https://www.fxcm.com/fxcmpy/06_entry_orders.html - ENTRY ORDER -> MOC NECHÁPU K ČEMU :)"
   ]
  },
  {
   "cell_type": "markdown",
   "metadata": {},
   "source": [
    "# THE END...lest begin"
   ]
  }
 ],
 "metadata": {
  "kernelspec": {
   "display_name": "Python 3",
   "language": "python",
   "name": "python3"
  },
  "language_info": {
   "codemirror_mode": {
    "name": "ipython",
    "version": 3
   },
   "file_extension": ".py",
   "mimetype": "text/x-python",
   "name": "python",
   "nbconvert_exporter": "python",
   "pygments_lexer": "ipython3",
   "version": "3.7.6"
  }
 },
 "nbformat": 4,
 "nbformat_minor": 4
}
