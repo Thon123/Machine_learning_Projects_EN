{
 "cells": [
  {
   "cell_type": "markdown",
   "metadata": {},
   "source": [
    "# The Iris Data Set basics"
   ]
  },
  {
   "cell_type": "markdown",
   "metadata": {},
   "source": [
    "## Introduction"
   ]
  },
  {
   "cell_type": "markdown",
   "metadata": {},
   "source": [
    "Well known Iris Data set, one of the simplest data set for practicing machine learning. The data has only 150 rows & 4 columns. Lets dive more into i."
   ]
  },
  {
   "cell_type": "markdown",
   "metadata": {},
   "source": [
    "<b>Goal:</b>"
   ]
  },
  {
   "cell_type": "markdown",
   "metadata": {},
   "source": [
    "1. Predict the class of the flower based on available attributes."
   ]
  },
  {
   "cell_type": "markdown",
   "metadata": {},
   "source": [
    "<b>Agenda:</b>"
   ]
  },
  {
   "cell_type": "markdown",
   "metadata": {},
   "source": [
    "1. get the data and explore them to get an insight\n",
    "2. clean and prepare your data\n",
    "3. explore many different ML methods and chose the best one (or group of them)\n",
    "4. fine-tune your model/s\n",
    "5. present your solution -> skipped \n",
    "6. launch, monitor, and maintain your system - > skipped"
   ]
  },
  {
   "cell_type": "markdown",
   "metadata": {},
   "source": [
    "So this is a rough outline of how the project will be developed. Final version could by slightly different."
   ]
  },
  {
   "cell_type": "markdown",
   "metadata": {},
   "source": [
    "## Data exploration "
   ]
  },
  {
   "cell_type": "markdown",
   "metadata": {},
   "source": [
    "Basic imports, others will be imported as needed."
   ]
  },
  {
   "cell_type": "code",
   "execution_count": 1,
   "metadata": {},
   "outputs": [],
   "source": [
    "import numpy as np\n",
    "import pandas as pd\n",
    "import matplotlib.pyplot as plt \n",
    "import seaborn as sns\n",
    "%matplotlib inline"
   ]
  },
  {
   "cell_type": "markdown",
   "metadata": {},
   "source": [
    "<i><b> Loading data...</b></i>"
   ]
  },
  {
   "cell_type": "code",
   "execution_count": 2,
   "metadata": {},
   "outputs": [],
   "source": [
    "col_names = [\"sepal length\",\"sepal width\", \"petal length\", \"petal width\", \"label\"] #all my columns\n",
    "col_names_unlabeled = col_names[:-1] #without labels\n",
    "col_names_labels = col_names[-1:] #only labels"
   ]
  },
  {
   "cell_type": "code",
   "execution_count": 3,
   "metadata": {},
   "outputs": [
    {
     "data": {
      "text/html": [
       "<div>\n",
       "<style scoped>\n",
       "    .dataframe tbody tr th:only-of-type {\n",
       "        vertical-align: middle;\n",
       "    }\n",
       "\n",
       "    .dataframe tbody tr th {\n",
       "        vertical-align: top;\n",
       "    }\n",
       "\n",
       "    .dataframe thead th {\n",
       "        text-align: right;\n",
       "    }\n",
       "</style>\n",
       "<table border=\"1\" class=\"dataframe\">\n",
       "  <thead>\n",
       "    <tr style=\"text-align: right;\">\n",
       "      <th></th>\n",
       "      <th>sepal length</th>\n",
       "      <th>sepal width</th>\n",
       "      <th>petal length</th>\n",
       "      <th>petal width</th>\n",
       "      <th>label</th>\n",
       "    </tr>\n",
       "  </thead>\n",
       "  <tbody>\n",
       "    <tr>\n",
       "      <th>0</th>\n",
       "      <td>5.1</td>\n",
       "      <td>3.5</td>\n",
       "      <td>1.4</td>\n",
       "      <td>0.2</td>\n",
       "      <td>Iris-setosa</td>\n",
       "    </tr>\n",
       "    <tr>\n",
       "      <th>1</th>\n",
       "      <td>4.9</td>\n",
       "      <td>3.0</td>\n",
       "      <td>1.4</td>\n",
       "      <td>0.2</td>\n",
       "      <td>Iris-setosa</td>\n",
       "    </tr>\n",
       "    <tr>\n",
       "      <th>2</th>\n",
       "      <td>4.7</td>\n",
       "      <td>3.2</td>\n",
       "      <td>1.3</td>\n",
       "      <td>0.2</td>\n",
       "      <td>Iris-setosa</td>\n",
       "    </tr>\n",
       "    <tr>\n",
       "      <th>3</th>\n",
       "      <td>4.6</td>\n",
       "      <td>3.1</td>\n",
       "      <td>1.5</td>\n",
       "      <td>0.2</td>\n",
       "      <td>Iris-setosa</td>\n",
       "    </tr>\n",
       "    <tr>\n",
       "      <th>4</th>\n",
       "      <td>5.0</td>\n",
       "      <td>3.6</td>\n",
       "      <td>1.4</td>\n",
       "      <td>0.2</td>\n",
       "      <td>Iris-setosa</td>\n",
       "    </tr>\n",
       "  </tbody>\n",
       "</table>\n",
       "</div>"
      ],
      "text/plain": [
       "   sepal length  sepal width  petal length  petal width        label\n",
       "0           5.1          3.5           1.4          0.2  Iris-setosa\n",
       "1           4.9          3.0           1.4          0.2  Iris-setosa\n",
       "2           4.7          3.2           1.3          0.2  Iris-setosa\n",
       "3           4.6          3.1           1.5          0.2  Iris-setosa\n",
       "4           5.0          3.6           1.4          0.2  Iris-setosa"
      ]
     },
     "execution_count": 3,
     "metadata": {},
     "output_type": "execute_result"
    }
   ],
   "source": [
    "iris_data = pd.read_csv(\"iris.data\", names = col_names,\n",
    "                       header = None, index_col = False)\n",
    "iris_data.head()"
   ]
  },
  {
   "cell_type": "markdown",
   "metadata": {},
   "source": [
    "So we have our data with labels. It's time to get the better insight, a  goal is simple, be able to predict whether the flower is Setosa, Versicolour or Virginica, based on the sepal and petal length and width. Firstly what is the difference beetween two of them (meaning sepal and petal)."
   ]
  },
  {
   "cell_type": "markdown",
   "metadata": {},
   "source": [
    "![Loss](petal_vs_sepal.png)"
   ]
  },
  {
   "cell_type": "markdown",
   "metadata": {},
   "source": [
    "There is a clear difference beetween petal and sepal just by looking, but we need to be able to classify them based on their width and length, but as we can see on first image the difference between width and length and how they correspond with our classification aren't so clear and vice versa the second image is easily recognized. Let's look at some charts."
   ]
  },
  {
   "cell_type": "markdown",
   "metadata": {},
   "source": [
    "![Loss](sepal_vs_petal2.jpg)"
   ]
  },
  {
   "cell_type": "markdown",
   "metadata": {},
   "source": [
    "<i><b> Loading pairplot chart...</b></i>"
   ]
  },
  {
   "cell_type": "code",
   "execution_count": 4,
   "metadata": {},
   "outputs": [
    {
     "data": {
      "text/plain": [
       "<seaborn.axisgrid.PairGrid at 0x2a8593b8b50>"
      ]
     },
     "execution_count": 4,
     "metadata": {},
     "output_type": "execute_result"
    },
    {
     "data": {
      "image/png": "[encoded data removed]",
      "text/plain": [
       "<Figure size 823.5x720 with 20 Axes>"
      ]
     },
     "metadata": {
      "needs_background": "light"
     },
     "output_type": "display_data"
    }
   ],
   "source": [
    "sns.pairplot(iris_data, hue=\"label\")#hue for labels i guess it will be more explanatory"
   ]
  },
  {
   "cell_type": "markdown",
   "metadata": {},
   "source": [
    "After first look, here are my observations:"
   ]
  },
  {
   "cell_type": "markdown",
   "metadata": {},
   "source": [
    "- iris setosa is obviously an easy one :), i can easily say wheter it is or it is not an Iris-setosa just based on petal width and petal length\n",
    "- sepal length x sepal width is useless (virginca x versicolor)\n",
    "- but there is clearly a soft margin which we will have to accept, to be able to predict most of the results. For example, petal length and petal width looks promising in differentiating virginca and versicolor but it won't be possible without some misclassification (obviously)"
   ]
  },
  {
   "cell_type": "markdown",
   "metadata": {},
   "source": [
    "<i><b>Loading perason's correlation chart!...</b></i>"
   ]
  },
  {
   "cell_type": "code",
   "execution_count": 5,
   "metadata": {},
   "outputs": [],
   "source": [
    "pearsoncorr = iris_data.corr(method='pearson')"
   ]
  },
  {
   "cell_type": "code",
   "execution_count": 6,
   "metadata": {},
   "outputs": [
    {
     "data": {
      "text/plain": [
       "<matplotlib.axes._subplots.AxesSubplot at 0x2a85ea207c0>"
      ]
     },
     "execution_count": 6,
     "metadata": {},
     "output_type": "execute_result"
    },
    {
     "data": {
      "image/png": "[encoded data removed]",
      "text/plain": [
       "<Figure size 432x288 with 2 Axes>"
      ]
     },
     "metadata": {
      "needs_background": "light"
     },
     "output_type": "display_data"
    }
   ],
   "source": [
    "sns.heatmap(pearsoncorr, \n",
    "            xticklabels=pearsoncorr.columns,\n",
    "            yticklabels=pearsoncorr.columns,\n",
    "            cmap='RdBu_r',\n",
    "            annot=True,\n",
    "            linewidth=0.5)"
   ]
  },
  {
   "cell_type": "markdown",
   "metadata": {},
   "source": [
    "Honestly i have no idea how to interpret this chart, i mean it is easy to interpret, but i think there is nothing very useful. It is alwasy good to practice some plotting (definitely for me)."
   ]
  },
  {
   "cell_type": "markdown",
   "metadata": {},
   "source": [
    "That is all I need for now. Let's prepare my data."
   ]
  },
  {
   "cell_type": "markdown",
   "metadata": {},
   "source": [
    "## Data cleaning and preparation"
   ]
  },
  {
   "cell_type": "markdown",
   "metadata": {},
   "source": [
    "### Null Values"
   ]
  },
  {
   "cell_type": "markdown",
   "metadata": {},
   "source": [
    "<b><i> Preparing data... </i></b>"
   ]
  },
  {
   "cell_type": "code",
   "execution_count": 7,
   "metadata": {
    "scrolled": false
   },
   "outputs": [
    {
     "name": "stdout",
     "output_type": "stream",
     "text": [
      "<class 'pandas.core.frame.DataFrame'>\n",
      "RangeIndex: 150 entries, 0 to 149\n",
      "Data columns (total 5 columns):\n",
      " #   Column        Non-Null Count  Dtype  \n",
      "---  ------        --------------  -----  \n",
      " 0   sepal length  150 non-null    float64\n",
      " 1   sepal width   150 non-null    float64\n",
      " 2   petal length  150 non-null    float64\n",
      " 3   petal width   150 non-null    float64\n",
      " 4   label         150 non-null    object \n",
      "dtypes: float64(4), object(1)\n",
      "memory usage: 6.0+ KB\n"
     ]
    }
   ],
   "source": [
    "iris_data.info()"
   ]
  },
  {
   "cell_type": "code",
   "execution_count": 8,
   "metadata": {
    "scrolled": true
   },
   "outputs": [
    {
     "data": {
      "text/plain": [
       "<matplotlib.axes._subplots.AxesSubplot at 0x2a85ead5cd0>"
      ]
     },
     "execution_count": 8,
     "metadata": {},
     "output_type": "execute_result"
    },
    {
     "data": {
      "image/png": "[encoded data removed]",
      "text/plain": [
       "<Figure size 432x288 with 1 Axes>"
      ]
     },
     "metadata": {
      "needs_background": "light"
     },
     "output_type": "display_data"
    }
   ],
   "source": [
    "sns.heatmap(iris_data.isnull(),yticklabels=False,cbar=False, cmap='viridis')"
   ]
  },
  {
   "cell_type": "markdown",
   "metadata": {},
   "source": [
    "We don't have any null values, and data types are okay (we could do some changes but what's the point). To make our model more future proof, i think it is necessary to create a pipeline, which will fill null values with mean or median values."
   ]
  },
  {
   "cell_type": "code",
   "execution_count": 9,
   "metadata": {
    "scrolled": true
   },
   "outputs": [
    {
     "data": {
      "text/html": [
       "<div>\n",
       "<style scoped>\n",
       "    .dataframe tbody tr th:only-of-type {\n",
       "        vertical-align: middle;\n",
       "    }\n",
       "\n",
       "    .dataframe tbody tr th {\n",
       "        vertical-align: top;\n",
       "    }\n",
       "\n",
       "    .dataframe thead th {\n",
       "        text-align: right;\n",
       "    }\n",
       "</style>\n",
       "<table border=\"1\" class=\"dataframe\">\n",
       "  <thead>\n",
       "    <tr style=\"text-align: right;\">\n",
       "      <th></th>\n",
       "      <th>sepal length</th>\n",
       "      <th>sepal width</th>\n",
       "      <th>petal length</th>\n",
       "      <th>petal width</th>\n",
       "    </tr>\n",
       "  </thead>\n",
       "  <tbody>\n",
       "    <tr>\n",
       "      <th>count</th>\n",
       "      <td>150.000000</td>\n",
       "      <td>150.000000</td>\n",
       "      <td>150.000000</td>\n",
       "      <td>150.000000</td>\n",
       "    </tr>\n",
       "    <tr>\n",
       "      <th>mean</th>\n",
       "      <td>5.843333</td>\n",
       "      <td>3.054000</td>\n",
       "      <td>3.758667</td>\n",
       "      <td>1.198667</td>\n",
       "    </tr>\n",
       "    <tr>\n",
       "      <th>std</th>\n",
       "      <td>0.828066</td>\n",
       "      <td>0.433594</td>\n",
       "      <td>1.764420</td>\n",
       "      <td>0.763161</td>\n",
       "    </tr>\n",
       "    <tr>\n",
       "      <th>min</th>\n",
       "      <td>4.300000</td>\n",
       "      <td>2.000000</td>\n",
       "      <td>1.000000</td>\n",
       "      <td>0.100000</td>\n",
       "    </tr>\n",
       "    <tr>\n",
       "      <th>25%</th>\n",
       "      <td>5.100000</td>\n",
       "      <td>2.800000</td>\n",
       "      <td>1.600000</td>\n",
       "      <td>0.300000</td>\n",
       "    </tr>\n",
       "    <tr>\n",
       "      <th>50%</th>\n",
       "      <td>5.800000</td>\n",
       "      <td>3.000000</td>\n",
       "      <td>4.350000</td>\n",
       "      <td>1.300000</td>\n",
       "    </tr>\n",
       "    <tr>\n",
       "      <th>75%</th>\n",
       "      <td>6.400000</td>\n",
       "      <td>3.300000</td>\n",
       "      <td>5.100000</td>\n",
       "      <td>1.800000</td>\n",
       "    </tr>\n",
       "    <tr>\n",
       "      <th>max</th>\n",
       "      <td>7.900000</td>\n",
       "      <td>4.400000</td>\n",
       "      <td>6.900000</td>\n",
       "      <td>2.500000</td>\n",
       "    </tr>\n",
       "  </tbody>\n",
       "</table>\n",
       "</div>"
      ],
      "text/plain": [
       "       sepal length  sepal width  petal length  petal width\n",
       "count    150.000000   150.000000    150.000000   150.000000\n",
       "mean       5.843333     3.054000      3.758667     1.198667\n",
       "std        0.828066     0.433594      1.764420     0.763161\n",
       "min        4.300000     2.000000      1.000000     0.100000\n",
       "25%        5.100000     2.800000      1.600000     0.300000\n",
       "50%        5.800000     3.000000      4.350000     1.300000\n",
       "75%        6.400000     3.300000      5.100000     1.800000\n",
       "max        7.900000     4.400000      6.900000     2.500000"
      ]
     },
     "execution_count": 9,
     "metadata": {},
     "output_type": "execute_result"
    }
   ],
   "source": [
    "iris_data.describe()"
   ]
  },
  {
   "cell_type": "markdown",
   "metadata": {},
   "source": [
    "It looks also okay, maybe pedal width is a bit unusual. I will perform Standardscaler anyway. But now it would be irresponsible to miss an outlier check and other stuff, so baby steps first.<b> DUMB ALERT - all changes must be done only on train set<b>"
   ]
  },
  {
   "cell_type": "markdown",
   "metadata": {},
   "source": [
    "### Train Test"
   ]
  },
  {
   "cell_type": "markdown",
   "metadata": {},
   "source": [
    "***Creating train test...***"
   ]
  },
  {
   "cell_type": "markdown",
   "metadata": {},
   "source": [
    "Just for my personal eductional purpose, here is a really basic function for split."
   ]
  },
  {
   "cell_type": "code",
   "execution_count": 10,
   "metadata": {},
   "outputs": [],
   "source": [
    "def split_train_test(data, test_ration = 0.2):\n",
    "    shuffled_indices = np.random.permutation(len(data))\n",
    "    #we need to shuffle our data test\n",
    "    test_set_size = int(len(data)*test_ration)\n",
    "    test_indices = shuffled_indices[:test_set_size]\n",
    "    #test is from 0 - len(test_set_size) default 80%\n",
    "    train_indices = shuffled_indices[test_set_size:]\n",
    "    return data.iloc[train_indices], data.iloc[test_indices]\n",
    "#this is our function for train test split.."
   ]
  },
  {
   "cell_type": "code",
   "execution_count": 11,
   "metadata": {},
   "outputs": [],
   "source": [
    "#train_set, test_set = split_train_test(iris_data)"
   ]
  },
  {
   "cell_type": "markdown",
   "metadata": {},
   "source": [
    "But more effective is just use a scikit-learn. **Better to use StratifiedShuffleSplit**, labels are evenly distributed. Therefore we will automatically avoid sampling bias that way."
   ]
  },
  {
   "cell_type": "code",
   "execution_count": 12,
   "metadata": {},
   "outputs": [],
   "source": [
    "from sklearn.model_selection import StratifiedShuffleSplit"
   ]
  },
  {
   "cell_type": "code",
   "execution_count": 13,
   "metadata": {},
   "outputs": [],
   "source": [
    "split = StratifiedShuffleSplit(n_splits=1, test_size=0.3, random_state = 42)\n",
    "#just ona single split nothing else, test_size 0,3 - really small dataset"
   ]
  },
  {
   "cell_type": "code",
   "execution_count": 14,
   "metadata": {},
   "outputs": [],
   "source": [
    "for train_index, test_index in split.split(iris_data, iris_data[\"label\"]):\n",
    "    #[\"label\"] will be fine no need to change it..\n",
    "    train_set = iris_data.loc[train_index]\n",
    "    test_set = iris_data.loc[test_index]\n",
    "    #i am doing split from split "
   ]
  },
  {
   "cell_type": "code",
   "execution_count": 15,
   "metadata": {},
   "outputs": [
    {
     "data": {
      "text/plain": [
       "label\n",
       "Iris-setosa        35\n",
       "Iris-versicolor    35\n",
       "Iris-virginica     35\n",
       "dtype: int64"
      ]
     },
     "execution_count": 15,
     "metadata": {},
     "output_type": "execute_result"
    }
   ],
   "source": [
    "train_set.groupby(\"label\").size()"
   ]
  },
  {
   "cell_type": "markdown",
   "metadata": {},
   "source": [
    "Ok no we have our own train and test set, with same label proportions."
   ]
  },
  {
   "cell_type": "markdown",
   "metadata": {},
   "source": [
    "**TIP: it's better start with this at the beginning - doing insight already on train set and therefore avoid \"brain\" bias**. Brain bias meaning: to see the whole set and do unconsciously actions which leads to better results."
   ]
  },
  {
   "cell_type": "markdown",
   "metadata": {},
   "source": [
    "#### Recreating function for splitting"
   ]
  },
  {
   "cell_type": "markdown",
   "metadata": {},
   "source": [
    "My first approach is not very generic. So i will make a small function which will take care of basic splitting, I can then call it and have data available for my pipline."
   ]
  },
  {
   "cell_type": "code",
   "execution_count": 16,
   "metadata": {},
   "outputs": [],
   "source": [
    "def prepare_set(address, col_names, strat_label):\n",
    "    \"\"\"improt and split data\"\"\"\n",
    "    #import part\n",
    "    data_name = pd.read_csv(address, names = col_names,\n",
    "                           header = None, index_col = False)\n",
    "    \n",
    "    #splitting part\n",
    "    from sklearn.model_selection import StratifiedShuffleSplit\n",
    "    split = StratifiedShuffleSplit(n_splits=1, test_size=0.3, random_state = 42)\n",
    "    \n",
    "    for train_index, test_index in split.split(data_name, data_name[strat_label]):\n",
    "        train_set = data_name.loc[train_index]\n",
    "        test_set = data_name.loc[test_index]\n",
    "        #i am doing split from split \n",
    "    \n",
    "    X_train_set = train_set.iloc[:,:4]\n",
    "    y_train_set = train_set.iloc[:,-1:]\n",
    "    X_test_set = test_set.iloc[:,:4]\n",
    "    y_test_set = test_set.iloc[:,-1:]\n",
    "    \n",
    "    return X_train_set, y_train_set, X_test_set, y_test_set\n",
    "    \n",
    " "
   ]
  },
  {
   "cell_type": "code",
   "execution_count": 17,
   "metadata": {},
   "outputs": [],
   "source": [
    "col_names = [\"sepal length\",\"sepal width\", \"petal length\", \"petal width\", \"label\"]\n",
    "X_train_set, y_train_set, X_test_set, y_test_set = \\\n",
    "prepare_set(address = \"iris.data\", col_names = col_names, strat_label = \"label\" )"
   ]
  },
  {
   "cell_type": "code",
   "execution_count": 18,
   "metadata": {
    "scrolled": true
   },
   "outputs": [
    {
     "data": {
      "text/plain": [
       "(105, 105, 45, 45)"
      ]
     },
     "execution_count": 18,
     "metadata": {},
     "output_type": "execute_result"
    }
   ],
   "source": [
    "len(X_train_set), len(y_train_set), len(X_test_set), len(y_test_set)"
   ]
  },
  {
   "cell_type": "markdown",
   "metadata": {},
   "source": [
    "It is just to make my life a little easier. First caveat is that, it requiers to have the label at the end of my table, so it's not so generic but it's still better than nothing. I will improve this function in future :)."
   ]
  },
  {
   "cell_type": "markdown",
   "metadata": {},
   "source": [
    "### Outliers "
   ]
  },
  {
   "cell_type": "markdown",
   "metadata": {},
   "source": [
    "We could try to plot them but I would like to make something more generic. So the best options is using an IQR equation for calculating outliers and look if we cand find some outliers which meets the conditions."
   ]
  },
  {
   "cell_type": "code",
   "execution_count": 19,
   "metadata": {},
   "outputs": [],
   "source": [
    "Q1 = train_set[:-1].quantile(0.25)\n",
    "Q3 = train_set[:-1].quantile(0.75)\n",
    "IQR = Q3 - Q1 #just calculating our IQR"
   ]
  },
  {
   "cell_type": "code",
   "execution_count": 20,
   "metadata": {
    "scrolled": true
   },
   "outputs": [
    {
     "data": {
      "text/plain": [
       "sepal length    1.3\n",
       "sepal width     0.5\n",
       "petal length    3.5\n",
       "petal width     1.6\n",
       "dtype: float64"
      ]
     },
     "execution_count": 20,
     "metadata": {},
     "output_type": "execute_result"
    }
   ],
   "source": [
    "IQR #just calculating our IQR margin "
   ]
  },
  {
   "cell_type": "code",
   "execution_count": 21,
   "metadata": {
    "scrolled": true
   },
   "outputs": [],
   "source": [
    "outliers = train_set[(train_set[:-1] < (Q1 - 1.5 * IQR)) | (train_set[:-1] > (Q3 + 1.5 * IQR))]"
   ]
  },
  {
   "cell_type": "code",
   "execution_count": 22,
   "metadata": {
    "scrolled": true
   },
   "outputs": [
    {
     "data": {
      "text/plain": [
       "sepal length    0\n",
       "sepal width     4\n",
       "petal length    0\n",
       "petal width     0\n",
       "label           0\n",
       "dtype: int64"
      ]
     },
     "execution_count": 22,
     "metadata": {},
     "output_type": "execute_result"
    }
   ],
   "source": [
    "outliers.count()"
   ]
  },
  {
   "cell_type": "markdown",
   "metadata": {},
   "source": [
    "Our mask found out that there are 4 outliers based on sepal width. It could be a good idea to plot sepal width as a scatter lot to make sure that IQR metric evaluations make sense, at least from our view (using a common sense? - hmm hope is a dangerous thing :))."
   ]
  },
  {
   "cell_type": "code",
   "execution_count": 23,
   "metadata": {},
   "outputs": [
    {
     "data": {
      "text/plain": [
       "<matplotlib.axes._subplots.AxesSubplot at 0x2a85efe3b20>"
      ]
     },
     "execution_count": 23,
     "metadata": {},
     "output_type": "execute_result"
    },
    {
     "data": {
      "image/png": "[encoded data removed]",
      "text/plain": [
       "<Figure size 432x288 with 1 Axes>"
      ]
     },
     "metadata": {
      "needs_background": "light"
     },
     "output_type": "display_data"
    }
   ],
   "source": [
    "iris_data.plot.scatter('sepal width', 'label')"
   ]
  },
  {
   "cell_type": "markdown",
   "metadata": {},
   "source": [
    "Ok i think we can clearly see that we have some outliers here. It would be best to replace them with median (I think from stastistical point of view it is a better solution). If i am trying to deal with outliers, using mean would be double fail cause they are more affected by outlier values. Ofcourse in this dataset it probably doesn't matter, hence it does :)."
   ]
  },
  {
   "cell_type": "markdown",
   "metadata": {},
   "source": [
    "***A little recap about our data preparation.. ****"
   ]
  },
  {
   "cell_type": "markdown",
   "metadata": {},
   "source": [
    "1. We don't have any null values - but we need to take care about them anyway (they can pop up in a new dataset)\n",
    "2. Values are generally okay, but we will use standardscaler anyway (better for SVM)\n",
    "3. We need to split data using StratifiedShuffleSplit - it's just better :)\n",
    "4. Finally we have to care about outliers to replace them with median values (custom Transformer)"
   ]
  },
  {
   "cell_type": "markdown",
   "metadata": {},
   "source": [
    "And that is all, after that our data are ready to go."
   ]
  },
  {
   "cell_type": "markdown",
   "metadata": {},
   "source": [
    "<b><i>So, my pipline ordering should looked like this:</i></b>"
   ]
  },
  {
   "cell_type": "markdown",
   "metadata": {},
   "source": [
    "- replacing null values with median\n",
    "- splitting data\n",
    "- replacing outliers\n",
    "- using standardscaller to scale our data"
   ]
  },
  {
   "cell_type": "markdown",
   "metadata": {},
   "source": [
    "I am really not sure about this part hence the ordering or steps itself can be changed. I really have issue with ordering my pipline. From my point of view, null values are just the prior task, then i really have to split data cause i don't wanna scale or replace outliers on testing data because i could make my training data useless."
   ]
  },
  {
   "cell_type": "markdown",
   "metadata": {},
   "source": [
    "***Creating our custom transformer***"
   ]
  },
  {
   "cell_type": "markdown",
   "metadata": {},
   "source": [
    "Let's create a custom classifier for replacing Outliers, for now only using an IQR metric."
   ]
  },
  {
   "cell_type": "code",
   "execution_count": 24,
   "metadata": {},
   "outputs": [],
   "source": [
    "from sklearn.base import BaseEstimator\n",
    "from sklearn.base import TransformerMixin"
   ]
  },
  {
   "cell_type": "code",
   "execution_count": 110,
   "metadata": {},
   "outputs": [],
   "source": [
    "class OutlierDeleter(BaseEstimator, TransformerMixin):\n",
    "    \"\"\"Looking for outliers based on IQR outlier coefficient and replacing them\"\"\"\n",
    "    \n",
    "    def __init__(self, iqr_coef = 1.5):\n",
    "        \"\"\"1,5 is regulary used but i will leave that parameter to be an optional one\"\"\"\n",
    "        self.iqr_coef = iqr_coef\n",
    "    \n",
    "    def fit(self, X, y=None):\n",
    "        \"\"\"mndatory method for transformer\"\"\"\n",
    "        return self\n",
    "        #no need to care about this one\n",
    "        \n",
    "    def transform(self, training_set): #very often is used X - but i like this one better :)\n",
    "        \"\"\"Method wich replace outlier with median values\"\"\"\n",
    "        Q1 = training_set[:-1].quantile(0.25)\n",
    "        Q3 = training_set[:-1].quantile(0.75)\n",
    "        \n",
    "        IQR = Q3 - Q1 #just calculating our IQR\n",
    "        #Ok now we have calculated our Q1,Q3 and IQR so we can move on\n",
    "        \n",
    "        condition = training_set[(training_set[:-1] < (Q1 - 1.5 * IQR)) | (training_set[:-1] > (Q3 + 1.5 * IQR))]\n",
    "        #my condition for replacing outliers - looking is based on IQR coefficient for outliers..\n",
    "        \n",
    "        training_set = training_set.replace(condition, np.nan)\n",
    "        return training_set.values\n",
    "        #need to use .values to transform from pandas to numpy array\n",
    "        #simple imputer will take care of nan..."
   ]
  },
  {
   "cell_type": "markdown",
   "metadata": {},
   "source": [
    "Ok so this custom transformer should done it's job. It will find outliers based on IQR and replace them with nan values."
   ]
  },
  {
   "cell_type": "markdown",
   "metadata": {},
   "source": [
    "### Final pipline"
   ]
  },
  {
   "cell_type": "markdown",
   "metadata": {},
   "source": [
    "So now its time to pack everything together to have one simple pipeline which will do it's job. So our ordering is easy:"
   ]
  },
  {
   "cell_type": "markdown",
   "metadata": {},
   "source": [
    "1. load data, shuffle and make stratified shuffle\n",
    "2. detect outliers and change them to nan values\n",
    "3. use imputer to fill nan values with median\n",
    "4. use Standrdscaler to scale our data (probably not neede but why not?) "
   ]
  },
  {
   "cell_type": "code",
   "execution_count": 26,
   "metadata": {},
   "outputs": [],
   "source": [
    "from sklearn.preprocessing import StandardScaler\n",
    "from sklearn.pipeline import Pipeline\n",
    "from sklearn.impute import SimpleImputer"
   ]
  },
  {
   "cell_type": "code",
   "execution_count": 27,
   "metadata": {},
   "outputs": [],
   "source": [
    "col_names = [\"sepal length\",\"sepal width\", \"petal length\", \"petal width\", \"label\"]\n",
    "X_train_set, y_train_set, X_test_set, y_test_set = \\\n",
    "prepare_set(address = \"iris.data\", col_names = col_names, strat_label = \"label\" )"
   ]
  },
  {
   "cell_type": "code",
   "execution_count": 28,
   "metadata": {},
   "outputs": [],
   "source": [
    "iris_pipline = Pipeline([\n",
    "    (\"OutlierDeleter\", OutlierDeleter()),\n",
    "    (\"Imputer\", SimpleImputer(strategy=\"median\")),\n",
    "    (\"std_scaler\", StandardScaler()),\n",
    "])"
   ]
  },
  {
   "cell_type": "code",
   "execution_count": 29,
   "metadata": {},
   "outputs": [],
   "source": [
    "iris_data = iris_pipline.fit_transform(X_train_set)"
   ]
  },
  {
   "cell_type": "code",
   "execution_count": 30,
   "metadata": {},
   "outputs": [
    {
     "data": {
      "text/plain": [
       "array([[-0.90045861, -1.34280851, -0.44283471, -0.13515309],\n",
       "       [ 0.38036614, -2.1104758 ,  0.40257701,  0.38088597],\n",
       "       [-0.90045861,  1.98374977, -1.28824644, -1.1672312 ],\n",
       "       [ 1.07899781,  0.44841518,  1.19162795,  1.41296408],\n",
       "       [-0.20182693, -0.57514121,  0.17713389,  0.12286644]])"
      ]
     },
     "execution_count": 30,
     "metadata": {},
     "output_type": "execute_result"
    }
   ],
   "source": [
    "iris_data[:5]"
   ]
  },
  {
   "cell_type": "markdown",
   "metadata": {},
   "source": [
    "Our simple pipline seemed to be working just fine."
   ]
  },
  {
   "cell_type": "markdown",
   "metadata": {},
   "source": [
    "## ML - model exploration and hyperparameter tuning"
   ]
  },
  {
   "cell_type": "markdown",
   "metadata": {},
   "source": [
    "### ML exploration"
   ]
  },
  {
   "cell_type": "markdown",
   "metadata": {},
   "source": [
    "Final part, where i will try several models and choose the best one for hyperparameter tuning. Firstly some unnecessary imports."
   ]
  },
  {
   "cell_type": "code",
   "execution_count": 31,
   "metadata": {},
   "outputs": [],
   "source": [
    "from sklearn.svm import SVC, LinearSVC\n",
    "from sklearn.tree import DecisionTreeClassifier\n",
    "from sklearn.ensemble import RandomForestClassifier, AdaBoostClassifier, GradientBoostingClassifier\n",
    "from sklearn.metrics import confusion_matrix\n",
    "from sklearn.metrics import precision_recall_fscore_support"
   ]
  },
  {
   "cell_type": "markdown",
   "metadata": {},
   "source": [
    "So we will iterate through our classifiers and make some predictions. We can allow that, due to the small size of our samples. I could also try logistic regression (probably better for simplier model like this)....but i am really not focusing on result of my testing ..rather on processs"
   ]
  },
  {
   "cell_type": "code",
   "execution_count": 32,
   "metadata": {},
   "outputs": [],
   "source": [
    "classifiers = [\n",
    "    SVC(kernel=\"rbf\", C=0.025, probability=True),\n",
    "    DecisionTreeClassifier(),\n",
    "    RandomForestClassifier(),\n",
    "    AdaBoostClassifier(),\n",
    "    GradientBoostingClassifier()\n",
    "    ]\n",
    "#just a list with our classifiers"
   ]
  },
  {
   "cell_type": "code",
   "execution_count": 111,
   "metadata": {},
   "outputs": [
    {
     "name": "stdout",
     "output_type": "stream",
     "text": [
      "<class 'sklearn.svm._classes.SVC'>\n",
      "\n",
      "[[15  0  0]\n",
      " [ 0 13  2]\n",
      " [ 0  0 15]]\n",
      "(0.9607843137254902, 0.9555555555555556, 0.9553571428571429, None)\n",
      "\n",
      "<class 'sklearn.tree._classes.DecisionTreeClassifier'>\n",
      "\n",
      "[[15  0  0]\n",
      " [ 0 15  0]\n",
      " [ 0  2 13]]\n",
      "(0.9607843137254902, 0.9555555555555556, 0.9553571428571429, None)\n",
      "\n",
      "<class 'sklearn.ensemble._forest.RandomForestClassifier'>\n",
      "\n",
      "[[15  0  0]\n",
      " [ 0 15  0]\n",
      " [ 0  1 14]]\n",
      "(0.9791666666666666, 0.9777777777777777, 0.9777530589543938, None)\n",
      "\n",
      "<class 'sklearn.ensemble._weight_boosting.AdaBoostClassifier'>\n",
      "\n",
      "[[15  0  0]\n",
      " [ 0 15  0]\n",
      " [ 0  3 12]]\n",
      "(0.9444444444444444, 0.9333333333333333, 0.9326599326599326, None)\n",
      "\n",
      "<class 'sklearn.ensemble._gb.GradientBoostingClassifier'>\n",
      "\n",
      "[[15  0  0]\n",
      " [ 0 15  0]\n",
      " [ 0  2 13]]\n",
      "(0.9607843137254902, 0.9555555555555556, 0.9553571428571429, None)\n",
      "\n"
     ]
    }
   ],
   "source": [
    "for classifier in classifiers:\n",
    "    pipe = Pipeline(steps=[('iris_pipline', iris_pipline), #it just uses our pipline for data transformation\n",
    "                      ('classifier', classifier)]) #and our list of classifiers\n",
    "    pipe.fit(X_train_set, y_train_set.values.ravel()) #traning the model \n",
    "    y_pred = pipe.predict(X_test_set) #predict new values\n",
    "    #and print results of our testing...\n",
    "    print(f\"{type(classifier)}\\n\")\n",
    "    print(confusion_matrix(y_test_set, y_pred, labels=[\"Iris-setosa\", \"Iris-versicolor\", \"Iris-virginica\"]))\n",
    "    print(f\"{precision_recall_fscore_support(y_test_set, y_pred, average='weighted')}\\n\")"
   ]
  },
  {
   "cell_type": "markdown",
   "metadata": {},
   "source": [
    "From our confusion matrices we can see, that our predictions don't have any trouble with differentiating Setosa from Versicolor and Virginica. Every model is 100% successful. But as i expected our rate of successful classification is decreasing when the model should classificate wheter it is a versicolor or virginica. For better results it could be a good idea to firstly seperate setosa from others and then make a slightly different model for virginica and versicolor (probably..)."
   ]
  },
  {
   "cell_type": "markdown",
   "metadata": {},
   "source": [
    "### Tuning hyperparameter"
   ]
  },
  {
   "cell_type": "markdown",
   "metadata": {},
   "source": [
    "Lastly, it's time for hyperparameter tuning. I will use pipeline for that as well."
   ]
  },
  {
   "cell_type": "code",
   "execution_count": 74,
   "metadata": {},
   "outputs": [],
   "source": [
    "from sklearn.model_selection import GridSearchCV"
   ]
  },
  {
   "cell_type": "code",
   "execution_count": 95,
   "metadata": {},
   "outputs": [],
   "source": [
    "param_grid = { \n",
    "    'classifier__n_estimators': [100, 200],\n",
    "    'classifier__max_features': ['auto', 'sqrt', 'log2'],\n",
    "    'classifier__max_depth' : [4,5,6,7,8,9,10],\n",
    "    'classifier__criterion' :['gini', 'entropy'],\n",
    "    'classifier__bootstrap': [True, False],\n",
    "    'classifier__min_samples_leaf': [1, 2, 4],\n",
    "    'classifier__min_samples_split': [2, 4, 6],\n",
    "        }"
   ]
  },
  {
   "cell_type": "code",
   "execution_count": 96,
   "metadata": {},
   "outputs": [],
   "source": [
    "my_tuning = Pipeline(steps=[(('iris_pipline', iris_pipline)),\n",
    "                      ('classifier', RandomForestClassifier())])"
   ]
  },
  {
   "cell_type": "code",
   "execution_count": 97,
   "metadata": {},
   "outputs": [],
   "source": [
    "CV = GridSearchCV(my_tuning, param_grid, n_jobs= 1)"
   ]
  },
  {
   "cell_type": "code",
   "execution_count": 98,
   "metadata": {},
   "outputs": [
    {
     "name": "stdout",
     "output_type": "stream",
     "text": [
      "{'classifier__bootstrap': True, 'classifier__criterion': 'gini', 'classifier__max_depth': 8, 'classifier__max_features': 'auto', 'classifier__min_samples_leaf': 4, 'classifier__min_samples_split': 6, 'classifier__n_estimators': 200}\n",
      "0.9714285714285713\n"
     ]
    }
   ],
   "source": [
    "CV.fit(X_train_set, y_train_set.values.ravel())  \n",
    "print(CV.best_params_)    \n",
    "print(CV.best_score_)"
   ]
  },
  {
   "cell_type": "markdown",
   "metadata": {},
   "source": [
    "***Wait for it...*** "
   ]
  },
  {
   "cell_type": "markdown",
   "metadata": {},
   "source": [
    "Note: old i3 is really not a good CPU for this...It would be better doing this with ryzen. Why i am trying  to tune RandomForestClassifier? Well it had a really bad results in my previous testing, so i am very interesting how can it be improved with better hyperparameters."
   ]
  },
  {
   "cell_type": "code",
   "execution_count": 99,
   "metadata": {},
   "outputs": [],
   "source": [
    "forrest_final = Pipeline(steps=[('iris_pipline', iris_pipline),\n",
    "                      ('classifier', RandomForestClassifier(\n",
    "                      criterion = \"gini\",\n",
    "                      max_depth = 8,\n",
    "                      max_features = \"auto\",\n",
    "                      n_estimators = 200,\n",
    "                      min_samples_split = 6,\n",
    "                      min_samples_leaf = 4))])"
   ]
  },
  {
   "cell_type": "code",
   "execution_count": 100,
   "metadata": {},
   "outputs": [
    {
     "data": {
      "text/plain": [
       "Pipeline(memory=None,\n",
       "         steps=[('iris_pipline',\n",
       "                 Pipeline(memory=None,\n",
       "                          steps=[('OutlierDeleter',\n",
       "                                  OutlierDeleter(iqr_coef=1.5)),\n",
       "                                 ('Imputer',\n",
       "                                  SimpleImputer(add_indicator=False, copy=True,\n",
       "                                                fill_value=None,\n",
       "                                                missing_values=nan,\n",
       "                                                strategy='median', verbose=0)),\n",
       "                                 ('std_scaler',\n",
       "                                  StandardScaler(copy=True, with_mean=True,\n",
       "                                                 with_std=True))],\n",
       "                          verbose=False)),\n",
       "                ('classifier',\n",
       "                 RandomFor...p=True, ccp_alpha=0.0,\n",
       "                                        class_weight=None, criterion='gini',\n",
       "                                        max_depth=8, max_features='auto',\n",
       "                                        max_leaf_nodes=None, max_samples=None,\n",
       "                                        min_impurity_decrease=0.0,\n",
       "                                        min_impurity_split=None,\n",
       "                                        min_samples_leaf=4, min_samples_split=6,\n",
       "                                        min_weight_fraction_leaf=0.0,\n",
       "                                        n_estimators=200, n_jobs=None,\n",
       "                                        oob_score=False, random_state=None,\n",
       "                                        verbose=0, warm_start=False))],\n",
       "         verbose=False)"
      ]
     },
     "execution_count": 100,
     "metadata": {},
     "output_type": "execute_result"
    }
   ],
   "source": [
    "forrest_final.fit(X_train_set, y_train_set.values.ravel())"
   ]
  },
  {
   "cell_type": "code",
   "execution_count": 101,
   "metadata": {
    "scrolled": true
   },
   "outputs": [
    {
     "name": "stdout",
     "output_type": "stream",
     "text": [
      "[[15  0  0]\n",
      " [ 0 14  1]\n",
      " [ 0  3 12]]\n",
      "(0.9155354449472096, 0.9111111111111111, 0.9107142857142857, None)\n",
      "\n"
     ]
    }
   ],
   "source": [
    "y_pred = forrest_final.predict(X_test_set)\n",
    "print(confusion_matrix(y_test_set, y_pred, labels=[\"Iris-setosa\", \"Iris-versicolor\", \"Iris-virginica\"]))\n",
    "print(f\"{precision_recall_fscore_support(y_test_set, y_pred, average='weighted')}\\n\")"
   ]
  },
  {
   "cell_type": "markdown",
   "metadata": {},
   "source": [
    "Tuning our parameters make it slightly better, still randomforrest is not probably the best model for this data. It's too small and too simple for complicated algorithm."
   ]
  },
  {
   "cell_type": "markdown",
   "metadata": {},
   "source": [
    "### Withouth Standardscaler and with normalizer"
   ]
  },
  {
   "cell_type": "markdown",
   "metadata": {},
   "source": [
    "Because our data looked scaled fairly well, i would like to try some \"menchmarks :)\" (i dunno if this is a regular term, if not..i just use it and will use it again cause it sounds great!) without standardscaler and also try to use normalizer and see the result."
   ]
  },
  {
   "cell_type": "markdown",
   "metadata": {},
   "source": [
    "#### StandardScaler off"
   ]
  },
  {
   "cell_type": "code",
   "execution_count": 102,
   "metadata": {},
   "outputs": [],
   "source": [
    "col_names = [\"sepal length\",\"sepal width\", \"petal length\", \"petal width\", \"label\"]\n",
    "X_train_set, y_train_set, X_test_set, y_test_set = \\\n",
    "prepare_set(address = \"iris.data\", col_names = col_names, strat_label = \"label\" )"
   ]
  },
  {
   "cell_type": "code",
   "execution_count": 103,
   "metadata": {},
   "outputs": [],
   "source": [
    "iris_pipline = Pipeline([\n",
    "    (\"OutlierDeleter\", OutlierDeleter()),\n",
    "    (\"Imputer\", SimpleImputer(strategy=\"median\")),\n",
    "    #(\"std_scaler\", StandardScaler()),\n",
    "])"
   ]
  },
  {
   "cell_type": "code",
   "execution_count": 104,
   "metadata": {
    "scrolled": false
   },
   "outputs": [
    {
     "name": "stdout",
     "output_type": "stream",
     "text": [
      "<class 'sklearn.svm._classes.SVC'>\n",
      "\n",
      "[[15  0  0]\n",
      " [ 0 14  1]\n",
      " [ 0  4 11]]\n",
      "(0.8981481481481481, 0.8888888888888888, 0.8877665544332211, None)\n",
      "\n",
      "<class 'sklearn.tree._classes.DecisionTreeClassifier'>\n",
      "\n",
      "[[15  0  0]\n",
      " [ 0 13  2]\n",
      " [ 0  2 13]]\n",
      "(0.9111111111111111, 0.9111111111111111, 0.9111111111111111, None)\n",
      "\n",
      "<class 'sklearn.ensemble._forest.RandomForestClassifier'>\n",
      "\n",
      "[[15  0  0]\n",
      " [ 0 14  1]\n",
      " [ 0  3 12]]\n",
      "(0.9155354449472096, 0.9111111111111111, 0.9107142857142857, None)\n",
      "\n",
      "<class 'sklearn.ensemble._weight_boosting.AdaBoostClassifier'>\n",
      "\n",
      "[[15  0  0]\n",
      " [ 0 14  1]\n",
      " [ 0  2 13]]\n",
      "(0.9345238095238095, 0.9333333333333333, 0.9332591768631814, None)\n",
      "\n",
      "<class 'sklearn.ensemble._gb.GradientBoostingClassifier'>\n",
      "\n",
      "[[15  0  0]\n",
      " [ 0 14  1]\n",
      " [ 0  2 13]]\n",
      "(0.9345238095238095, 0.9333333333333333, 0.9332591768631814, None)\n",
      "\n"
     ]
    }
   ],
   "source": [
    "for classifier in classifiers:\n",
    "    pipe = Pipeline(steps=[('iris_pipline', iris_pipline), #it just uses our pipline for data transformation\n",
    "                      ('classifier', classifier)]) #and our list of classifiers\n",
    "    pipe.fit(X_train_set, y_train_set.values.ravel()) #traning the model \n",
    "    y_pred = pipe.predict(X_test_set)\n",
    "    print(f\"{type(classifier)}\\n\")\n",
    "    print(confusion_matrix(y_test_set, y_pred, labels=[\"Iris-setosa\", \"Iris-versicolor\", \"Iris-virginica\"]))\n",
    "    print(f\"{precision_recall_fscore_support(y_test_set, y_pred, average='weighted')}\\n\")"
   ]
  },
  {
   "cell_type": "markdown",
   "metadata": {},
   "source": [
    "Okay nothing interesting here, SVC performed much worse but others are a slightly better."
   ]
  },
  {
   "cell_type": "markdown",
   "metadata": {},
   "source": [
    "#### Normalizer on"
   ]
  },
  {
   "cell_type": "code",
   "execution_count": 105,
   "metadata": {},
   "outputs": [],
   "source": [
    "from sklearn.preprocessing import Normalizer"
   ]
  },
  {
   "cell_type": "code",
   "execution_count": 106,
   "metadata": {},
   "outputs": [],
   "source": [
    "iris_pipline = Pipeline([\n",
    "    (\"OutlierDeleter\", OutlierDeleter()),\n",
    "    (\"Imputer\", SimpleImputer(strategy=\"median\")),\n",
    "    (\"Normalizer\", Normalizer()),\n",
    "])"
   ]
  },
  {
   "cell_type": "code",
   "execution_count": 107,
   "metadata": {},
   "outputs": [
    {
     "name": "stdout",
     "output_type": "stream",
     "text": [
      "<class 'sklearn.svm._classes.SVC'>\n",
      "\n",
      "[[15  0  0]\n",
      " [ 0 13  2]\n",
      " [ 0  0 15]]\n",
      "(0.9607843137254902, 0.9555555555555556, 0.9553571428571429, None)\n",
      "\n",
      "<class 'sklearn.tree._classes.DecisionTreeClassifier'>\n",
      "\n",
      "[[15  0  0]\n",
      " [ 0 15  0]\n",
      " [ 0  1 14]]\n",
      "(0.9791666666666666, 0.9777777777777777, 0.9777530589543938, None)\n",
      "\n",
      "<class 'sklearn.ensemble._forest.RandomForestClassifier'>\n",
      "\n",
      "[[15  0  0]\n",
      " [ 0 15  0]\n",
      " [ 0  1 14]]\n",
      "(0.9791666666666666, 0.9777777777777777, 0.9777530589543938, None)\n",
      "\n",
      "<class 'sklearn.ensemble._weight_boosting.AdaBoostClassifier'>\n",
      "\n",
      "[[15  0  0]\n",
      " [ 0 15  0]\n",
      " [ 0  3 12]]\n",
      "(0.9444444444444444, 0.9333333333333333, 0.9326599326599326, None)\n",
      "\n",
      "<class 'sklearn.ensemble._gb.GradientBoostingClassifier'>\n",
      "\n",
      "[[15  0  0]\n",
      " [ 0 15  0]\n",
      " [ 0  2 13]]\n",
      "(0.9607843137254902, 0.9555555555555556, 0.9553571428571429, None)\n",
      "\n"
     ]
    }
   ],
   "source": [
    "for classifier in classifiers:\n",
    "    pipe = Pipeline(steps=[('iris_pipline', iris_pipline), #it just uses our pipline for data transformation\n",
    "                      ('classifier', classifier)]) #and our list of classifiers\n",
    "    pipe.fit(X_train_set, y_train_set.values.ravel()) #traning the model \n",
    "    y_pred = pipe.predict(X_test_set)\n",
    "    print(f\"{type(classifier)}\\n\")\n",
    "    print(confusion_matrix(y_test_set, y_pred, labels=[\"Iris-setosa\", \"Iris-versicolor\", \"Iris-virginica\"]))\n",
    "    print(f\"{precision_recall_fscore_support(y_test_set, y_pred, average='weighted')}\\n\")"
   ]
  },
  {
   "cell_type": "markdown",
   "metadata": {},
   "source": [
    "Well that looks more promising. All of our test are perfoming much better with normalized values. Maybe because we take care of outliers by ourself (data_sets with outliers are probably better with standardscaler and vice versa). "
   ]
  },
  {
   "cell_type": "markdown",
   "metadata": {},
   "source": [
    "***The end***"
   ]
  }
 ],
 "metadata": {
  "kernelspec": {
   "display_name": "Python 3",
   "language": "python",
   "name": "python3"
  },
  "language_info": {
   "codemirror_mode": {
    "name": "ipython",
    "version": 3
   },
   "file_extension": ".py",
   "mimetype": "text/x-python",
   "name": "python",
   "nbconvert_exporter": "python",
   "pygments_lexer": "ipython3",
   "version": "3.7.6"
  }
 },
 "nbformat": 4,
 "nbformat_minor": 4
}
