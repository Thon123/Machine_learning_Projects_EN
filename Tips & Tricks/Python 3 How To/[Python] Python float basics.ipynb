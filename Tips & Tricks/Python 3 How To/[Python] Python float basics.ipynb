{
 "cells": [
  {
   "cell_type": "markdown",
   "metadata": {},
   "source": [
    "## Float Internal Representations - teorie"
   ]
  },
  {
   "cell_type": "markdown",
   "metadata": {},
   "source": [
    "Defaultni hodnota pouzivana Pythonem pro realna cisla. CPython implementuje Float jako C Double - binary 64. Narozdil od integeru, ktery ma variabilni mnozstvi bytu podle potreby. Floats ma fixne 8 bytu a 64 bits + 16 bytes ve forme overhead."
   ]
  },
  {
   "cell_type": "markdown",
   "metadata": {},
   "source": [
    "- 1.5E -5 --> 1.5 x 10 na -5\n",
    "- sign ma 1 bit, exponent 11 bits [-1022,1023] rozmezi pro exponent\n",
    "- significant digits -> proste pocet cislic nic vic 1.2345, 1234.5 oboji ma 5 sd\n",
    "- exponent se nepocita jako significant digits"
   ]
  },
  {
   "cell_type": "markdown",
   "metadata": {},
   "source": [
    "Realna cisla muzeme zobrazit tedy v base 10 jako frakce, decimal apod..jinak neresim"
   ]
  },
  {
   "cell_type": "markdown",
   "metadata": {},
   "source": [
    "- v binary takto\n",
    "- 0.11 v base = 2 je 1x2 na -1 a 1x 2na -2 => 0.75 ..2 na -1 = 0.5 atd..\n",
    "- tzn. zaciname od 0.5 a jdeme dale po mensich\n",
    "- 0.1101 v base = 2 mame 0.8125 \n",
    "- rovnice netreba resit \n",
    "- mame urcita uskali napr pri snaze zapsat 0.1 binarne se dostaneme pouze na 0.0999755859375\n",
    "- Tady asi zacinaji problemy s nepresnymi cisly? Zajimave \n",
    "- Nejaka cisla maji konecnou hodnotu v base=10 decimal ale v binary nemaji ..\n",
    "- napriklad 0.75 v base 10 je 0.11 v binary => mame tak konecnou hodnotu a bude cislo presne\n",
    "- ale napriklad 0.1 v base10 ma nekonecnou hodnotu v binary 2 - takze mame pouze odhadovanou hodnotu"
   ]
  },
  {
   "cell_type": "markdown",
   "metadata": {},
   "source": [
    "### Code part"
   ]
  },
  {
   "cell_type": "code",
   "execution_count": 103,
   "metadata": {},
   "outputs": [],
   "source": [
    "# help(float) jasne"
   ]
  },
  {
   "cell_type": "code",
   "execution_count": 104,
   "metadata": {},
   "outputs": [
    {
     "data": {
      "text/plain": [
       "10.0"
      ]
     },
     "execution_count": 104,
     "metadata": {},
     "output_type": "execute_result"
    }
   ],
   "source": [
    "float(10)"
   ]
  },
  {
   "cell_type": "code",
   "execution_count": 105,
   "metadata": {},
   "outputs": [
    {
     "data": {
      "text/plain": [
       "10.4"
      ]
     },
     "execution_count": 105,
     "metadata": {},
     "output_type": "execute_result"
    }
   ],
   "source": [
    "float(10.4)"
   ]
  },
  {
   "cell_type": "code",
   "execution_count": 106,
   "metadata": {},
   "outputs": [
    {
     "data": {
      "text/plain": [
       "12.5"
      ]
     },
     "execution_count": 106,
     "metadata": {},
     "output_type": "execute_result"
    }
   ],
   "source": [
    "float('12.5')"
   ]
  },
  {
   "cell_type": "code",
   "execution_count": 109,
   "metadata": {},
   "outputs": [
    {
     "data": {
      "text/plain": [
       "22.7"
      ]
     },
     "execution_count": 109,
     "metadata": {},
     "output_type": "execute_result"
    }
   ],
   "source": [
    "from fractions import Fraction\n",
    "a = Fraction('22.7')\n",
    "float(a)"
   ]
  },
  {
   "cell_type": "code",
   "execution_count": 110,
   "metadata": {},
   "outputs": [
    {
     "name": "stdout",
     "output_type": "stream",
     "text": [
      "0.1\n"
     ]
    }
   ],
   "source": [
    "print(0.1)"
   ]
  },
  {
   "cell_type": "code",
   "execution_count": 112,
   "metadata": {},
   "outputs": [
    {
     "data": {
      "text/plain": [
       "'0.1000000000000000055511151'"
      ]
     },
     "execution_count": 112,
     "metadata": {},
     "output_type": "execute_result"
    }
   ],
   "source": [
    "format(0.1,'.25f') #pouze znovu ukazka teorie,ze neketera cisla nejsou presna"
   ]
  },
  {
   "cell_type": "code",
   "execution_count": 113,
   "metadata": {},
   "outputs": [
    {
     "data": {
      "text/plain": [
       "False"
      ]
     },
     "execution_count": 113,
     "metadata": {},
     "output_type": "execute_result"
    }
   ],
   "source": [
    "a = 0.1+0.1+0.1\n",
    "b = 0.3\n",
    "a == b"
   ]
  },
  {
   "cell_type": "markdown",
   "metadata": {},
   "source": [
    "Tohle je opravdu shitty ..nemaji presnou hodnotu."
   ]
  },
  {
   "cell_type": "code",
   "execution_count": null,
   "metadata": {},
   "outputs": [],
   "source": []
  }
 ],
 "metadata": {
  "kernelspec": {
   "display_name": "Python 3",
   "language": "python",
   "name": "python3"
  },
  "language_info": {
   "codemirror_mode": {
    "name": "ipython",
    "version": 3
   },
   "file_extension": ".py",
   "mimetype": "text/x-python",
   "name": "python",
   "nbconvert_exporter": "python",
   "pygments_lexer": "ipython3",
   "version": "3.8.5"
  }
 },
 "nbformat": 4,
 "nbformat_minor": 4
}
