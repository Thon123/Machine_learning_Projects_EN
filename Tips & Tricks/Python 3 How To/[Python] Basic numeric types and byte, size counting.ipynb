{
 "cells": [
  {
   "cell_type": "markdown",
   "metadata": {},
   "source": [
    "# Numeric Types"
   ]
  },
  {
   "cell_type": "markdown",
   "metadata": {},
   "source": [
    "- Integers (Z) 0,1,2,3 => int\n",
    "- Rational Numbers (Q) -> Fraction of Integers => fractions.Fractions 2/5\n",
    "- Real Numbers (R) -> Float, decimal.Decimal (pro větší kontrolu u přesnosti)\n",
    "- Complex NUmbers (C)--> 3+4J -> Complex\n",
    "- Boolean values - 0(False), 1(True) - tohle je zajímavější :)"
   ]
  },
  {
   "cell_type": "markdown",
   "metadata": {},
   "source": [
    "## Integers data type"
   ]
  },
  {
   "cell_type": "markdown",
   "metadata": {},
   "source": [
    "Ukládaná jako base-2 binárně. "
   ]
  },
  {
   "cell_type": "markdown",
   "metadata": {},
   "source": [
    "### 8 BITS"
   ]
  },
  {
   "cell_type": "markdown",
   "metadata": {},
   "source": [
    "10011 binárně tzn. base 2 = base 10 - 19 (normal co máme)\n",
    "V podstatě máme 2 na 0tou atd..z toho mám čísla a pokud nastane 0 tak tu hodnotu nepřebírá a pokud 1 tak ano. Lehoučké :)"
   ]
  },
  {
   "cell_type": "markdown",
   "metadata": {},
   "source": [
    "Potřebovali jsme 5 bitů abychom uložili číslo 19"
   ]
  },
  {
   "cell_type": "markdown",
   "metadata": {},
   "source": [
    "A zde nám začíná logika 8 bitů, 16 bitů apod :). Takže maximum je 255. Pokud dám všude 1ky a budu mít tedy 8 bitů využitých. 128+64+32+16+8+4+2+1 (11111111)"
   ]
  },
  {
   "cell_type": "markdown",
   "metadata": {},
   "source": [
    "Tak a pokud se jedná o záporná čísla musím vyhradit jedno místo pro -. A tudíž mám jen 7 míst a maximální číslo které získám je -128"
   ]
  },
  {
   "cell_type": "markdown",
   "metadata": {},
   "source": [
    "- 16 bit má rozmezí -32,768 až 32,767\n",
    "- u 32 bitů mám již -2,147,483,648 ..2,147,483,647 :)\n",
    "- pokud nemám určený typ (+ nebo -) tak máme [0,2 na 32] => [0...4,294,967,296]\n",
    "- proto 32 bitové systémy máme maximum 4,294,967,296 bytes => 4,096MB - 4GB :))\n",
    "- jinak 1 bit má 8 bytů"
   ]
  },
  {
   "cell_type": "markdown",
   "metadata": {},
   "source": [
    "V Javě, C musíme předem definovat jaké integer chceme mít - koélik bitů budou využítvat."
   ]
  },
  {
   "cell_type": "markdown",
   "metadata": {},
   "source": [
    "- byte - 8 bit number -128 - 127\n",
    "-  short 16 bit ...\n",
    "- int 32 bit\n",
    "- long - 64 bit atd..ale Python tak nefunguje"
   ]
  },
  {
   "cell_type": "markdown",
   "metadata": {},
   "source": [
    "Python používá různý počet bitů. Prostě podle potřeby si určí jak chce. Samozřejmě platí jasná logika větší čísla - více paměti - pomalejší výpočty."
   ]
  },
  {
   "cell_type": "code",
   "execution_count": 2,
   "metadata": {},
   "outputs": [
    {
     "name": "stdout",
     "output_type": "stream",
     "text": [
      "<class 'int'>\n"
     ]
    }
   ],
   "source": [
    "print(type(100)) #vytváříme classu int"
   ]
  },
  {
   "cell_type": "code",
   "execution_count": 3,
   "metadata": {},
   "outputs": [],
   "source": [
    "import sys"
   ]
  },
  {
   "cell_type": "code",
   "execution_count": 4,
   "metadata": {},
   "outputs": [
    {
     "data": {
      "text/plain": [
       "24"
      ]
     },
     "execution_count": 4,
     "metadata": {},
     "output_type": "execute_result"
    }
   ],
   "source": [
    "sys.getsizeof(0) #používá 24 bytů - OVERHEAD objekt sám o sobě něco vyžaduje"
   ]
  },
  {
   "cell_type": "code",
   "execution_count": 5,
   "metadata": {},
   "outputs": [
    {
     "data": {
      "text/plain": [
       "28"
      ]
     },
     "execution_count": 5,
     "metadata": {},
     "output_type": "execute_result"
    }
   ],
   "source": [
    "sys.getsizeof(1) "
   ]
  },
  {
   "cell_type": "code",
   "execution_count": 6,
   "metadata": {},
   "outputs": [
    {
     "data": {
      "text/plain": [
       "160"
      ]
     },
     "execution_count": 6,
     "metadata": {},
     "output_type": "execute_result"
    }
   ],
   "source": [
    "sys.getsizeof(2**1000) #160 bytů"
   ]
  },
  {
   "cell_type": "code",
   "execution_count": 7,
   "metadata": {},
   "outputs": [
    {
     "data": {
      "text/plain": [
       "1088"
      ]
     },
     "execution_count": 7,
     "metadata": {},
     "output_type": "execute_result"
    }
   ],
   "source": [
    "(160 - 24) * 8 # 1088 bitů pro uložení hodnoty"
   ]
  },
  {
   "cell_type": "code",
   "execution_count": 8,
   "metadata": {},
   "outputs": [],
   "source": [
    "import time"
   ]
  },
  {
   "cell_type": "code",
   "execution_count": 11,
   "metadata": {},
   "outputs": [],
   "source": [
    "def calc(a):\n",
    "    for i in range(10_000_000):\n",
    "        a * 2"
   ]
  },
  {
   "cell_type": "code",
   "execution_count": 12,
   "metadata": {},
   "outputs": [
    {
     "name": "stdout",
     "output_type": "stream",
     "text": [
      "0.6151472999990801\n"
     ]
    }
   ],
   "source": [
    "start = time.perf_counter()\n",
    "calc(10)\n",
    "end = time.perf_counter()\n",
    "print(end - start)"
   ]
  },
  {
   "cell_type": "code",
   "execution_count": 14,
   "metadata": {},
   "outputs": [
    {
     "name": "stdout",
     "output_type": "stream",
     "text": [
      "1.1870016000029864\n"
     ]
    }
   ],
   "source": [
    "start = time.perf_counter()\n",
    "calc(2**100)\n",
    "end = time.perf_counter()\n",
    "print(end - start)"
   ]
  },
  {
   "cell_type": "code",
   "execution_count": 15,
   "metadata": {},
   "outputs": [
    {
     "name": "stdout",
     "output_type": "stream",
     "text": [
      "5.643072200000461\n"
     ]
    }
   ],
   "source": [
    "start = time.perf_counter()\n",
    "calc(2**10000)\n",
    "end = time.perf_counter()\n",
    "print(end - start)"
   ]
  },
  {
   "cell_type": "markdown",
   "metadata": {},
   "source": [
    "Menší ukázka, na velikosti výrazně záleží. Dochází samozřejmě ke zpomalení."
   ]
  }
 ],
 "metadata": {
  "kernelspec": {
   "display_name": "Python 3",
   "language": "python",
   "name": "python3"
  },
  "language_info": {
   "codemirror_mode": {
    "name": "ipython",
    "version": 3
   },
   "file_extension": ".py",
   "mimetype": "text/x-python",
   "name": "python",
   "nbconvert_exporter": "python",
   "pygments_lexer": "ipython3",
   "version": "3.8.5"
  }
 },
 "nbformat": 4,
 "nbformat_minor": 4
}
