{
 "cells": [
  {
   "cell_type": "markdown",
   "metadata": {},
   "source": [
    "### Decorator Application(Timing)"
   ]
  },
  {
   "cell_type": "code",
   "execution_count": 99,
   "metadata": {},
   "outputs": [],
   "source": [
    "def timed(fn):\n",
    "    \"\"\"Funkce která spočítá jak dlouho trvala funkce\"\"\"\n",
    "    from time import perf_counter \n",
    "    from functools import wraps\n",
    "    \n",
    "    @wraps(fn)\n",
    "    def inner(*args, **kwargs):\n",
    "        start = perf_counter() #počítá začátek\n",
    "        result = fn(*args, **kwargs) #provede funkci\n",
    "        end = perf_counter() #ukončí\n",
    "        elapsed = end - start #výsledný čas\n",
    "        \n",
    "        'argumenty získám pomocí list comprehensions'\n",
    "        args_ = [str(a) for a in args] #generuji args agrumenty\n",
    "        kwargs_ = [\"{0}={1}\".format(k,v) for (k,v) in kwargs.items()]\n",
    "        #a zde kwargs argumenty - chci formát klíč = hodnota\n",
    "        #hodně divokej zápis\n",
    "        all_args = args_ + kwargs_\n",
    "        args_str = \",\".join(all_args) #jen pro hezčí úpravu\n",
    "        \n",
    "        print(f\"{fn.__name__}({args_str}) took {elapsed:.6f}s to run\")\n",
    "        #náš finální výtisk funkce parametrů a délky\n",
    "        \n",
    "        return result\n",
    "    return inner\n",
    "        "
   ]
  },
  {
   "cell_type": "markdown",
   "metadata": {},
   "source": [
    "Funkce, která bude kalkulovat fibonaccioho čísla."
   ]
  },
  {
   "cell_type": "markdown",
   "metadata": {},
   "source": [
    "1 rekurze, 2 loop, 3 reduce funkce"
   ]
  },
  {
   "cell_type": "code",
   "execution_count": 111,
   "metadata": {},
   "outputs": [],
   "source": [
    "#Počítám jakou hodnotu má n ve fibbonaciho řadě\n",
    "def calc_recursive_fib(n):\n",
    "    if n <= 2:\n",
    "        return 1\n",
    "    else:\n",
    "        return calc_recursive_fib(n-1) + calc_recursive_fib(n-2)"
   ]
  },
  {
   "cell_type": "markdown",
   "metadata": {},
   "source": [
    "1 1 2 3 5 8 13 21"
   ]
  },
  {
   "cell_type": "code",
   "execution_count": 88,
   "metadata": {},
   "outputs": [
    {
     "data": {
      "text/plain": [
       "5"
      ]
     },
     "execution_count": 88,
     "metadata": {},
     "output_type": "execute_result"
    }
   ],
   "source": [
    "calc_recursive_fib(5)\n",
    "# fib 4 => fib 3 a fib(2 - konec a +1) => fib2 a fib1 => obojí konec a +1 => 3 ukončené funkce\n",
    "#fib 3 => fib 2 a fib 1 => 2 ukončené funkce\n",
    "#tzn celkem 5 ukončených funkcí - n celkem 5"
   ]
  },
  {
   "cell_type": "code",
   "execution_count": 101,
   "metadata": {},
   "outputs": [],
   "source": [
    "@timed\n",
    "def calc_recursive_fib(n):\n",
    "    if n <= 2:\n",
    "        return 1\n",
    "    else:\n",
    "        return calc_recursive_fib(n-1) + calc_recursive_fib(n-2)"
   ]
  },
  {
   "cell_type": "code",
   "execution_count": 104,
   "metadata": {},
   "outputs": [
    {
     "name": "stdout",
     "output_type": "stream",
     "text": [
      "calc_recursive_fib(2) took 0.000001s to run\n",
      "calc_recursive_fib(1) took 0.000003s to run\n",
      "calc_recursive_fib(3) took 0.000388s to run\n",
      "calc_recursive_fib(2) took 0.000001s to run\n",
      "calc_recursive_fib(4) took 0.000589s to run\n",
      "calc_recursive_fib(2) took 0.000000s to run\n",
      "calc_recursive_fib(1) took 0.000000s to run\n",
      "calc_recursive_fib(3) took 0.000056s to run\n",
      "calc_recursive_fib(5) took 0.001214s to run\n"
     ]
    },
    {
     "data": {
      "text/plain": [
       "5"
      ]
     },
     "execution_count": 104,
     "metadata": {},
     "output_type": "execute_result"
    }
   ],
   "source": [
    "calc_recursive_fib(5)"
   ]
  },
  {
   "cell_type": "markdown",
   "metadata": {},
   "source": [
    "Takto časujeme naše fibonacci funkci.U rekurze vidíme, že se vše počít x krát - hodně práce navíc."
   ]
  },
  {
   "cell_type": "code",
   "execution_count": 109,
   "metadata": {},
   "outputs": [],
   "source": [
    "#jenom balík funkci do jiné abych měl časovač jako celek\n",
    "@timed\n",
    "def fib_recursive(n):\n",
    "    return calc_recursive_fib(n)"
   ]
  },
  {
   "cell_type": "code",
   "execution_count": 112,
   "metadata": {
    "scrolled": true
   },
   "outputs": [
    {
     "name": "stdout",
     "output_type": "stream",
     "text": [
      "fib_recursive(6) took 0.000003s to run\n"
     ]
    },
    {
     "data": {
      "text/plain": [
       "8"
      ]
     },
     "execution_count": 112,
     "metadata": {},
     "output_type": "execute_result"
    }
   ],
   "source": [
    "fib_recursive(6)"
   ]
  },
  {
   "cell_type": "markdown",
   "metadata": {},
   "source": [
    "Například fib50 mi nenačetlo ani po 10 minutách .."
   ]
  },
  {
   "cell_type": "code",
   "execution_count": 117,
   "metadata": {},
   "outputs": [],
   "source": [
    "@timed\n",
    "def fib_loop(n):\n",
    "    fib_1 = 1\n",
    "    fib_2 = 1\n",
    "    # 1 ,1\n",
    "    # 1, 2\n",
    "    # 2, 3\n",
    "    # 3 , 5\n",
    "    for i in range(3, n+1):\n",
    "        #zápis roku :)\n",
    "        fib1, fib_2 = fib_2, fib_1 + fib_2\n",
    "        #nemusím dodávat náhradní proměnnou pro fib\n",
    "        #takto předefinuji fib1 na fib2 a fib2 na součet\n",
    "        #původních fib1 a fib2\n",
    "        # 1, 1 = 1, 1+1 ==>1,2\n",
    "        # 1, 2 = 2, 1+2 ==> 2,3\n",
    "        # 2, 3 = 3, 2+3 ==> 5\n",
    "    return fib_2 #(poslední naše hdonota končí i fib2)\n",
    "        "
   ]
  },
  {
   "cell_type": "code",
   "execution_count": 118,
   "metadata": {
    "scrolled": true
   },
   "outputs": [
    {
     "name": "stdout",
     "output_type": "stream",
     "text": [
      "fib_loop(6) took 0.000002s to run\n"
     ]
    },
    {
     "data": {
      "text/plain": [
       "5"
      ]
     },
     "execution_count": 118,
     "metadata": {},
     "output_type": "execute_result"
    }
   ],
   "source": [
    "fib_loop(6)"
   ]
  },
  {
   "cell_type": "code",
   "execution_count": 119,
   "metadata": {},
   "outputs": [
    {
     "name": "stdout",
     "output_type": "stream",
     "text": [
      "fib_loop(10) took 0.000004s to run\n"
     ]
    },
    {
     "data": {
      "text/plain": [
       "9"
      ]
     },
     "execution_count": 119,
     "metadata": {},
     "output_type": "execute_result"
    }
   ],
   "source": [
    "fib_loop(10)"
   ]
  },
  {
   "cell_type": "code",
   "execution_count": 120,
   "metadata": {},
   "outputs": [
    {
     "name": "stdout",
     "output_type": "stream",
     "text": [
      "fib_loop(50) took 0.000006s to run\n"
     ]
    },
    {
     "data": {
      "text/plain": [
       "49"
      ]
     },
     "execution_count": 120,
     "metadata": {},
     "output_type": "execute_result"
    }
   ],
   "source": [
    "fib_loop(50)"
   ]
  },
  {
   "cell_type": "markdown",
   "metadata": {},
   "source": [
    "Vidíme že for loop je mnohem rychlejší než rekurze."
   ]
  },
  {
   "cell_type": "markdown",
   "metadata": {},
   "source": [
    "Pomocí reduce funkce"
   ]
  },
  {
   "cell_type": "code",
   "execution_count": 121,
   "metadata": {},
   "outputs": [],
   "source": [
    "from functools import reduce"
   ]
  },
  {
   "cell_type": "code",
   "execution_count": 125,
   "metadata": {},
   "outputs": [],
   "source": [
    "@timed\n",
    "def fib_reduce(n):\n",
    "    initial = (1,0) #počátek\n",
    "    dummy = range(n) #potřebuje rozsah pro reduce funkci\n",
    "    fib_n = reduce(lambda prev, n: (prev[0]+prev[1], prev[0]),\n",
    "                   dummy, \n",
    "                   initial)\n",
    "    #no tohle je hnusnej mindfuck...\n",
    "    return fib_n[0] #jelikož obdržíme tuple chceme jen část"
   ]
  },
  {
   "cell_type": "code",
   "execution_count": 129,
   "metadata": {},
   "outputs": [
    {
     "name": "stdout",
     "output_type": "stream",
     "text": [
      "fib_reduce(20) took 0.000014s to run\n"
     ]
    },
    {
     "data": {
      "text/plain": [
       "10946"
      ]
     },
     "execution_count": 129,
     "metadata": {},
     "output_type": "execute_result"
    }
   ],
   "source": [
    "fib_reduce(20)"
   ]
  },
  {
   "cell_type": "code",
   "execution_count": 130,
   "metadata": {},
   "outputs": [
    {
     "name": "stdout",
     "output_type": "stream",
     "text": [
      "fib_loop(20) took 0.000008s to run\n"
     ]
    },
    {
     "data": {
      "text/plain": [
       "19"
      ]
     },
     "execution_count": 130,
     "metadata": {},
     "output_type": "execute_result"
    }
   ],
   "source": [
    "fib_loop(20)"
   ]
  },
  {
   "cell_type": "markdown",
   "metadata": {},
   "source": [
    "Loop je stále rychlejší. Navíc zápis reduce operace je docela komplikovaný."
   ]
  },
  {
   "cell_type": "code",
   "execution_count": null,
   "metadata": {},
   "outputs": [],
   "source": []
  }
 ],
 "metadata": {
  "kernelspec": {
   "display_name": "Python 3",
   "language": "python",
   "name": "python3"
  },
  "language_info": {
   "codemirror_mode": {
    "name": "ipython",
    "version": 3
   },
   "file_extension": ".py",
   "mimetype": "text/x-python",
   "name": "python",
   "nbconvert_exporter": "python",
   "pygments_lexer": "ipython3",
   "version": "3.8.5"
  }
 },
 "nbformat": 4,
 "nbformat_minor": 4
}
