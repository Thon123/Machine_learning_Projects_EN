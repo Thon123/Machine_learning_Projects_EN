{
 "cells": [
  {
   "cell_type": "code",
   "execution_count": 3,
   "metadata": {},
   "outputs": [],
   "source": [
    "import pandas as pd"
   ]
  },
  {
   "cell_type": "code",
   "execution_count": 4,
   "metadata": {},
   "outputs": [],
   "source": [
    "df = pd.DataFrame({'team': ['Team 1', 'Team 1', 'Team 2',\n",
    "                            'Team 3', 'Team 2', 'Team 3'],\n",
    "                   'Subject': ['Math', 'Science', 'Science',\n",
    "                               'Math', 'Science', 'Math'],\n",
    "                   'points': [10, 8, 10, 6, 6, 5]})"
   ]
  },
  {
   "cell_type": "code",
   "execution_count": 7,
   "metadata": {
    "scrolled": true
   },
   "outputs": [
    {
     "data": {
      "text/html": [
       "<style  type=\"text/css\" >\n",
       "    #T_5694b6b7_d1e0_11ec_90fd_7cb27dc97a88 caption {\n",
       "          font-size: 200%;\n",
       "          font-weight: bold;\n",
       "    }</style><table id=\"T_5694b6b7_d1e0_11ec_90fd_7cb27dc97a88\" ><caption>Members</caption><thead>    <tr>        <th class=\"blank level0\" ></th>        <th class=\"col_heading level0 col0\" >team</th>        <th class=\"col_heading level0 col1\" >Subject</th>        <th class=\"col_heading level0 col2\" >points</th>    </tr></thead><tbody>\n",
       "                <tr>\n",
       "                        <th id=\"T_5694b6b7_d1e0_11ec_90fd_7cb27dc97a88level0_row0\" class=\"row_heading level0 row0\" >0</th>\n",
       "                        <td id=\"T_5694b6b7_d1e0_11ec_90fd_7cb27dc97a88row0_col0\" class=\"data row0 col0\" >Team 1</td>\n",
       "                        <td id=\"T_5694b6b7_d1e0_11ec_90fd_7cb27dc97a88row0_col1\" class=\"data row0 col1\" >Math</td>\n",
       "                        <td id=\"T_5694b6b7_d1e0_11ec_90fd_7cb27dc97a88row0_col2\" class=\"data row0 col2\" >10</td>\n",
       "            </tr>\n",
       "            <tr>\n",
       "                        <th id=\"T_5694b6b7_d1e0_11ec_90fd_7cb27dc97a88level0_row1\" class=\"row_heading level0 row1\" >1</th>\n",
       "                        <td id=\"T_5694b6b7_d1e0_11ec_90fd_7cb27dc97a88row1_col0\" class=\"data row1 col0\" >Team 1</td>\n",
       "                        <td id=\"T_5694b6b7_d1e0_11ec_90fd_7cb27dc97a88row1_col1\" class=\"data row1 col1\" >Science</td>\n",
       "                        <td id=\"T_5694b6b7_d1e0_11ec_90fd_7cb27dc97a88row1_col2\" class=\"data row1 col2\" >8</td>\n",
       "            </tr>\n",
       "            <tr>\n",
       "                        <th id=\"T_5694b6b7_d1e0_11ec_90fd_7cb27dc97a88level0_row2\" class=\"row_heading level0 row2\" >2</th>\n",
       "                        <td id=\"T_5694b6b7_d1e0_11ec_90fd_7cb27dc97a88row2_col0\" class=\"data row2 col0\" >Team 2</td>\n",
       "                        <td id=\"T_5694b6b7_d1e0_11ec_90fd_7cb27dc97a88row2_col1\" class=\"data row2 col1\" >Science</td>\n",
       "                        <td id=\"T_5694b6b7_d1e0_11ec_90fd_7cb27dc97a88row2_col2\" class=\"data row2 col2\" >10</td>\n",
       "            </tr>\n",
       "            <tr>\n",
       "                        <th id=\"T_5694b6b7_d1e0_11ec_90fd_7cb27dc97a88level0_row3\" class=\"row_heading level0 row3\" >3</th>\n",
       "                        <td id=\"T_5694b6b7_d1e0_11ec_90fd_7cb27dc97a88row3_col0\" class=\"data row3 col0\" >Team 3</td>\n",
       "                        <td id=\"T_5694b6b7_d1e0_11ec_90fd_7cb27dc97a88row3_col1\" class=\"data row3 col1\" >Math</td>\n",
       "                        <td id=\"T_5694b6b7_d1e0_11ec_90fd_7cb27dc97a88row3_col2\" class=\"data row3 col2\" >6</td>\n",
       "            </tr>\n",
       "            <tr>\n",
       "                        <th id=\"T_5694b6b7_d1e0_11ec_90fd_7cb27dc97a88level0_row4\" class=\"row_heading level0 row4\" >4</th>\n",
       "                        <td id=\"T_5694b6b7_d1e0_11ec_90fd_7cb27dc97a88row4_col0\" class=\"data row4 col0\" >Team 2</td>\n",
       "                        <td id=\"T_5694b6b7_d1e0_11ec_90fd_7cb27dc97a88row4_col1\" class=\"data row4 col1\" >Science</td>\n",
       "                        <td id=\"T_5694b6b7_d1e0_11ec_90fd_7cb27dc97a88row4_col2\" class=\"data row4 col2\" >6</td>\n",
       "            </tr>\n",
       "            <tr>\n",
       "                        <th id=\"T_5694b6b7_d1e0_11ec_90fd_7cb27dc97a88level0_row5\" class=\"row_heading level0 row5\" >5</th>\n",
       "                        <td id=\"T_5694b6b7_d1e0_11ec_90fd_7cb27dc97a88row5_col0\" class=\"data row5 col0\" >Team 3</td>\n",
       "                        <td id=\"T_5694b6b7_d1e0_11ec_90fd_7cb27dc97a88row5_col1\" class=\"data row5 col1\" >Math</td>\n",
       "                        <td id=\"T_5694b6b7_d1e0_11ec_90fd_7cb27dc97a88row5_col2\" class=\"data row5 col2\" >5</td>\n",
       "            </tr>\n",
       "    </tbody></table>"
      ],
      "text/plain": [
       "<pandas.io.formats.style.Styler at 0x212973db250>"
      ]
     },
     "execution_count": 7,
     "metadata": {},
     "output_type": "execute_result"
    }
   ],
   "source": [
    "styles = [dict(selector=\"caption\", props=[(\"font-size\", \"200%\"),\n",
    "                                          (\"font-weight\", \"bold\")])]\n",
    "\n",
    "df.style.set_caption('Members').set_table_styles(styles)"
   ]
  },
  {
   "cell_type": "code",
   "execution_count": null,
   "metadata": {},
   "outputs": [],
   "source": [
    "#header_styles = [dict(selector=\"caption\", props=[(\"text-align\", \"left\"),(\"font-size\", \"150%\"),(\"color\", 'black'),\\\n",
    "#                                                 (\"font-weight\", \"bold\")])]"
   ]
  }
 ],
 "metadata": {
  "kernelspec": {
   "display_name": "Python 3",
   "language": "python",
   "name": "python3"
  },
  "language_info": {
   "codemirror_mode": {
    "name": "ipython",
    "version": 3
   },
   "file_extension": ".py",
   "mimetype": "text/x-python",
   "name": "python",
   "nbconvert_exporter": "python",
   "pygments_lexer": "ipython3",
   "version": "3.8.5"
  }
 },
 "nbformat": 4,
 "nbformat_minor": 4
}
