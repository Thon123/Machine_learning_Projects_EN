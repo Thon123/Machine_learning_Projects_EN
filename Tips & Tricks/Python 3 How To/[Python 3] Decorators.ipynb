{
 "cells": [
  {
   "cell_type": "markdown",
   "metadata": {},
   "source": [
    "## Decorators"
   ]
  },
  {
   "cell_type": "markdown",
   "metadata": {},
   "source": [
    "Bude nezbytné mít přesně vysvětlený cod. V podstatě dekorátor lze vytvořit pomocí closures - jen se tomu tak neříká."
   ]
  },
  {
   "cell_type": "markdown",
   "metadata": {},
   "source": [
    "- decorátor používá funkci jako argument\n",
    "- a navrací closure\n",
    "- closure většinou používá jakoukoliv kombinace parametrů \n",
    "- díky tomu dosáhneme snadné zavolání\n",
    "- closure nám většinou dodává extra kod navíc"
   ]
  },
  {
   "cell_type": "markdown",
   "metadata": {},
   "source": [
    "Základní logika decorátoru."
   ]
  },
  {
   "cell_type": "markdown",
   "metadata": {},
   "source": [
    "![Loss](deco1.png)"
   ]
  },
  {
   "cell_type": "markdown",
   "metadata": {},
   "source": [
    "### Decorators "
   ]
  },
  {
   "cell_type": "markdown",
   "metadata": {},
   "source": [
    "Můžeme ale vytvářet decorátory bez použití @ - prostě jen closure. Nemusím poté přiřazovat, že funkce je funkce co volá funkci."
   ]
  },
  {
   "cell_type": "markdown",
   "metadata": {},
   "source": [
    "- je třeba dát bacha, že když poté voláme deokorovanou funkci - získáváme informace o decorátoru a ne o funkci kterou dekorujeme - jméno nebo help apod.\n",
    "- takže například přepíšeme name a doc property v dekorátoru --> ale asi mimo nikdy nebudu vědět jméno funkce\n",
    "- máme na to functools.wraps - budeme dekorovat dekorátor :)\n",
    "- V PODSTATĚ DEKORÁTOR MUSÍM OBOHATIT O DALŠÍ DEKORÁTOR pro 100% funčknost"
   ]
  },
  {
   "cell_type": "code",
   "execution_count": 2,
   "metadata": {},
   "outputs": [],
   "source": [
    "def counter(fn): #funkce co bere funkce jako argument\n",
    "    count = 0 #základní stav počítadla\n",
    "    \n",
    "    def inner(*args, **kwargs): #bude volat fn - nevíme jaká bude proto args a kwargs\n",
    "        nonlocal count #aby se count zvyšoval v celku ne jenom v inner \n",
    "        count +=1\n",
    "        print(f\"Function {fn.__name__} was called {count} times\") \n",
    "        #vypíšeme zprávu o zavolání funkce\n",
    "        return fn(*args, **kwargs) #a zavoláme funkci fn s tím co obdrží inner\n",
    "    \n",
    "    return inner\n",
    "#naše counter funkce tedy obdržé funkci - projede jí s inner a navrátí projedou 2 funkce\n",
    "#kde naše inner funkce obohacuje fn funkci v counter"
   ]
  },
  {
   "cell_type": "code",
   "execution_count": 5,
   "metadata": {},
   "outputs": [],
   "source": [
    "def add(a: int,b: int =0):\n",
    "    \"\"\"adds two values\"\"\"\n",
    "    \n",
    "    return a + b"
   ]
  },
  {
   "cell_type": "code",
   "execution_count": 7,
   "metadata": {},
   "outputs": [
    {
     "name": "stdout",
     "output_type": "stream",
     "text": [
      "Help on function add in module __main__:\n",
      "\n",
      "add(a: int, b: int = 0)\n",
      "    adds two values\n",
      "\n"
     ]
    }
   ],
   "source": [
    "help(add) #jasné vše funguje"
   ]
  },
  {
   "cell_type": "code",
   "execution_count": 9,
   "metadata": {},
   "outputs": [
    {
     "data": {
      "text/plain": [
       "1995916212832"
      ]
     },
     "execution_count": 9,
     "metadata": {},
     "output_type": "execute_result"
    }
   ],
   "source": [
    "id(add) #bude důležité na potom :)"
   ]
  },
  {
   "cell_type": "code",
   "execution_count": 10,
   "metadata": {},
   "outputs": [],
   "source": [
    "add = counter(add) #nové add se rovná counter add"
   ]
  },
  {
   "cell_type": "code",
   "execution_count": 13,
   "metadata": {},
   "outputs": [
    {
     "data": {
      "text/plain": [
       "1995914399024"
      ]
     },
     "execution_count": 13,
     "metadata": {},
     "output_type": "execute_result"
    }
   ],
   "source": [
    "id(add) #již se jedná o jinou funkci  - náš closure"
   ]
  },
  {
   "cell_type": "code",
   "execution_count": 15,
   "metadata": {},
   "outputs": [
    {
     "name": "stdout",
     "output_type": "stream",
     "text": [
      "Help on function inner in module __main__:\n",
      "\n",
      "inner(*args, **kwargs)\n",
      "\n"
     ]
    }
   ],
   "source": [
    "help(add) #a též vidíme že máme help na naší inner funkci v closure"
   ]
  },
  {
   "cell_type": "code",
   "execution_count": 18,
   "metadata": {},
   "outputs": [
    {
     "name": "stdout",
     "output_type": "stream",
     "text": [
      "Function add was called 3 times\n"
     ]
    },
    {
     "data": {
      "text/plain": [
       "30"
      ]
     },
     "execution_count": 18,
     "metadata": {},
     "output_type": "execute_result"
    }
   ],
   "source": [
    "add(10,20) #provede to funkci add a i funkci inner - skrze náš counter - náš decorator"
   ]
  },
  {
   "cell_type": "code",
   "execution_count": 19,
   "metadata": {},
   "outputs": [],
   "source": [
    "def mult(a: int, b: int, c:int = 1, *, d):\n",
    "    \"\"\"multiplis four values\"\"\"\n",
    "    return a*b*c*d"
   ]
  },
  {
   "cell_type": "code",
   "execution_count": 21,
   "metadata": {},
   "outputs": [
    {
     "data": {
      "text/plain": [
       "24"
      ]
     },
     "execution_count": 21,
     "metadata": {},
     "output_type": "execute_result"
    }
   ],
   "source": [
    "mult(1,2,3,d=4) #opáčko keyword only argument po *"
   ]
  },
  {
   "cell_type": "code",
   "execution_count": 23,
   "metadata": {},
   "outputs": [
    {
     "data": {
      "text/plain": [
       "6"
      ]
     },
     "execution_count": 23,
     "metadata": {},
     "output_type": "execute_result"
    }
   ],
   "source": [
    "mult(1,2,d=3) #c máme defaultní"
   ]
  },
  {
   "cell_type": "code",
   "execution_count": 25,
   "metadata": {},
   "outputs": [],
   "source": [
    "mult = counter(mult) #help i id je ztraceno"
   ]
  },
  {
   "cell_type": "code",
   "execution_count": 26,
   "metadata": {},
   "outputs": [
    {
     "name": "stdout",
     "output_type": "stream",
     "text": [
      "Function inner was called 1 times\n",
      "Function mult was called 1 times\n"
     ]
    },
    {
     "data": {
      "text/plain": [
       "24"
      ]
     },
     "execution_count": 26,
     "metadata": {},
     "output_type": "execute_result"
    }
   ],
   "source": [
    "mult(1,2,3,d=4) #ukázka že si náš counter poradí se vším díky args kwargs zápisu"
   ]
  },
  {
   "cell_type": "code",
   "execution_count": 28,
   "metadata": {},
   "outputs": [],
   "source": [
    "@counter\n",
    "def my_func(s: str, i: int) -> str:\n",
    "    return s*i\n",
    "#my_func = counter(my_func) - stejné jako když použiji decorator"
   ]
  },
  {
   "cell_type": "code",
   "execution_count": 30,
   "metadata": {},
   "outputs": [
    {
     "name": "stdout",
     "output_type": "stream",
     "text": [
      "Help on function inner in module __main__:\n",
      "\n",
      "inner(*args, **kwargs)\n",
      "\n"
     ]
    }
   ],
   "source": [
    "help(my_func) #a jsme zase u inneru :) - decotáro odmaže polohu"
   ]
  },
  {
   "cell_type": "code",
   "execution_count": 31,
   "metadata": {},
   "outputs": [
    {
     "name": "stdout",
     "output_type": "stream",
     "text": [
      "Function my_func was called 1 times\n"
     ]
    },
    {
     "data": {
      "text/plain": [
       "'aaaaaaaaaa'"
      ]
     },
     "execution_count": 31,
     "metadata": {},
     "output_type": "execute_result"
    }
   ],
   "source": [
    "my_func(\"a\",10)"
   ]
  },
  {
   "cell_type": "code",
   "execution_count": 35,
   "metadata": {},
   "outputs": [],
   "source": [
    "from functools import wraps #náš decorátor na dekorátory"
   ]
  },
  {
   "cell_type": "code",
   "execution_count": 37,
   "metadata": {},
   "outputs": [],
   "source": [
    "def counter(fn): #funkce co bere funkce jako argument\n",
    "    count = 0 #základní stav počítadla\n",
    "    \n",
    "    @wraps(fn) #dekoruj inner pomocí wraps a má původní je fn\n",
    "    def inner(*args, **kwargs): #bude volat fn - nevíme jaká bude proto args a kwargs\n",
    "        \"\"\"\n",
    "        Naše inner funkce\n",
    "        \"\"\"\n",
    "        nonlocal count #aby se count zvyšoval v celku ne jenom v inner \n",
    "        count +=1\n",
    "        print(f\"Function {fn.__name__} was called {count} times\") \n",
    "        #vypíšeme zprávu o zavolání funkce\n",
    "        return fn(*args, **kwargs) #a zavoláme funkci fn s tím co obdrží inner\n",
    "    #též mohu wrapsíka zapsat takto\n",
    "    #inner = wraps(fn) (inner) #ok divný to záps\n",
    "    return inner\n"
   ]
  },
  {
   "cell_type": "code",
   "execution_count": 38,
   "metadata": {},
   "outputs": [],
   "source": [
    "def mult(a: int, b: int, c:int = 1, *, d):\n",
    "    \"\"\"multiplis four values\"\"\"\n",
    "    return a*b*c*d"
   ]
  },
  {
   "cell_type": "code",
   "execution_count": 39,
   "metadata": {},
   "outputs": [],
   "source": [
    "mult = counter(mult)"
   ]
  },
  {
   "cell_type": "code",
   "execution_count": 40,
   "metadata": {},
   "outputs": [
    {
     "name": "stdout",
     "output_type": "stream",
     "text": [
      "Help on function mult in module __main__:\n",
      "\n",
      "mult(a: int, b: int, c: int = 1, *, d)\n",
      "    multiplis four values\n",
      "\n"
     ]
    }
   ],
   "source": [
    "help(mult)"
   ]
  },
  {
   "cell_type": "markdown",
   "metadata": {},
   "source": [
    "Tak a takto nám vše funguje."
   ]
  },
  {
   "cell_type": "code",
   "execution_count": null,
   "metadata": {},
   "outputs": [],
   "source": []
  }
 ],
 "metadata": {
  "kernelspec": {
   "display_name": "Python 3",
   "language": "python",
   "name": "python3"
  },
  "language_info": {
   "codemirror_mode": {
    "name": "ipython",
    "version": 3
   },
   "file_extension": ".py",
   "mimetype": "text/x-python",
   "name": "python",
   "nbconvert_exporter": "python",
   "pygments_lexer": "ipython3",
   "version": "3.8.5"
  }
 },
 "nbformat": 4,
 "nbformat_minor": 4
}
