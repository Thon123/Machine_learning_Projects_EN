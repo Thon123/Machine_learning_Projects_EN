{
 "cells": [
  {
   "cell_type": "markdown",
   "metadata": {},
   "source": [
    "## Nonlocal Scopes"
   ]
  },
  {
   "cell_type": "markdown",
   "metadata": {},
   "source": [
    "- v podstatě pokud mám funkci ve funkci => problém je že někdy jde z inner funkce do outer funkce a jde dále do global scope ale někdy také ne :)\n",
    "- global funguje stále stejně i pokud je v inner funkci o úroveň dále\n",
    "- a to důležité můžeme měnit hodnoty v rámci outer-inner funkce? Když se \"maskuje\" hodnota v outer a inned funkci\n",
    "- použití nonlocal v inner funkci - čímž dáme pythonu vědět že má přepsat i ve funkci o úroveň výše, nepřechází do global, může zde tedy být více funkcí v sobě a jde od nonlocal příkazu nahoru ale celek funkce je strop\n",
    "- Pokud ale máme například X o 3x hodnotách a začnu měnit od zadu - změním jen tu druhou a k té první se už nedostane\n",
    "- musel bych k 3t a 2hé dopsat nonlocal a poté dojdeme až k první - v podstatě to vše funguje jako chain"
   ]
  },
  {
   "cell_type": "code",
   "execution_count": 42,
   "metadata": {},
   "outputs": [],
   "source": [
    "def outer_func():\n",
    "    x = \"hello\"\n",
    "    def inner_func():\n",
    "        print(x)\n",
    "    inner_func()\n",
    "        "
   ]
  },
  {
   "cell_type": "code",
   "execution_count": 43,
   "metadata": {},
   "outputs": [
    {
     "name": "stdout",
     "output_type": "stream",
     "text": [
      "hello\n"
     ]
    }
   ],
   "source": [
    "outer_func()"
   ]
  },
  {
   "cell_type": "code",
   "execution_count": 44,
   "metadata": {},
   "outputs": [],
   "source": [
    "def outer_func():\n",
    "    x = \"hello\"\n",
    "    def inner1():\n",
    "        def inner2():\n",
    "            print(x)\n",
    "        inner2()\n",
    "    inner1()"
   ]
  },
  {
   "cell_type": "code",
   "execution_count": 45,
   "metadata": {},
   "outputs": [
    {
     "name": "stdout",
     "output_type": "stream",
     "text": [
      "hello\n"
     ]
    }
   ],
   "source": [
    "outer_func()"
   ]
  },
  {
   "cell_type": "markdown",
   "metadata": {},
   "source": [
    "U těchto nested funkcí je dobré vědět že jak se píší zezačátku tak opačně zpátky :) .."
   ]
  },
  {
   "cell_type": "code",
   "execution_count": 46,
   "metadata": {},
   "outputs": [],
   "source": [
    "def outer_func():\n",
    "    x = \"hello\"\n",
    "    def inner():\n",
    "        x = \"python\"\n",
    "        print(\"inner\", x)\n",
    "    inner()\n",
    "    print(f\"outer {x}\")\n",
    "    "
   ]
  },
  {
   "cell_type": "code",
   "execution_count": 47,
   "metadata": {},
   "outputs": [
    {
     "name": "stdout",
     "output_type": "stream",
     "text": [
      "inner python\n",
      "outer hello\n"
     ]
    }
   ],
   "source": [
    "outer_func()"
   ]
  },
  {
   "cell_type": "markdown",
   "metadata": {},
   "source": [
    "Jasné, oba dva mají své spešl scopy, takže se vůbec nic neděje a obě x mají dvě rozdílné hodnoty."
   ]
  },
  {
   "cell_type": "code",
   "execution_count": 55,
   "metadata": {},
   "outputs": [],
   "source": [
    "def outer_func():\n",
    "    x = \"hello\"\n",
    "    def inner():\n",
    "        nonlocal x\n",
    "        x = \"python\"\n",
    "        print(\"inner\", x)\n",
    "        #tady máme python protože je definován takto\n",
    "    print(f\"outer(before){x}\")\n",
    "    inner()\n",
    "    print(f\"outer {x}\")"
   ]
  },
  {
   "cell_type": "code",
   "execution_count": 56,
   "metadata": {},
   "outputs": [
    {
     "name": "stdout",
     "output_type": "stream",
     "text": [
      "outer(before)hello\n",
      "inner python\n",
      "outer python\n"
     ]
    }
   ],
   "source": [
    "outer_func()"
   ]
  },
  {
   "cell_type": "markdown",
   "metadata": {},
   "source": [
    "Naše before x - je hello ještě než jsme ho přepsali díky nonlocal."
   ]
  },
  {
   "cell_type": "code",
   "execution_count": 57,
   "metadata": {},
   "outputs": [],
   "source": [
    "def outer():\n",
    "    x = \"hello\"\n",
    "    def inner1():\n",
    "        def inner2():\n",
    "            nonlocal x\n",
    "            x = \"python\"\n",
    "        inner2()\n",
    "    inner1()\n",
    "    print(x)\n",
    "        "
   ]
  },
  {
   "cell_type": "code",
   "execution_count": 58,
   "metadata": {},
   "outputs": [
    {
     "name": "stdout",
     "output_type": "stream",
     "text": [
      "python\n"
     ]
    }
   ],
   "source": [
    "outer()"
   ]
  },
  {
   "cell_type": "markdown",
   "metadata": {},
   "source": [
    "Naše x je hello, ale jelikož se prvně spustil inner2 s nonlocal - přepsal hello - a poté došlo k tisku."
   ]
  },
  {
   "cell_type": "code",
   "execution_count": 59,
   "metadata": {},
   "outputs": [],
   "source": [
    "def outer():\n",
    "    x = \"hello\"\n",
    "    def inner1():\n",
    "        nonlocal x\n",
    "        x = \"python\"\n",
    "        def inner2():\n",
    "            nonlocal x\n",
    "            x = \"monty\"\n",
    "        inner2()\n",
    "    inner1()\n",
    "    print(x)"
   ]
  },
  {
   "cell_type": "code",
   "execution_count": 60,
   "metadata": {},
   "outputs": [
    {
     "name": "stdout",
     "output_type": "stream",
     "text": [
      "monty\n"
     ]
    }
   ],
   "source": [
    "outer()"
   ]
  },
  {
   "cell_type": "markdown",
   "metadata": {},
   "source": [
    "Tohle je trochu zajímavé a docela matoucí. Více ke studiu, nejde to jako řetěz ale přeskočí?"
   ]
  },
  {
   "cell_type": "code",
   "execution_count": 61,
   "metadata": {},
   "outputs": [
    {
     "ename": "SyntaxError",
     "evalue": "no binding for nonlocal 'x' found (<ipython-input-61-3697de12c060>, line 6)",
     "output_type": "error",
     "traceback": [
      "\u001b[1;36m  File \u001b[1;32m\"<ipython-input-61-3697de12c060>\"\u001b[1;36m, line \u001b[1;32m6\u001b[0m\n\u001b[1;33m    nonlocal x\u001b[0m\n\u001b[1;37m    ^\u001b[0m\n\u001b[1;31mSyntaxError\u001b[0m\u001b[1;31m:\u001b[0m no binding for nonlocal 'x' found\n"
     ]
    }
   ],
   "source": [
    "def outer():\n",
    "    global x\n",
    "    x = \"monty\"\n",
    "    \n",
    "    def inner():\n",
    "        nonlocal x\n",
    "        x = \"hello\"\n",
    "    print(x)"
   ]
  },
  {
   "cell_type": "markdown",
   "metadata": {},
   "source": [
    "Protože naše nonlocal hello nenajde své x, protože naše monty x je globální takže nemají shodu."
   ]
  },
  {
   "cell_type": "code",
   "execution_count": 62,
   "metadata": {},
   "outputs": [],
   "source": [
    "def outer():\n",
    "    x = \"monty\"\n",
    "    \n",
    "    def inner():\n",
    "        nonlocal x\n",
    "        x = \"hello\"\n",
    "    inner()\n",
    "    print(x)"
   ]
  },
  {
   "cell_type": "code",
   "execution_count": 63,
   "metadata": {},
   "outputs": [
    {
     "name": "stdout",
     "output_type": "stream",
     "text": [
      "hello\n"
     ]
    }
   ],
   "source": [
    "outer()"
   ]
  },
  {
   "cell_type": "markdown",
   "metadata": {},
   "source": [
    "Takto vše přepíšeme správně."
   ]
  },
  {
   "cell_type": "code",
   "execution_count": null,
   "metadata": {},
   "outputs": [],
   "source": []
  }
 ],
 "metadata": {
  "kernelspec": {
   "display_name": "Python 3",
   "language": "python",
   "name": "python3"
  },
  "language_info": {
   "codemirror_mode": {
    "name": "ipython",
    "version": 3
   },
   "file_extension": ".py",
   "mimetype": "text/x-python",
   "name": "python",
   "nbconvert_exporter": "python",
   "pygments_lexer": "ipython3",
   "version": "3.8.5"
  }
 },
 "nbformat": 4,
 "nbformat_minor": 4
}
