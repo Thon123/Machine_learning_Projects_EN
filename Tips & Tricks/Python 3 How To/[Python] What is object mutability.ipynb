{
 "cells": [
  {
   "cell_type": "markdown",
   "metadata": {},
   "source": [
    "my_account --->  reference 1000 ---> hodnota: 5 ---> změna na hodnotu: 10 -----> Reference zůstává stejná"
   ]
  },
  {
   "cell_type": "markdown",
   "metadata": {},
   "source": [
    "Objekt je \"mutable\" tzn. lze změnit jeho hodnotu beze změny reference, immutable - nelze měnit"
   ]
  },
  {
   "cell_type": "markdown",
   "metadata": {},
   "source": [
    "- Immutable - int,float,booleans -> nemůžeme měnit jejich interní hodnotu - tvoříme zde nový objekt - novou referenci\n",
    "- Strings - jsou též immutable\n",
    "- Tuples immutable\n",
    "- Frozen Sets immutable\n",
    "- User-Defined Classes - nastavíme si tak classu pokud chceme"
   ]
  },
  {
   "cell_type": "markdown",
   "metadata": {},
   "source": [
    "- Lists\n",
    "- Sets\n",
    "- Dictionaries\n",
    "- User-Defined Classes - tzn. u Classy je to na mě"
   ]
  },
  {
   "cell_type": "code",
   "execution_count": 1,
   "metadata": {},
   "outputs": [],
   "source": [
    "# t = (1,2,3) immutable\n",
    "# a = [1,2] mmutable\n",
    "# b = [3,4] mmutable\n",
    "# t = (a,b) ===> t = ([1,2],[3,4]) máme ale muttable v immutable :))\n",
    "# tzn t nezměním ale jeho a,b hodnoty měnit mohu"
   ]
  },
  {
   "cell_type": "code",
   "execution_count": 5,
   "metadata": {},
   "outputs": [
    {
     "data": {
      "text/plain": [
       "2616707955968"
      ]
     },
     "execution_count": 5,
     "metadata": {},
     "output_type": "execute_result"
    }
   ],
   "source": [
    "my_list = [1,2,3]\n",
    "id(my_list)"
   ]
  },
  {
   "cell_type": "code",
   "execution_count": 3,
   "metadata": {},
   "outputs": [],
   "source": [
    "my_list.append(4) #modifikuji data "
   ]
  },
  {
   "cell_type": "code",
   "execution_count": 6,
   "metadata": {},
   "outputs": [
    {
     "data": {
      "text/plain": [
       "2616707955968"
      ]
     },
     "execution_count": 6,
     "metadata": {},
     "output_type": "execute_result"
    }
   ],
   "source": [
    "id(my_list)"
   ]
  },
  {
   "cell_type": "code",
   "execution_count": null,
   "metadata": {},
   "outputs": [],
   "source": []
  },
  {
   "cell_type": "code",
   "execution_count": null,
   "metadata": {},
   "outputs": [],
   "source": []
  }
 ],
 "metadata": {
  "kernelspec": {
   "display_name": "Python 3",
   "language": "python",
   "name": "python3"
  },
  "language_info": {
   "codemirror_mode": {
    "name": "ipython",
    "version": 3
   },
   "file_extension": ".py",
   "mimetype": "text/x-python",
   "name": "python",
   "nbconvert_exporter": "python",
   "pygments_lexer": "ipython3",
   "version": "3.8.5"
  }
 },
 "nbformat": 4,
 "nbformat_minor": 4
}
