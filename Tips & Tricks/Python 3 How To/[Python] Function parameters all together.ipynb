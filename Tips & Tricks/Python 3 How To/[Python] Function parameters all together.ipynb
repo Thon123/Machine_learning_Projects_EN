{
 "cells": [
  {
   "cell_type": "markdown",
   "metadata": {},
   "source": [
    "### Putting it all together teorie"
   ]
  },
  {
   "cell_type": "markdown",
   "metadata": {},
   "source": [
    "- a,b c = 10, args, hvezdicka , kw1, kw2 = 100, kwargs\n",
    "- a,b musí být zadány, c má defaultní hodnotu nemusí být\n",
    "- po args sbíráme další arguemnty\n",
    "- hvezdicka ukončuje všechny postiional arguemnty\n",
    "- poté následují keyword only arguemnty - znovu mohou mít defaultní hodnotu\n",
    "- tzn. kw1 je povinný musíme zadat, kw2 ne díky defaultní hodnotě\n",
    "- kwargs posbírá dodatečný kw hodnoty\n",
    "- abych mohl přejít na kw arguemnty musím nejdříve vyčerpat positional \n",
    "- tedy přimu vše co tam je pomocí args a nebo je vyčerpám hvezdickou\n",
    "\n",
    "- def func(a, b = 10, hvezdicka, kw1, kw2=100)\n",
    "- def func(a, b, args, kw1, kw2=100)\n",
    "- defaultní b u * může být ale pokud mám *agrs\n",
    "- nemůžu ukončovat positional pomocí *args defaultní hodnotou zmatu python\n",
    "- def func(a, b=10, *, kw1, kw2=100, kwargs)\n",
    "- def func(args)\n",
    "- def func(kwargs)\n",
    "- def func(args, kwargs)\n",
    "- pouze příklady jak lze definovat funkce\n",
    "\n",
    "- Positional arguments\n",
    "- mohou mít ale nemusí defaultní hodnoty\n",
    "- args posbírá a vyčerpá zbývající positional arguemnty\n",
    "\n",
    "- Keyword only argument\n",
    "- Musí zadat klíč i hodnotu, a vždy po vyčerpání positional\n",
    "- kwargs stejné jako pro args jen pro key-value argumenty\n",
    "- hvezdicka indikuji konec positional argumentů\n"
   ]
  },
  {
   "cell_type": "markdown",
   "metadata": {},
   "source": [
    "### Putting it all together Code"
   ]
  },
  {
   "cell_type": "code",
   "execution_count": 1,
   "metadata": {},
   "outputs": [],
   "source": [
    "def func(a,b, *args):\n",
    "    print(a,b,args)"
   ]
  },
  {
   "cell_type": "code",
   "execution_count": 2,
   "metadata": {},
   "outputs": [
    {
     "name": "stdout",
     "output_type": "stream",
     "text": [
      "1 2 ('x', 'y', 'z')\n"
     ]
    }
   ],
   "source": [
    "func(1,2,\"x\",\"y\",\"z\")"
   ]
  },
  {
   "cell_type": "code",
   "execution_count": 3,
   "metadata": {},
   "outputs": [
    {
     "ename": "SyntaxError",
     "evalue": "positional argument follows keyword argument (<ipython-input-3-dbc1c2f9fdd0>, line 1)",
     "output_type": "error",
     "traceback": [
      "\u001b[1;36m  File \u001b[1;32m\"<ipython-input-3-dbc1c2f9fdd0>\"\u001b[1;36m, line \u001b[1;32m1\u001b[0m\n\u001b[1;33m    func(a=1,b=2,\"x\",\"y\",\"z\")\u001b[0m\n\u001b[1;37m                ^\u001b[0m\n\u001b[1;31mSyntaxError\u001b[0m\u001b[1;31m:\u001b[0m positional argument follows keyword argument\n"
     ]
    }
   ],
   "source": [
    "func(a=1,b=2,\"x\",\"y\",\"z\")"
   ]
  },
  {
   "cell_type": "markdown",
   "metadata": {},
   "source": [
    "Jakmile mám args nemohu tam nacpat zápis takto."
   ]
  },
  {
   "cell_type": "code",
   "execution_count": 9,
   "metadata": {},
   "outputs": [],
   "source": [
    "def func(a,b=2,c=3,*args):\n",
    "    print(a,b,c,args)"
   ]
  },
  {
   "cell_type": "code",
   "execution_count": 5,
   "metadata": {},
   "outputs": [
    {
     "ename": "SyntaxError",
     "evalue": "positional argument follows keyword argument (<ipython-input-5-912dec912bcc>, line 1)",
     "output_type": "error",
     "traceback": [
      "\u001b[1;36m  File \u001b[1;32m\"<ipython-input-5-912dec912bcc>\"\u001b[1;36m, line \u001b[1;32m1\u001b[0m\n\u001b[1;33m    func(1,c=5,\"x\",\"y\")\u001b[0m\n\u001b[1;37m              ^\u001b[0m\n\u001b[1;31mSyntaxError\u001b[0m\u001b[1;31m:\u001b[0m positional argument follows keyword argument\n"
     ]
    }
   ],
   "source": [
    "func(1,c=5,\"x\",\"y\")"
   ]
  },
  {
   "cell_type": "markdown",
   "metadata": {},
   "source": [
    "V podstatě jakmile nastavím defaultní hodnoty a nastavím *args ztrácím možnost použít defaultní hodnoty."
   ]
  },
  {
   "cell_type": "code",
   "execution_count": 11,
   "metadata": {},
   "outputs": [],
   "source": [
    "def func(a,b=2,*args, c=3, d):\n",
    "    print(a,b,args,c,d)"
   ]
  },
  {
   "cell_type": "code",
   "execution_count": 12,
   "metadata": {
    "scrolled": true
   },
   "outputs": [
    {
     "name": "stdout",
     "output_type": "stream",
     "text": [
      "10 20 ('x', 'y', 'z') 4 1\n"
     ]
    }
   ],
   "source": [
    "func(10,20,\"x\",\"y\",\"z\", c = 4, d=1)"
   ]
  },
  {
   "cell_type": "code",
   "execution_count": 13,
   "metadata": {},
   "outputs": [
    {
     "ename": "TypeError",
     "evalue": "func() got multiple values for argument 'b'",
     "output_type": "error",
     "traceback": [
      "\u001b[1;31m---------------------------------------------------------------------------\u001b[0m",
      "\u001b[1;31mTypeError\u001b[0m                                 Traceback (most recent call last)",
      "\u001b[1;32m<ipython-input-13-b73bbc4e3900>\u001b[0m in \u001b[0;36m<module>\u001b[1;34m\u001b[0m\n\u001b[1;32m----> 1\u001b[1;33m \u001b[0mfunc\u001b[0m\u001b[1;33m(\u001b[0m\u001b[1;36m1\u001b[0m\u001b[1;33m,\u001b[0m \u001b[1;34m\"x\"\u001b[0m\u001b[1;33m,\u001b[0m\u001b[1;34m\"y\"\u001b[0m\u001b[1;33m,\u001b[0m\u001b[1;34m\"z\"\u001b[0m\u001b[1;33m,\u001b[0m \u001b[0mb\u001b[0m\u001b[1;33m=\u001b[0m\u001b[1;36m4\u001b[0m\u001b[1;33m,\u001b[0m \u001b[0md\u001b[0m \u001b[1;33m=\u001b[0m \u001b[1;36m10\u001b[0m\u001b[1;33m)\u001b[0m\u001b[1;33m\u001b[0m\u001b[1;33m\u001b[0m\u001b[0m\n\u001b[0m",
      "\u001b[1;31mTypeError\u001b[0m: func() got multiple values for argument 'b'"
     ]
    }
   ],
   "source": [
    "func(1, \"x\",\"y\",\"z\", b=4, d = 10)"
   ]
  },
  {
   "cell_type": "markdown",
   "metadata": {},
   "source": [
    "Zde si myslí že x,y,z je b též."
   ]
  },
  {
   "cell_type": "code",
   "execution_count": 15,
   "metadata": {},
   "outputs": [],
   "source": [
    "def func(a,b,*args, c=10, d=20, **kwargs):\n",
    "    print(a,b,args,c,d,kwargs)"
   ]
  },
  {
   "cell_type": "code",
   "execution_count": 16,
   "metadata": {},
   "outputs": [
    {
     "name": "stdout",
     "output_type": "stream",
     "text": [
      "1 2 ('x', 'y', 'z') 100 200 {'x': 0.1, 'y': 0.2}\n"
     ]
    }
   ],
   "source": [
    "func(1,2,\"x\",\"y\",\"z\", c=100, d=200, x=0.1, y=0.2)"
   ]
  },
  {
   "cell_type": "markdown",
   "metadata": {},
   "source": [
    "Kwargs je docela stylovka prostě funkce s parametrem a hodnotou zároveň."
   ]
  },
  {
   "cell_type": "markdown",
   "metadata": {},
   "source": [
    "Menší ukázka proč je vhodné chápat argumenty u funkcí a že hodně častých funkcí má v sobě mnoho defaultních funkcí"
   ]
  },
  {
   "cell_type": "code",
   "execution_count": 28,
   "metadata": {
    "scrolled": true
   },
   "outputs": [
    {
     "name": "stdout",
     "output_type": "stream",
     "text": [
      "1 2 3\n",
      "4 5 6\n"
     ]
    }
   ],
   "source": [
    "print(1,2,3)\n",
    "print(4,5,6)"
   ]
  },
  {
   "cell_type": "code",
   "execution_count": 30,
   "metadata": {},
   "outputs": [
    {
     "name": "stdout",
     "output_type": "stream",
     "text": [
      "1-2-3\n",
      "4-5-6\n"
     ]
    }
   ],
   "source": [
    "print(1,2,3, sep = \"-\")\n",
    "print(4,5,6, sep=\"-\")"
   ]
  },
  {
   "cell_type": "code",
   "execution_count": 31,
   "metadata": {},
   "outputs": [
    {
     "name": "stdout",
     "output_type": "stream",
     "text": [
      "4-5-6***"
     ]
    }
   ],
   "source": [
    "print(4,5,6, sep=\"-\", end=\"***\")"
   ]
  },
  {
   "cell_type": "code",
   "execution_count": 32,
   "metadata": {},
   "outputs": [],
   "source": [
    "def calc_hi_lo_avg(*args, log_to_console=False):\n",
    "    hi = int(bool(args)) and max(args)\n",
    "    #args může být prázdný jak když nic nezadají? Jak zadat 0\n",
    "    #provedu luxusní bol zápis args and :D ..\n",
    "    #vezmu args hodnotu v bool - zda je True nebo False a to převedu na int\n",
    "    #tzn. pokud nebudu mít hodnotu - mám false, a tím pádem mám bool hodnotu 0 a tudíž mám průměr 0\n",
    "    if len(args) == 0:\n",
    "        lo = 0\n",
    "    else:\n",
    "        lo = min(args)\n",
    "    #ekvivaleltní low hodnota pro hi nahoře - jen jiný zápis\n",
    "    #pro mě docela mindfuck\n",
    "    #lo = min(args) if len(args) > 0 else 0 \n",
    "    avg = ( hi + lo) / 2\n",
    "    if log_to_console:\n",
    "        print(f\"high={hi}, low={lo}, avg={avg}\")\n",
    "    return avg"
   ]
  },
  {
   "cell_type": "code",
   "execution_count": 33,
   "metadata": {},
   "outputs": [
    {
     "name": "stdout",
     "output_type": "stream",
     "text": [
      "high=5, low=1, avg=3.0\n"
     ]
    }
   ],
   "source": [
    "avg = calc_hi_lo_avg(1,2,3,4,5, log_to_console=True)"
   ]
  },
  {
   "cell_type": "markdown",
   "metadata": {},
   "source": [
    "Jasné moje funkce vrací jen average pokud neurčím defaultně jinak, poté mi vyhodí všechny hodnoty, tj moc pěkné použití."
   ]
  },
  {
   "cell_type": "code",
   "execution_count": null,
   "metadata": {},
   "outputs": [],
   "source": []
  }
 ],
 "metadata": {
  "kernelspec": {
   "display_name": "Python 3",
   "language": "python",
   "name": "python3"
  },
  "language_info": {
   "codemirror_mode": {
    "name": "ipython",
    "version": 3
   },
   "file_extension": ".py",
   "mimetype": "text/x-python",
   "name": "python",
   "nbconvert_exporter": "python",
   "pygments_lexer": "ipython3",
   "version": "3.8.5"
  }
 },
 "nbformat": 4,
 "nbformat_minor": 4
}
