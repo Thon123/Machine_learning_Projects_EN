{
 "cells": [
  {
   "cell_type": "markdown",
   "metadata": {},
   "source": [
    "## Integers Operations"
   ]
  },
  {
   "cell_type": "markdown",
   "metadata": {},
   "source": [
    "### Teorie"
   ]
  },
  {
   "cell_type": "markdown",
   "metadata": {},
   "source": [
    "Hlavní otázka je, jaký je výstup našich operací?"
   ]
  },
  {
   "cell_type": "markdown",
   "metadata": {},
   "source": [
    "- int + int --> int\n",
    "- int - int --> int\n",
    "- int * int --> int\n",
    "- int ** int --> int\n",
    "- int / int --> float 3/4 - 0,75 | 10/2 - 5 ALE i tak jako FLOAT\n",
    "- dělení má vždy výstup float\n",
    "- 155 / 4 ale jako zlome => numerator / denominator = 38 se zbytkem 3\n",
    "- a tím máme // dělení => výsledek je číslo beze zbytku\n",
    "- ale % takto počítáme pouze zbytek\n",
    "- 155 = 4 * (155 // 4) + (155 % 4) => nebo 4*38+3 :)\n",
    "- // div - floor division \n",
    "- % mod - modulo operator\n",
    "- n = d * (n // d) + (n % d)"
   ]
  },
  {
   "cell_type": "markdown",
   "metadata": {},
   "source": [
    "Co je tedy floor divison? "
   ]
  },
  {
   "cell_type": "markdown",
   "metadata": {},
   "source": [
    "- největší číslo v levo od našeho čísla\n",
    "- floor(3,14) -> 3, 1,999 -> 1, floor(2) -> 2\n",
    "- floor(-3,1) -> -4 \n",
    "- a // b = floor(a/b)"
   ]
  },
  {
   "cell_type": "code",
   "execution_count": 16,
   "metadata": {},
   "outputs": [],
   "source": [
    "#Menší počítání pro +\n",
    "# a = 135\n",
    "# b = 4\n",
    "# 135 / 4 == 33,75 (33 a 3/4)\n",
    "# 135 // 4  -> 33\n",
    "# 135 % 4 -> 3\n",
    "#což je samozřejmě\n",
    "# 33*4 + 3 => 135"
   ]
  },
  {
   "cell_type": "code",
   "execution_count": 17,
   "metadata": {},
   "outputs": [],
   "source": [
    "#Negativní čísla\n",
    "# a = -135\n",
    "#b = 4\n",
    "# -135 / 4 = -33,75 (-33 a 3/4)\n",
    "# -135 // 4 -> -34\n",
    "#No tohle je už trochu problém :D\n",
    "# -135 % 4 -> 1\n",
    "\n",
    "#Mod není remainder - jak se všude říká\n",
    "#ALE musí se rovnat rovnice\n",
    "\n",
    "# 4 * (-135 // 4) + (-135 % 4)\n",
    "# 4* - 34 +1\n",
    "# -135\n",
    "\n",
    "# V podstatě jde o to že jakmile vezme 33,75 - nejmenší největší je 33\n",
    "#ale u -33,75 je to -34 a to vše mění"
   ]
  },
  {
   "cell_type": "code",
   "execution_count": null,
   "metadata": {},
   "outputs": [],
   "source": [
    "# Trochu dále\n",
    "# a = 13, b = 4 --> 13/4 = 3.25 -----> // = 3 ------> % 1\n",
    "# a = -13 b = 4 --> -13/4 = -3,25 -----> // =  -4------> % 3\n",
    "# a = 13, b = -4 --> 13/-4 = -3,25 -----> // = -4------> % -3\n",
    "# a = -13, b = -4 --> -13/-4 = 3,25 -----> // = 3------> % -1\n",
    "\n",
    "# a = b * (a//b) + a % b"
   ]
  },
  {
   "cell_type": "markdown",
   "metadata": {},
   "source": [
    "### Code"
   ]
  },
  {
   "cell_type": "code",
   "execution_count": 21,
   "metadata": {},
   "outputs": [
    {
     "data": {
      "text/plain": [
       "(int, float, int, int)"
      ]
     },
     "execution_count": 21,
     "metadata": {},
     "output_type": "execute_result"
    }
   ],
   "source": [
    "type(1+1), type(2/1), type(4-10), type(3*2)\n",
    "#u dělení získáváme float"
   ]
  },
  {
   "cell_type": "code",
   "execution_count": 22,
   "metadata": {},
   "outputs": [
    {
     "name": "stdout",
     "output_type": "stream",
     "text": [
      "2.0\n"
     ]
    }
   ],
   "source": [
    "print(2/1) "
   ]
  },
  {
   "cell_type": "code",
   "execution_count": 23,
   "metadata": {},
   "outputs": [],
   "source": [
    "import math"
   ]
  },
  {
   "cell_type": "code",
   "execution_count": 27,
   "metadata": {},
   "outputs": [
    {
     "data": {
      "text/plain": [
       "(3, 1, -4)"
      ]
     },
     "execution_count": 27,
     "metadata": {},
     "output_type": "execute_result"
    }
   ],
   "source": [
    "math.floor(3.15), math.floor(1.999), math.floor(-3.1)\n",
    "#tady vidíme náš floor v akci"
   ]
  },
  {
   "cell_type": "code",
   "execution_count": 28,
   "metadata": {},
   "outputs": [
    {
     "data": {
      "text/plain": [
       "-4"
      ]
     },
     "execution_count": 28,
     "metadata": {},
     "output_type": "execute_result"
    }
   ],
   "source": [
    "math.floor(-3.0000000000001)"
   ]
  },
  {
   "cell_type": "code",
   "execution_count": 30,
   "metadata": {},
   "outputs": [
    {
     "data": {
      "text/plain": [
       "-3"
      ]
     },
     "execution_count": 30,
     "metadata": {},
     "output_type": "execute_result"
    }
   ],
   "source": [
    "math.floor(-3.0000000000000001)\n",
    "#float mí limitovanou přesnost - takže 1ku už ignoruje"
   ]
  },
  {
   "cell_type": "code",
   "execution_count": 36,
   "metadata": {},
   "outputs": [
    {
     "name": "stdout",
     "output_type": "stream",
     "text": [
      "2.0625\n",
      "2\n",
      "2\n"
     ]
    },
    {
     "data": {
      "text/plain": [
       "(None, None, None)"
      ]
     },
     "execution_count": 36,
     "metadata": {},
     "output_type": "execute_result"
    }
   ],
   "source": [
    "a, b = 33, 16\n",
    "print(a/b), print(a//b), print(math.floor(a/b))"
   ]
  },
  {
   "cell_type": "code",
   "execution_count": 37,
   "metadata": {},
   "outputs": [
    {
     "name": "stdout",
     "output_type": "stream",
     "text": [
      "-2.0625\n",
      "-3\n",
      "-3\n"
     ]
    },
    {
     "data": {
      "text/plain": [
       "(None, None, None)"
      ]
     },
     "execution_count": 37,
     "metadata": {},
     "output_type": "execute_result"
    }
   ],
   "source": [
    "a, b = -33, 16\n",
    "print(a/b), print(a//b), print(math.floor(a/b))"
   ]
  },
  {
   "cell_type": "markdown",
   "metadata": {},
   "source": [
    "Pouze ukázka naší teorie."
   ]
  },
  {
   "cell_type": "code",
   "execution_count": null,
   "metadata": {},
   "outputs": [],
   "source": [
    "a = b * (a//b) + (a % b)"
   ]
  },
  {
   "cell_type": "code",
   "execution_count": 41,
   "metadata": {},
   "outputs": [
    {
     "name": "stdout",
     "output_type": "stream",
     "text": [
      "13 / 4 = 3.25\n",
      "13 // 4 = 3\n",
      "13 % 4 = 1\n",
      "True\n"
     ]
    }
   ],
   "source": [
    "#Dělíme / zbytkujeme a dělíme beze zbytku a kontrolujeme rovnici\n",
    "a, b = 13, 4\n",
    "print(f\"{a} / {b} = {a/b}\")\n",
    "print(f\"{a} // {b} = {a//b}\")\n",
    "print(f\"{a} % {b} = {a%b}\")\n",
    "print( a == b * (a//b) + (a%b))"
   ]
  },
  {
   "cell_type": "code",
   "execution_count": 42,
   "metadata": {},
   "outputs": [
    {
     "name": "stdout",
     "output_type": "stream",
     "text": [
      "-13 / 4 = -3.25\n",
      "-13 // 4 = -4\n",
      "-13 % 4 = 3\n",
      "True\n"
     ]
    }
   ],
   "source": [
    "#Dělíme / zbytkujeme a dělíme beze zbytku a kontrolujeme rovnici\n",
    "a, b = -13, 4\n",
    "print(f\"{a} / {b} = {a/b}\")\n",
    "print(f\"{a} // {b} = {a//b}\")\n",
    "print(f\"{a} % {b} = {a%b}\")\n",
    "print( a == b * (a//b) + (a%b))"
   ]
  },
  {
   "cell_type": "markdown",
   "metadata": {},
   "source": [
    "Znovu potvrzení celé rovnice a teorie."
   ]
  },
  {
   "cell_type": "code",
   "execution_count": null,
   "metadata": {},
   "outputs": [],
   "source": []
  }
 ],
 "metadata": {
  "kernelspec": {
   "display_name": "Python 3",
   "language": "python",
   "name": "python3"
  },
  "language_info": {
   "codemirror_mode": {
    "name": "ipython",
    "version": 3
   },
   "file_extension": ".py",
   "mimetype": "text/x-python",
   "name": "python",
   "nbconvert_exporter": "python",
   "pygments_lexer": "ipython3",
   "version": "3.8.5"
  }
 },
 "nbformat": 4,
 "nbformat_minor": 4
}
