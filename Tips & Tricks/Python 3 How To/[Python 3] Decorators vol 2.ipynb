{
 "cells": [
  {
   "cell_type": "markdown",
   "metadata": {},
   "source": [
    "### Decorators Part 2 - lekce"
   ]
  },
  {
   "cell_type": "markdown",
   "metadata": {},
   "source": [
    "Dekorátory s parametry jsou function call, @timed - nemá function call, @wraps(fn) nebo @lru_cache(maxsize=256) ..to mají trochu jinak"
   ]
  },
  {
   "cell_type": "markdown",
   "metadata": {},
   "source": [
    "V podstatě abychom docílii decoratoru s parametry - tvoříme nested closure?  3 funkce v sobě"
   ]
  },
  {
   "cell_type": "markdown",
   "metadata": {},
   "source": [
    "Takže pokud máme decorator s parametry jedná se o funkci, která vytváří decorator, neboli decorator factory."
   ]
  },
  {
   "cell_type": "code",
   "execution_count": 221,
   "metadata": {},
   "outputs": [],
   "source": [
    "def timed(fn):\n",
    "    from time import perf_counter\n",
    "    \n",
    "    def inner(*args,**kwargs):\n",
    "        start = perf_counter()\n",
    "        result = fn(*args,**kwargs)\n",
    "        end = perf_counter()\n",
    "        elapsed = end - start\n",
    "        print(f\"run time: {elapsed: .6f}s\")\n",
    "        return result\n",
    "    return inner\n",
    "#pouze opakuje timed funkci"
   ]
  },
  {
   "cell_type": "code",
   "execution_count": 218,
   "metadata": {},
   "outputs": [],
   "source": [
    "def cal_fib_recurse(n):\n",
    "    return 1 if n < 3 else cal_fib_recurse(n-2) + cal_fib_recurse(n-1)"
   ]
  },
  {
   "cell_type": "code",
   "execution_count": 220,
   "metadata": {},
   "outputs": [],
   "source": [
    "def fib(n):\n",
    "    return cal_fib_recurse(n)\n",
    "#pouze obaluji prvotní funkc"
   ]
  },
  {
   "cell_type": "code",
   "execution_count": 222,
   "metadata": {},
   "outputs": [],
   "source": [
    "fib = timed(fib) #old school dekorace - pro názornost abychom se dostali k parametrům"
   ]
  },
  {
   "cell_type": "code",
   "execution_count": 223,
   "metadata": {},
   "outputs": [
    {
     "name": "stdout",
     "output_type": "stream",
     "text": [
      "run time:  0.000016s\n"
     ]
    },
    {
     "data": {
      "text/plain": [
       "55"
      ]
     },
     "execution_count": 223,
     "metadata": {},
     "output_type": "execute_result"
    }
   ],
   "source": [
    "fib(10)"
   ]
  },
  {
   "cell_type": "markdown",
   "metadata": {},
   "source": [
    "Nyní chceme víckrát, prozatím hard_coded pomocí for loopu a čísla 10"
   ]
  },
  {
   "cell_type": "code",
   "execution_count": 224,
   "metadata": {},
   "outputs": [],
   "source": [
    "def timed(fn):\n",
    "    from time import perf_counter\n",
    "       \n",
    "    def inner(*args,**kwargs):\n",
    "        total_elapsed = 0\n",
    "        for i in range(10):\n",
    "            start = perf_counter()\n",
    "            result = fn(*args,**kwargs)\n",
    "            end = perf_counter()\n",
    "            total_elapsed += (end-start)\n",
    "            \n",
    "        avg_run_time = total_elapsed / 10\n",
    "        print(f\"AVG run time: {avg_run_time: .6f}s\")\n",
    "        return result\n",
    "    return inner\n",
    "#v podstatě jsem upravil funkci tak aby se opakovala 10x\n",
    "#a z průměrovala výsledek"
   ]
  },
  {
   "cell_type": "code",
   "execution_count": 225,
   "metadata": {},
   "outputs": [],
   "source": [
    "def fib2(n):\n",
    "    return cal_fib_recurse(n)"
   ]
  },
  {
   "cell_type": "code",
   "execution_count": 226,
   "metadata": {},
   "outputs": [],
   "source": [
    "fib2 = timed(fib2)"
   ]
  },
  {
   "cell_type": "code",
   "execution_count": 227,
   "metadata": {},
   "outputs": [
    {
     "name": "stdout",
     "output_type": "stream",
     "text": [
      "AVG run time:  0.100342s\n"
     ]
    },
    {
     "data": {
      "text/plain": [
       "317811"
      ]
     },
     "execution_count": 227,
     "metadata": {},
     "output_type": "execute_result"
    }
   ],
   "source": [
    "fib2(28)"
   ]
  },
  {
   "cell_type": "markdown",
   "metadata": {},
   "source": [
    "Nyní máme tedy průměrný výpočet pro 10 průběhů. Nyní ale potřebujeme hard_coded variantu převést na optional tzn. parametr."
   ]
  },
  {
   "cell_type": "code",
   "execution_count": 249,
   "metadata": {},
   "outputs": [],
   "source": [
    "def timed2(fn, reps):\n",
    "    from time import perf_counter\n",
    "       \n",
    "    def inner(*args,**kwargs):\n",
    "        total_elapsed = 0\n",
    "        for i in range(reps):\n",
    "            start = perf_counter()\n",
    "            result = fn(*args,**kwargs)\n",
    "            end = perf_counter()\n",
    "            total_elapsed += (end-start)\n",
    "            \n",
    "        avg_run_time = total_elapsed / reps\n",
    "        print(f\"AVG run time: {avg_run_time: .6f}s, \\nrepetition number: {reps}\")\n",
    "        return result\n",
    "    return inner\n",
    "#a nyní máme náš skvělý parametr"
   ]
  },
  {
   "cell_type": "code",
   "execution_count": 257,
   "metadata": {},
   "outputs": [],
   "source": [
    "def fib3(n):\n",
    "    return cal_fib_recurse(n)"
   ]
  },
  {
   "cell_type": "code",
   "execution_count": 258,
   "metadata": {},
   "outputs": [],
   "source": [
    "fib3 = timed2(fib3, 7)"
   ]
  },
  {
   "cell_type": "code",
   "execution_count": 259,
   "metadata": {},
   "outputs": [
    {
     "name": "stdout",
     "output_type": "stream",
     "text": [
      "AVG run time:  0.000014s, \n",
      "repetition number: 7\n"
     ]
    },
    {
     "data": {
      "text/plain": [
       "21"
      ]
     },
     "execution_count": 259,
     "metadata": {},
     "output_type": "execute_result"
    }
   ],
   "source": [
    "fib3(8)"
   ]
  },
  {
   "cell_type": "markdown",
   "metadata": {},
   "source": [
    "Nyní máme tedy funkční dekorátor s parametrem. Ale nefunguje v podobě @ - nemůžeme převést na decorátor takto, musíme přetvořit na decorator factory."
   ]
  },
  {
   "cell_type": "code",
   "execution_count": 261,
   "metadata": {},
   "outputs": [],
   "source": [
    "def dec(fn):\n",
    "    print(\"running dec\")\n",
    "    \n",
    "    def inner(*args,**kwargs):\n",
    "        print(\"running inner\")\n",
    "        return fn(*args,**kwargs)\n",
    "    return inner\n",
    "#basic decorátor"
   ]
  },
  {
   "cell_type": "code",
   "execution_count": 262,
   "metadata": {},
   "outputs": [
    {
     "name": "stdout",
     "output_type": "stream",
     "text": [
      "running dec\n"
     ]
    }
   ],
   "source": [
    "@dec\n",
    "def my_func():\n",
    "    print(\"running my_func\")"
   ]
  },
  {
   "cell_type": "code",
   "execution_count": 263,
   "metadata": {},
   "outputs": [
    {
     "name": "stdout",
     "output_type": "stream",
     "text": [
      "running dec\n"
     ]
    }
   ],
   "source": [
    "def my_func():\n",
    "    print(\"running my_func\")\n",
    "my_func = dec(my_func)\n",
    "#stejný zápis"
   ]
  },
  {
   "cell_type": "markdown",
   "metadata": {},
   "source": [
    "V podstatě tiskne running dec - protože to probíhá automaticky."
   ]
  },
  {
   "cell_type": "code",
   "execution_count": 265,
   "metadata": {},
   "outputs": [],
   "source": [
    "def dec_factory():\n",
    "    print(\"running dec_factory\")\n",
    "    \n",
    "    def dec(fn):\n",
    "        print(\"running dec\")\n",
    "    \n",
    "        def inner(*args,**kwargs):\n",
    "            print(\"running inner\")\n",
    "            return fn(*args,**kwargs)\n",
    "        \n",
    "        return inner\n",
    "    return dec\n",
    "#mám obalený dekorátor v dec_factory"
   ]
  },
  {
   "cell_type": "code",
   "execution_count": 266,
   "metadata": {},
   "outputs": [
    {
     "name": "stdout",
     "output_type": "stream",
     "text": [
      "running dec_factory\n"
     ]
    }
   ],
   "source": [
    "dec = dec_factory() "
   ]
  },
  {
   "cell_type": "code",
   "execution_count": 267,
   "metadata": {},
   "outputs": [],
   "source": [
    "def my_func():\n",
    "    print(\"running my_func\")"
   ]
  },
  {
   "cell_type": "code",
   "execution_count": 268,
   "metadata": {},
   "outputs": [
    {
     "name": "stdout",
     "output_type": "stream",
     "text": [
      "running dec\n"
     ]
    }
   ],
   "source": [
    "my_func = dec(my_func)"
   ]
  },
  {
   "cell_type": "code",
   "execution_count": 269,
   "metadata": {},
   "outputs": [
    {
     "name": "stdout",
     "output_type": "stream",
     "text": [
      "running dec\n"
     ]
    }
   ],
   "source": [
    "@dec\n",
    "def my_func():\n",
    "    print(\"running my_func\")"
   ]
  },
  {
   "cell_type": "markdown",
   "metadata": {},
   "source": [
    "dec = dec_factory()  -> proto když chci použít faktory jako dekorátor - musím mít ()"
   ]
  },
  {
   "cell_type": "code",
   "execution_count": 270,
   "metadata": {},
   "outputs": [
    {
     "name": "stdout",
     "output_type": "stream",
     "text": [
      "running dec_factory\n",
      "running dec\n"
     ]
    }
   ],
   "source": [
    "@dec_factory() #a proto máme dekorátor s ()\n",
    "def my_func():\n",
    "    print(\"running my_func\")\n",
    "#a tudíž si mohou předávat parametry"
   ]
  },
  {
   "cell_type": "code",
   "execution_count": 271,
   "metadata": {},
   "outputs": [
    {
     "name": "stdout",
     "output_type": "stream",
     "text": [
      "running dec_factory\n",
      "running dec\n"
     ]
    }
   ],
   "source": [
    "def my_func():\n",
    "    print(\"running my_func\")\n",
    "my_func = dec_factory()(my_func) #stejný zápis\n",
    "#v podstatě volá funkci co volá funkci"
   ]
  },
  {
   "cell_type": "code",
   "execution_count": 273,
   "metadata": {},
   "outputs": [],
   "source": [
    "def dec_factory(a,b):\n",
    "    print(\"running dec_factory\")\n",
    "    \n",
    "    def dec(fn):\n",
    "        print(\"running dec\")\n",
    "    \n",
    "        def inner(*args,**kwargs):\n",
    "            print(\"running inner\")\n",
    "            print(f\"a={a}, b={b}\")\n",
    "            return fn(*args,**kwargs)\n",
    "        \n",
    "        return inner\n",
    "    return dec\n",
    "#nyní přidáváme parametry"
   ]
  },
  {
   "cell_type": "code",
   "execution_count": 277,
   "metadata": {},
   "outputs": [
    {
     "name": "stdout",
     "output_type": "stream",
     "text": [
      "running dec_factory\n"
     ]
    }
   ],
   "source": [
    "dec = dec_factory(10,20) #továrna maká"
   ]
  },
  {
   "cell_type": "code",
   "execution_count": 278,
   "metadata": {},
   "outputs": [
    {
     "name": "stdout",
     "output_type": "stream",
     "text": [
      "running dec\n"
     ]
    }
   ],
   "source": [
    "@dec\n",
    "def my_func():\n",
    "    print(\"running my_func\") #prostřední dekorátor"
   ]
  },
  {
   "cell_type": "code",
   "execution_count": 279,
   "metadata": {},
   "outputs": [
    {
     "name": "stdout",
     "output_type": "stream",
     "text": [
      "running inner\n",
      "a=10, b=20\n",
      "running my_func\n"
     ]
    }
   ],
   "source": [
    "my_func() #volání funkce - předáváme na inner - tiskneme a,b"
   ]
  },
  {
   "cell_type": "code",
   "execution_count": 280,
   "metadata": {},
   "outputs": [
    {
     "name": "stdout",
     "output_type": "stream",
     "text": [
      "running dec_factory\n",
      "running dec\n"
     ]
    }
   ],
   "source": [
    "@dec_factory(100,200)\n",
    "def my_func():\n",
    "    print(\"running my_func\") "
   ]
  },
  {
   "cell_type": "code",
   "execution_count": 281,
   "metadata": {},
   "outputs": [
    {
     "name": "stdout",
     "output_type": "stream",
     "text": [
      "running inner\n",
      "a=100, b=200\n",
      "running my_func\n"
     ]
    }
   ],
   "source": [
    "my_func()"
   ]
  },
  {
   "cell_type": "markdown",
   "metadata": {},
   "source": [
    "A takto to již máme přesněji s parametry. Nyní upravíme timed zpátky."
   ]
  },
  {
   "cell_type": "code",
   "execution_count": 285,
   "metadata": {},
   "outputs": [],
   "source": [
    "def dec_factory(reps):\n",
    "    def timed3(fn):\n",
    "        from time import perf_counter\n",
    "\n",
    "        def inner(*args,**kwargs):\n",
    "            total_elapsed = 0\n",
    "            for i in range(reps):\n",
    "                start = perf_counter()\n",
    "                result = fn(*args,**kwargs)\n",
    "                end = perf_counter()\n",
    "                total_elapsed += (end-start)\n",
    "\n",
    "            avg_run_time = total_elapsed / reps\n",
    "            print(f\"AVG run time: {avg_run_time: .6f}s, \\nrepetition number: {reps}\")\n",
    "            return result\n",
    "        return inner\n",
    "    return timed3"
   ]
  },
  {
   "cell_type": "code",
   "execution_count": 286,
   "metadata": {},
   "outputs": [],
   "source": [
    "@dec_factory(5)\n",
    "def fib3(n):\n",
    "    return cal_fib_recurse(n)"
   ]
  },
  {
   "cell_type": "code",
   "execution_count": 287,
   "metadata": {},
   "outputs": [
    {
     "name": "stdout",
     "output_type": "stream",
     "text": [
      "AVG run time:  0.000007s, \n",
      "repetition number: 5\n"
     ]
    },
    {
     "data": {
      "text/plain": [
       "5"
      ]
     },
     "execution_count": 287,
     "metadata": {},
     "output_type": "execute_result"
    }
   ],
   "source": [
    "fib3(5)"
   ]
  },
  {
   "cell_type": "markdown",
   "metadata": {},
   "source": [
    "A nyní máme dekorátor funkční i s parametrem. V podstatě se to oblaí o funkci dále."
   ]
  },
  {
   "cell_type": "markdown",
   "metadata": {},
   "source": [
    "Ideální je lepší pojmenování timed - OUTER - INNER .nebo TIME - DEC - INNER"
   ]
  },
  {
   "cell_type": "code",
   "execution_count": null,
   "metadata": {},
   "outputs": [],
   "source": []
  }
 ],
 "metadata": {
  "kernelspec": {
   "display_name": "Python 3",
   "language": "python",
   "name": "python3"
  },
  "language_info": {
   "codemirror_mode": {
    "name": "ipython",
    "version": 3
   },
   "file_extension": ".py",
   "mimetype": "text/x-python",
   "name": "python",
   "nbconvert_exporter": "python",
   "pygments_lexer": "ipython3",
   "version": "3.8.5"
  }
 },
 "nbformat": 4,
 "nbformat_minor": 4
}
