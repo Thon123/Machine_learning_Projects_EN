{
 "cells": [
  {
   "cell_type": "markdown",
   "metadata": {},
   "source": [
    "## Constructors and Bases - Teorie"
   ]
  },
  {
   "cell_type": "markdown",
   "metadata": {},
   "source": [
    "Integer je třída int. Int classa obsahuje dva parametry. a = int(10) máme 10, pokud zadáme int(10.9) ztratíme 0.9 a máme znovu pouze 10."
   ]
  },
  {
   "cell_type": "markdown",
   "metadata": {},
   "source": [
    "- int(True) => 1 a naopak, tzn Boolean jsou též integer\n",
    "- int(Decimal(\"10.9) --> a = 10\n",
    "- Můžeme zadávat i ve stringu a Python převede"
   ]
  },
  {
   "cell_type": "markdown",
   "metadata": {},
   "source": [
    "Druhý konstruktor Number Base"
   ]
  },
  {
   "cell_type": "markdown",
   "metadata": {},
   "source": [
    "- int(\"123\") -> Python pozná, že se nám jedná o 123 - BASE10\n",
    "- BASE parametr je mezi 2 až 36, jinak je defaultně 10\n",
    "- int(\"1010\", 2) - chceme BASE 2  :) a máme 10 o base 10 (8-0-2-0)\n",
    "- lepší zápis je int(\"1010\", base = 2) --> udávat base \n",
    "- int(\"A12F\", base = 16) -> 41263 v BASE10 - už začíná být zábava\n",
    "- pozn. base 16 není case sensitive\n",
    "- máme 10 čísel a 26 znaků --> proto base 36 naše maximum\n",
    "- jdeme od 0-9 a A - Z tzn. Base 2 = 0,1\n",
    "- BASE 10 = 0,1,2,3,4,5,6,7,8,9\n",
    "- BASE 11 => 0-9 a A :) "
   ]
  },
  {
   "cell_type": "markdown",
   "metadata": {},
   "source": [
    "Máme bult-in funkce pro získání procesu z BASE10 získat jiný base. "
   ]
  },
  {
   "cell_type": "markdown",
   "metadata": {},
   "source": [
    "- bin() - BASE2 binary --> bin(10) --> \"0b1010\" (0b-pouze pro označení)\n",
    "- oct() - BASE8 - prefix 0o\n",
    "- hex() - BASE16 - prefix 0x\n",
    "- Prefixy jsou zde abychom poznali o jaká base se jedná\n",
    "- a= 0b1010 --> díky prefixu ví že máme BASE10"
   ]
  },
  {
   "cell_type": "markdown",
   "metadata": {},
   "source": [
    "Co další BASES? Python sám o sobě ne, už je třeba Custom code pro tento účel."
   ]
  },
  {
   "cell_type": "markdown",
   "metadata": {},
   "source": [
    "Zkusíme náš custom code pro převod"
   ]
  },
  {
   "cell_type": "code",
   "execution_count": null,
   "metadata": {},
   "outputs": [],
   "source": [
    "# n = 232, b = 5 chceme zjistit jaké čísla musíme použít pro base5\n",
    "# doplníme do rovnice\n",
    "# (232 // 5) * 5 + 232 % 5 = 46 x 5  +2 = 46 * 5 + 2\n",
    "#Problém je že 46 se nevejde do base..takže rozbereme 46\n",
    "# 9 - 1 - 2 //9 příliš velké jdeme dále\n",
    "#  1 4 1 2\n",
    "# --------> Máme base5 pro 232 je 1412 (neřešit tento postupný koloběh)\n",
    "#v podstatě všechny čísla dokud nespadali do 5ky - jelo se podle vzroce stále dokola"
   ]
  },
  {
   "cell_type": "markdown",
   "metadata": {},
   "source": [
    "### Coding"
   ]
  },
  {
   "cell_type": "markdown",
   "metadata": {},
   "source": [
    "Je nutné vzít v potaz že pro každý base - budeme mít jinou mapu. 12 BASE má mapu 0-9 a A-C apod."
   ]
  },
  {
   "cell_type": "code",
   "execution_count": 45,
   "metadata": {},
   "outputs": [],
   "source": [
    "import fractions"
   ]
  },
  {
   "cell_type": "code",
   "execution_count": 46,
   "metadata": {},
   "outputs": [],
   "source": [
    "a = fractions.Fraction(22,7)"
   ]
  },
  {
   "cell_type": "code",
   "execution_count": 49,
   "metadata": {},
   "outputs": [
    {
     "data": {
      "text/plain": [
       "Fraction(22, 7)"
      ]
     },
     "execution_count": 49,
     "metadata": {},
     "output_type": "execute_result"
    }
   ],
   "source": [
    "a"
   ]
  },
  {
   "cell_type": "code",
   "execution_count": 50,
   "metadata": {},
   "outputs": [
    {
     "name": "stdout",
     "output_type": "stream",
     "text": [
      "22/7\n"
     ]
    }
   ],
   "source": [
    "print(a)"
   ]
  },
  {
   "cell_type": "code",
   "execution_count": 52,
   "metadata": {},
   "outputs": [
    {
     "data": {
      "text/plain": [
       "3.142857142857143"
      ]
     },
     "execution_count": 52,
     "metadata": {},
     "output_type": "execute_result"
    }
   ],
   "source": [
    "float(a)"
   ]
  },
  {
   "cell_type": "code",
   "execution_count": 53,
   "metadata": {},
   "outputs": [
    {
     "data": {
      "text/plain": [
       "3"
      ]
     },
     "execution_count": 53,
     "metadata": {},
     "output_type": "execute_result"
    }
   ],
   "source": [
    "int(a)"
   ]
  },
  {
   "cell_type": "code",
   "execution_count": 54,
   "metadata": {},
   "outputs": [
    {
     "data": {
      "text/plain": [
       "5"
      ]
     },
     "execution_count": 54,
     "metadata": {},
     "output_type": "execute_result"
    }
   ],
   "source": [
    "int(\"101\", base = 2)"
   ]
  },
  {
   "cell_type": "code",
   "execution_count": 56,
   "metadata": {},
   "outputs": [
    {
     "data": {
      "text/plain": [
       "255"
      ]
     },
     "execution_count": 56,
     "metadata": {},
     "output_type": "execute_result"
    }
   ],
   "source": [
    "int(\"FF\", base = 16)"
   ]
  },
  {
   "cell_type": "code",
   "execution_count": 57,
   "metadata": {},
   "outputs": [
    {
     "data": {
      "text/plain": [
       "255"
      ]
     },
     "execution_count": 57,
     "metadata": {},
     "output_type": "execute_result"
    }
   ],
   "source": [
    "int(\"ff\", base = 16)"
   ]
  },
  {
   "cell_type": "markdown",
   "metadata": {},
   "source": [
    "Opáčko prozatím."
   ]
  },
  {
   "cell_type": "code",
   "execution_count": 58,
   "metadata": {},
   "outputs": [
    {
     "ename": "ValueError",
     "evalue": "invalid literal for int() with base 11: 'B'",
     "output_type": "error",
     "traceback": [
      "\u001b[1;31m---------------------------------------------------------------------------\u001b[0m",
      "\u001b[1;31mValueError\u001b[0m                                Traceback (most recent call last)",
      "\u001b[1;32m<ipython-input-58-6c885ffb67f7>\u001b[0m in \u001b[0;36m<module>\u001b[1;34m\u001b[0m\n\u001b[1;32m----> 1\u001b[1;33m \u001b[0mint\u001b[0m\u001b[1;33m(\u001b[0m\u001b[1;34m\"B\"\u001b[0m\u001b[1;33m,\u001b[0m \u001b[0mbase\u001b[0m \u001b[1;33m=\u001b[0m \u001b[1;36m11\u001b[0m\u001b[1;33m)\u001b[0m\u001b[1;33m\u001b[0m\u001b[1;33m\u001b[0m\u001b[0m\n\u001b[0m",
      "\u001b[1;31mValueError\u001b[0m: invalid literal for int() with base 11: 'B'"
     ]
    }
   ],
   "source": [
    "int(\"B\", base = 11)\n",
    "#B v base 11 neexistuje"
   ]
  },
  {
   "cell_type": "code",
   "execution_count": 59,
   "metadata": {},
   "outputs": [
    {
     "data": {
      "text/plain": [
       "'0b1010'"
      ]
     },
     "execution_count": 59,
     "metadata": {},
     "output_type": "execute_result"
    }
   ],
   "source": [
    "bin(10) #číslo 10 v base = 2"
   ]
  },
  {
   "cell_type": "code",
   "execution_count": 60,
   "metadata": {},
   "outputs": [
    {
     "data": {
      "text/plain": [
       "'0o12'"
      ]
     },
     "execution_count": 60,
     "metadata": {},
     "output_type": "execute_result"
    }
   ],
   "source": [
    "oct(10) #číslo b base base = 8"
   ]
  },
  {
   "cell_type": "code",
   "execution_count": 61,
   "metadata": {},
   "outputs": [
    {
     "data": {
      "text/plain": [
       "'0xff'"
      ]
     },
     "execution_count": 61,
     "metadata": {},
     "output_type": "execute_result"
    }
   ],
   "source": [
    "hex(255) #číslo v base base = 16"
   ]
  },
  {
   "cell_type": "code",
   "execution_count": 63,
   "metadata": {},
   "outputs": [
    {
     "data": {
      "text/plain": [
       "5"
      ]
     },
     "execution_count": 63,
     "metadata": {},
     "output_type": "execute_result"
    }
   ],
   "source": [
    "b = 0b101 \n",
    "b"
   ]
  },
  {
   "cell_type": "markdown",
   "metadata": {},
   "source": [
    "Pokud používám prefix tak nemusím používat žádné spešl zápisy."
   ]
  },
  {
   "cell_type": "markdown",
   "metadata": {},
   "source": [
    "Nyní na náš custom changer"
   ]
  },
  {
   "cell_type": "code",
   "execution_count": 64,
   "metadata": {},
   "outputs": [],
   "source": [
    "def from_base10(n, b):\n",
    "    if b < 2:\n",
    "        raise ValueError(\"Base b must be >= 2\")\n",
    "    if n < 0:\n",
    "        raise ValueError(\"Number n must b >=0\")\n",
    "    if n == 0:\n",
    "        return [0]\n",
    "    digits = []\n",
    "    while n > 0:\n",
    "        #m = n % b\n",
    "        #n = n // n náhražka za divmod\n",
    "        n, m = divmod(n,b)\n",
    "        digits.insert(0,m)\n",
    "    return digits"
   ]
  },
  {
   "cell_type": "code",
   "execution_count": 65,
   "metadata": {},
   "outputs": [
    {
     "data": {
      "text/plain": [
       "[1, 0, 1, 0]"
      ]
     },
     "execution_count": 65,
     "metadata": {},
     "output_type": "execute_result"
    }
   ],
   "source": [
    "from_base10(10,2)\n",
    "#ona se točí dokola protože n se mění\n",
    "#tzn vezme n a jede dále\n",
    "#až dokud n nstane 0 tak končí"
   ]
  },
  {
   "cell_type": "code",
   "execution_count": 67,
   "metadata": {},
   "outputs": [
    {
     "data": {
      "text/plain": [
       "[15, 15]"
      ]
     },
     "execution_count": 67,
     "metadata": {},
     "output_type": "execute_result"
    }
   ],
   "source": [
    "from_base10(255,16) \n",
    "#všechno funknční "
   ]
  },
  {
   "cell_type": "markdown",
   "metadata": {},
   "source": [
    "Nyní musím encodovat znaky"
   ]
  },
  {
   "cell_type": "code",
   "execution_count": 68,
   "metadata": {},
   "outputs": [],
   "source": [
    "def encode(digits, digit_map):\n",
    "    if max(digits) >= len(digit_map):\n",
    "        raise ValueError(\"Digits map is not long enough to encode digits\")\n",
    "    encoding = \"\"\n",
    "    for d in digits:\n",
    "        encoding += digit_map[d]\n",
    "    #projedu digitmap a to co mám v digits a přiřadím podle toho\n",
    "    return encoding"
   ]
  },
  {
   "cell_type": "code",
   "execution_count": 69,
   "metadata": {},
   "outputs": [
    {
     "data": {
      "text/plain": [
       "'FF'"
      ]
     },
     "execution_count": 69,
     "metadata": {},
     "output_type": "execute_result"
    }
   ],
   "source": [
    "encode([15,15], \"0123456789ABCDEF\")"
   ]
  },
  {
   "cell_type": "code",
   "execution_count": 70,
   "metadata": {},
   "outputs": [],
   "source": [
    "def encode(digits, digit_map):\n",
    "    if max(digits) >= len(digit_map):\n",
    "        raise ValueError(\"Digits map is not long enough to encode digits\")\n",
    "    return \"\".join([digit_map[d] for d in digits])\n",
    "    #pomocí list comprehension \n",
    "    #tzn přidej d z digimapy pokud je v digits "
   ]
  },
  {
   "cell_type": "code",
   "execution_count": 71,
   "metadata": {},
   "outputs": [
    {
     "data": {
      "text/plain": [
       "'FF'"
      ]
     },
     "execution_count": 71,
     "metadata": {},
     "output_type": "execute_result"
    }
   ],
   "source": [
    "encode([15,15], \"0123456789ABCDEF\")"
   ]
  },
  {
   "cell_type": "markdown",
   "metadata": {},
   "source": [
    "Trochu snadnější a též funkční."
   ]
  },
  {
   "cell_type": "code",
   "execution_count": 74,
   "metadata": {},
   "outputs": [],
   "source": [
    "def rebase_from10(number, base):\n",
    "    digit_map = \"0123456789ABCDEFGHIJKLMNOPQRSTUVWXYZ\"\n",
    "    if base < 2 or base > 36:\n",
    "        raise ValueError(\"Invalid base:2 <=2 base <=36\")\n",
    "    sign = -1 if number < 0 else 1 #hledám záporná čísla\n",
    "    number *= sign #a změním číslo násobením -1 => na kladné\n",
    "    \n",
    "    digits = from_base10(number,base)\n",
    "    encoding = encode(digits, digit_map)\n",
    "    if sign == -1:\n",
    "        encoding = \"-\"+ encoding\n",
    "    return encoding\n",
    "#naše metoda je finální\n",
    "#sign používám pro změnu na kladné\n",
    "#dále používám obě funkce výše"
   ]
  },
  {
   "cell_type": "code",
   "execution_count": 76,
   "metadata": {},
   "outputs": [
    {
     "name": "stdout",
     "output_type": "stream",
     "text": [
      "1010\n",
      "10\n"
     ]
    }
   ],
   "source": [
    "e = rebase_from10(10,2)\n",
    "print(e) #na binary\n",
    "print(int(e, base = 2)) #a zpátky"
   ]
  },
  {
   "cell_type": "code",
   "execution_count": 77,
   "metadata": {},
   "outputs": [
    {
     "name": "stdout",
     "output_type": "stream",
     "text": [
      "-1010\n",
      "-10\n"
     ]
    }
   ],
   "source": [
    "e = rebase_from10(-10,2)\n",
    "print(e) #na binary\n",
    "print(int(e, base = 2)) #a zpátky"
   ]
  },
  {
   "cell_type": "markdown",
   "metadata": {},
   "source": [
    "Všechno je funkční a poměrně zřetelné. Menší únava takže bez delších komentářů."
   ]
  },
  {
   "cell_type": "code",
   "execution_count": null,
   "metadata": {},
   "outputs": [],
   "source": []
  }
 ],
 "metadata": {
  "kernelspec": {
   "display_name": "Python 3",
   "language": "python",
   "name": "python3"
  },
  "language_info": {
   "codemirror_mode": {
    "name": "ipython",
    "version": 3
   },
   "file_extension": ".py",
   "mimetype": "text/x-python",
   "name": "python",
   "nbconvert_exporter": "python",
   "pygments_lexer": "ipython3",
   "version": "3.8.5"
  }
 },
 "nbformat": 4,
 "nbformat_minor": 4
}
