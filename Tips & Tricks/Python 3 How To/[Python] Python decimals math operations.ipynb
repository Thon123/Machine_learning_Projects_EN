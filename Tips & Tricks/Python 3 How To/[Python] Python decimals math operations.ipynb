{
 "cells": [
  {
   "cell_type": "markdown",
   "metadata": {},
   "source": [
    "### Decimal Math operations teorie"
   ]
  },
  {
   "cell_type": "markdown",
   "metadata": {},
   "source": [
    "Nektere operace se chovaji odlisne od floatu. Zejmena div a mod tzn // a %."
   ]
  },
  {
   "cell_type": "markdown",
   "metadata": {},
   "source": [
    " - a // b = floor(a/b) pro integers ale pro decimal trunc(a/b)\n",
    " - 10// 3 = 3, pro decimal vysledek 3\n",
    " - 10 // 3 = -4 ale pro decimal vysledek -3 \n",
    " - tzn. to mame trochu mindfuck ale dejme tomu\n",
    " - 10 // 3 => 10 - 3 = 7, 7 - 3 = 4, 4 -3 = 1 STOP vysledek je mensi nez delitel a odecitali jsme 3x proto 3\n",
    " - -10 // 3 => mame minus odebereme negativni znamenko a potom jej vratime --> 3x a jsme na -3\n",
    " - je to stejna operace jako trunc metoda\n",
    " - Nase rovnice je stale stejna a stale se rovna\n",
    " - -135 // 4 pro integer -34 a pro decimal -33 takze zbytek je 1 a -3 => rozdilny zbytek ale rovnice shodna\n",
    " - math modul muzeme pouzivat na decimals ale zmeni si decimals na float a tim ztraci smysl je vubec pouzivat - lepsi se math modulu vyhnout"
   ]
  },
  {
   "cell_type": "markdown",
   "metadata": {},
   "source": [
    "### Coding part"
   ]
  },
  {
   "cell_type": "code",
   "execution_count": 236,
   "metadata": {},
   "outputs": [],
   "source": [
    "import decimal\n",
    "from decimal import Decimal"
   ]
  },
  {
   "cell_type": "markdown",
   "metadata": {},
   "source": [
    "// and %"
   ]
  },
  {
   "cell_type": "markdown",
   "metadata": {},
   "source": [
    "n = d*(n//d) + (n%d)"
   ]
  },
  {
   "cell_type": "code",
   "execution_count": 238,
   "metadata": {},
   "outputs": [
    {
     "name": "stdout",
     "output_type": "stream",
     "text": [
      "3 1\n"
     ]
    }
   ],
   "source": [
    "x, y = 10, 3 \n",
    "print(x//y, x%y)\n",
    "# delime inetger mame 3x a zbytek mame 1\n",
    "# deleni inetegeru je 3 protoze nema logicky .."
   ]
  },
  {
   "cell_type": "code",
   "execution_count": 239,
   "metadata": {},
   "outputs": [
    {
     "name": "stdout",
     "output_type": "stream",
     "text": [
      "3 1\n"
     ]
    }
   ],
   "source": [
    "x, y = Decimal(10), Decimal(3)\n",
    "print(x//y, x%y)\n",
    "#s decimal mame stejne hodnoty - mame +"
   ]
  },
  {
   "cell_type": "code",
   "execution_count": 243,
   "metadata": {},
   "outputs": [
    {
     "name": "stdout",
     "output_type": "stream",
     "text": [
      "-4 2\n"
     ]
    }
   ],
   "source": [
    "x, y = -10, 3 \n",
    "print(x//y, x%y)\n",
    "# 3*-4 je -12 + 2 je -10"
   ]
  },
  {
   "cell_type": "code",
   "execution_count": 244,
   "metadata": {},
   "outputs": [
    {
     "name": "stdout",
     "output_type": "stream",
     "text": [
      "-3 -1\n"
     ]
    }
   ],
   "source": [
    "x, y = Decimal(-10), Decimal(3)\n",
    "print(x//y, x%y)\n",
    "# 3* -3 a  -1 je tez -10"
   ]
  },
  {
   "cell_type": "markdown",
   "metadata": {},
   "source": [
    "V podstate jen ukazka nasi teorie jen na prikladech. Spise potrebuji vedet neco ve stylu - aha bacha na to. Ale umet to pravdepodobne nemusim momentalne umet :)"
   ]
  },
  {
   "cell_type": "code",
   "execution_count": 253,
   "metadata": {},
   "outputs": [
    {
     "name": "stdout",
     "output_type": "stream",
     "text": [
      "-2.302585092994045684017991455\n",
      "1.105170918075647624811707826\n",
      "0.3162277660168379331998893544\n"
     ]
    },
    {
     "data": {
      "text/plain": [
       "(None, None, None)"
      ]
     },
     "execution_count": 253,
     "metadata": {},
     "output_type": "execute_result"
    }
   ],
   "source": [
    "decimal.DefaultContext.prec = 28\n",
    "a = Decimal('0.1')\n",
    "print(a.ln()), print(a.exp()), print(a.sqrt())\n",
    "#tohle jsou nase operace v ramci decimal classy"
   ]
  },
  {
   "cell_type": "code",
   "execution_count": 249,
   "metadata": {},
   "outputs": [],
   "source": [
    "import math"
   ]
  },
  {
   "cell_type": "code",
   "execution_count": 255,
   "metadata": {},
   "outputs": [
    {
     "data": {
      "text/plain": [
       "0.31622776601683794"
      ]
     },
     "execution_count": 255,
     "metadata": {},
     "output_type": "execute_result"
    }
   ],
   "source": [
    "math.sqrt(a)\n",
    "#0.3162277660168379331998893544\n",
    "#0.31622776601683794\n",
    "#jina presnost takze mame mensi rozdily protoze math modul prehodi moji hodnotu na floats"
   ]
  },
  {
   "cell_type": "code",
   "execution_count": 256,
   "metadata": {},
   "outputs": [],
   "source": [
    "x = 2\n",
    "x_dec = Decimal(2)"
   ]
  },
  {
   "cell_type": "code",
   "execution_count": 259,
   "metadata": {},
   "outputs": [],
   "source": [
    "root_float = math.sqrt(x)\n",
    "root_mixed = math.sqrt(x_dec)\n",
    "root_dec = x_dec.sqrt()"
   ]
  },
  {
   "cell_type": "code",
   "execution_count": 264,
   "metadata": {},
   "outputs": [
    {
     "name": "stdout",
     "output_type": "stream",
     "text": [
      "1.414213562373095145474621859\n",
      "1.414213562373095145474621859\n",
      "1.414213562373095048801688724\n"
     ]
    }
   ],
   "source": [
    "print(format(root_float, '1.27f'))\n",
    "print(format(root_mixed, '1.27f'))\n",
    "print(root_dec)\n",
    "## zajimave odlisnost math od opaku"
   ]
  },
  {
   "cell_type": "code",
   "execution_count": 265,
   "metadata": {},
   "outputs": [
    {
     "name": "stdout",
     "output_type": "stream",
     "text": [
      "2.000000000000000444089209850\n",
      "2.000000000000000444089209850\n",
      "1.999999999999999999999999999\n"
     ]
    }
   ],
   "source": [
    "print(format(root_float*root_float, '1.27f'))\n",
    "print(format(root_mixed*root_mixed, '1.27f'))\n",
    "print(root_dec*root_dec)\n",
    "#prvni a druhy ma shodne vysledkz protoze ikdyz mame decimal a float\n",
    "# math knihovna pouzije decimal jako float takze to mame shodne\n",
    "#ale co je pekne nase decimal operace je mnohem zdatnejsi ==> vetsi presnost"
   ]
  },
  {
   "cell_type": "code",
   "execution_count": 268,
   "metadata": {},
   "outputs": [
    {
     "name": "stdout",
     "output_type": "stream",
     "text": [
      "0.01\n",
      "0.01000000000000000020816681711721685132943093776702880859375\n"
     ]
    }
   ],
   "source": [
    "x_dec_not_floated = Decimal('0.01')\n",
    "x_dec_floated = Decimal(0.01)\n",
    "print(x_dec_not_floated)\n",
    "print(x_dec_floated)\n",
    "#Tady to vidime tak trochu presne jak nam to zfusuje na float"
   ]
  },
  {
   "cell_type": "code",
   "execution_count": null,
   "metadata": {},
   "outputs": [],
   "source": []
  }
 ],
 "metadata": {
  "kernelspec": {
   "display_name": "Python 3",
   "language": "python",
   "name": "python3"
  },
  "language_info": {
   "codemirror_mode": {
    "name": "ipython",
    "version": 3
   },
   "file_extension": ".py",
   "mimetype": "text/x-python",
   "name": "python",
   "nbconvert_exporter": "python",
   "pygments_lexer": "ipython3",
   "version": "3.8.5"
  }
 },
 "nbformat": 4,
 "nbformat_minor": 4
}
