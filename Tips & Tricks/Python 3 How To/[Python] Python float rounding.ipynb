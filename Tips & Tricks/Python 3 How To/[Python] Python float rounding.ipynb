{
 "cells": [
  {
   "cell_type": "markdown",
   "metadata": {},
   "source": [
    "### Floats Rounding teorie"
   ]
  },
  {
   "cell_type": "markdown",
   "metadata": {},
   "source": [
    "Round funkce round(x,n=0), n je v podstate na kolik chceme zaokrouhlit. round(x) -> prevedeme na int"
   ]
  },
  {
   "cell_type": "markdown",
   "metadata": {},
   "source": [
    "- round 1.3 -> round(x) = 1 a integer, 0.23 k hodnote 1 a 0.77 k hodnote 2\n",
    "- round 1.3 -> round(x,0) = 1.0 a vysledek float\n",
    "- round(x, n=1) -> zaokrouhlujeme na 10 na -1 tedy na 0.1 = 1.23 na desetiny 0.3 k 1.2 a 0.7 k 1.3 takze vysledek je 1.2\n",
    "- predtim bylo 10 na 0 -> 1 a tudiz zaokrouhleni na jednotky cele\n",
    "- round(x, n=-1) tak menim 10 na --1 takze 10 na 1 - zaokrouhliji na desitky --> pokud by bylo x 18.3 zaokrouhli na 20\n",
    "- x = 1,25 a chceme na desetinu pote mame 0.05 a 0.05 co pote? Zaokrouhluje pryc od nuly tzn na 1.3 ale u zaporu tez tzn -1.25 na -1.3\n",
    "- nicmene mame zde bankers rounding takze zaokrouhluje na suda - pokud ma lichou hodnotu zaokrouhli opacne tzn 1.25 na 1.2 a 1.35 na 1.4, 15 na 20, 25 na 20 \n",
    "- Bankovni rounding právě proto ze 5ka by se zaokrouhlila nahoru --> vetsi uroky apod..nejednotne\n",
    "- 0.5 1.5 2.5 --> 1.5 je prumer, 2 prumer pri klasickem zaokrouhleni, 1,33 prumer -> presnejsi 'lesss bias'\n",
    "- int(x +0.5) pridavani 0.5 aby dochazelo k zaokrouhlovani away from zero --> nefunguje u zapornych cisel ale mozne to je taktez\n",
    "- pokud chceme opravdu zaokrouhlit away from zero musime nejdrive provest absolutni hodnotu pro x - a pote navratit znak --> vykryjeme tak zaporne hodnoty, pouziva pro to funkci math.copysign"
   ]
  },
  {
   "cell_type": "markdown",
   "metadata": {},
   "source": [
    "### Coding part"
   ]
  },
  {
   "cell_type": "code",
   "execution_count": 150,
   "metadata": {},
   "outputs": [],
   "source": [
    "#round funkci neni treba importovat je defaultne v pythonu"
   ]
  },
  {
   "cell_type": "code",
   "execution_count": 152,
   "metadata": {},
   "outputs": [
    {
     "data": {
      "text/plain": [
       "(2, int)"
      ]
     },
     "execution_count": 152,
     "metadata": {},
     "output_type": "execute_result"
    }
   ],
   "source": [
    "a = round(1.9)\n",
    "a, type(a)\n",
    "#tzn pokud nezadame nic prehodine na integer "
   ]
  },
  {
   "cell_type": "code",
   "execution_count": 153,
   "metadata": {},
   "outputs": [
    {
     "data": {
      "text/plain": [
       "(2.0, float)"
      ]
     },
     "execution_count": 153,
     "metadata": {},
     "output_type": "execute_result"
    }
   ],
   "source": [
    "a = round(1.9,0)\n",
    "a, type(a)\n",
    "# jakmile zadam parametr pro n jiz prevede na floaut"
   ]
  },
  {
   "cell_type": "markdown",
   "metadata": {},
   "source": [
    "n > 0"
   ]
  },
  {
   "cell_type": "code",
   "execution_count": 154,
   "metadata": {},
   "outputs": [
    {
     "data": {
      "text/plain": [
       "(1.889, 1.89, 2.0)"
      ]
     },
     "execution_count": 154,
     "metadata": {},
     "output_type": "execute_result"
    }
   ],
   "source": [
    "round(1.8888,3), round(1.8888,2),round(1.8888,0)\n",
    "#jasna ukazka zaokrouhleni "
   ]
  },
  {
   "cell_type": "markdown",
   "metadata": {},
   "source": [
    "n < 0"
   ]
  },
  {
   "cell_type": "code",
   "execution_count": 156,
   "metadata": {},
   "outputs": [
    {
     "data": {
      "text/plain": [
       "(888.9, 889.0, 890.0, 900.0, 1000.0, 0.0)"
      ]
     },
     "execution_count": 156,
     "metadata": {},
     "output_type": "execute_result"
    }
   ],
   "source": [
    "round(888.88,1),round(888.88,0),round(888.88,-1),round(888.88,-2), round(888.88,-3), round(888.88,-4)\n",
    "#na desetiny, jednotky, desitky, stovky, tisice, desetitice -- ma to blize k 0 nez k 10 000"
   ]
  },
  {
   "cell_type": "markdown",
   "metadata": {},
   "source": [
    "Ties"
   ]
  },
  {
   "cell_type": "code",
   "execution_count": 158,
   "metadata": {},
   "outputs": [
    {
     "data": {
      "text/plain": [
       "(1.2, 1.4)"
      ]
     },
     "execution_count": 158,
     "metadata": {},
     "output_type": "execute_result"
    }
   ],
   "source": [
    "round(1.25,1), round(1.35,1) #bankovni zaokrouhlovani - k sudym cislum"
   ]
  },
  {
   "cell_type": "code",
   "execution_count": 159,
   "metadata": {},
   "outputs": [
    {
     "data": {
      "text/plain": [
       "(-1.2, -1.4)"
      ]
     },
     "execution_count": 159,
     "metadata": {},
     "output_type": "execute_result"
    }
   ],
   "source": [
    "round(-1.25,1), round(-1.35,1) #shodne i pro zaporne hodnoty"
   ]
  },
  {
   "cell_type": "markdown",
   "metadata": {},
   "source": [
    "Decimals maji vice technik pro zaokrouhleni u floatu se to musi dotvorit."
   ]
  },
  {
   "cell_type": "code",
   "execution_count": 161,
   "metadata": {},
   "outputs": [],
   "source": [
    "#musim si vytvorit spesl metodu pokud chci away from zero\n",
    "def _round(x):\n",
    "    from math import copysign\n",
    "    return int(x+0.5*copysign(1,x))\n",
    "    #v podstate vezme x da do absolutni hodnoty a prida znamenko"
   ]
  },
  {
   "cell_type": "code",
   "execution_count": 162,
   "metadata": {},
   "outputs": [
    {
     "data": {
      "text/plain": [
       "(2, 3)"
      ]
     },
     "execution_count": 162,
     "metadata": {},
     "output_type": "execute_result"
    }
   ],
   "source": [
    "round(2.5), _round(2.5)\n",
    "#vidime zde "
   ]
  },
  {
   "cell_type": "code",
   "execution_count": null,
   "metadata": {},
   "outputs": [],
   "source": []
  }
 ],
 "metadata": {
  "kernelspec": {
   "display_name": "Python 3",
   "language": "python",
   "name": "python3"
  },
  "language_info": {
   "codemirror_mode": {
    "name": "ipython",
    "version": 3
   },
   "file_extension": ".py",
   "mimetype": "text/x-python",
   "name": "python",
   "nbconvert_exporter": "python",
   "pygments_lexer": "ipython3",
   "version": "3.8.5"
  }
 },
 "nbformat": 4,
 "nbformat_minor": 4
}
