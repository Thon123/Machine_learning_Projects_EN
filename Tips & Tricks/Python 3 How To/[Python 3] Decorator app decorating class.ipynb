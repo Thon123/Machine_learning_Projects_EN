{
 "cells": [
  {
   "cell_type": "markdown",
   "metadata": {},
   "source": [
    "### DeAp Decorating Classes"
   ]
  },
  {
   "cell_type": "markdown",
   "metadata": {},
   "source": [
    "Tzn. nebudeme mít classu co je dekorátor - ale budeme dekorovat classy! Tj. docela velkej rozdíl."
   ]
  },
  {
   "cell_type": "code",
   "execution_count": 319,
   "metadata": {},
   "outputs": [],
   "source": [
    "from fractions import Fraction"
   ]
  },
  {
   "cell_type": "code",
   "execution_count": 320,
   "metadata": {},
   "outputs": [],
   "source": [
    "f = Fraction(2,3)"
   ]
  },
  {
   "cell_type": "code",
   "execution_count": 321,
   "metadata": {},
   "outputs": [
    {
     "ename": "AttributeError",
     "evalue": "'Fraction' object has no attribute 'speak'",
     "output_type": "error",
     "traceback": [
      "\u001b[1;31m---------------------------------------------------------------------------\u001b[0m",
      "\u001b[1;31mAttributeError\u001b[0m                            Traceback (most recent call last)",
      "\u001b[1;32m<ipython-input-321-51229399ad48>\u001b[0m in \u001b[0;36m<module>\u001b[1;34m\u001b[0m\n\u001b[1;32m----> 1\u001b[1;33m \u001b[0mf\u001b[0m\u001b[1;33m.\u001b[0m\u001b[0mspeak\u001b[0m\u001b[1;33m(\u001b[0m\u001b[1;33m)\u001b[0m\u001b[1;33m\u001b[0m\u001b[1;33m\u001b[0m\u001b[0m\n\u001b[0m",
      "\u001b[1;31mAttributeError\u001b[0m: 'Fraction' object has no attribute 'speak'"
     ]
    }
   ],
   "source": [
    "f.speak()"
   ]
  },
  {
   "cell_type": "markdown",
   "metadata": {},
   "source": [
    "Tak naučme zlomky mluvit!"
   ]
  },
  {
   "cell_type": "code",
   "execution_count": 322,
   "metadata": {},
   "outputs": [],
   "source": [
    "Fraction.speak = 100"
   ]
  },
  {
   "cell_type": "code",
   "execution_count": 323,
   "metadata": {},
   "outputs": [
    {
     "data": {
      "text/plain": [
       "100"
      ]
     },
     "execution_count": 323,
     "metadata": {},
     "output_type": "execute_result"
    }
   ],
   "source": [
    "f.speak"
   ]
  },
  {
   "cell_type": "markdown",
   "metadata": {},
   "source": [
    "Ale to je jen hodnota, zkusíme mu dát funkci, callable."
   ]
  },
  {
   "cell_type": "code",
   "execution_count": 324,
   "metadata": {},
   "outputs": [],
   "source": [
    "Fraction.speak = lambda self, message: f\"Fraction says {message}\""
   ]
  },
  {
   "cell_type": "code",
   "execution_count": 325,
   "metadata": {},
   "outputs": [
    {
     "data": {
      "text/plain": [
       "'Fraction saysThis is a late parrot'"
      ]
     },
     "execution_count": 325,
     "metadata": {},
     "output_type": "execute_result"
    }
   ],
   "source": [
    "f.speak(\"This is a late parrot\")"
   ]
  },
  {
   "cell_type": "markdown",
   "metadata": {},
   "source": [
    "Trochu pro ujasnění, naše lambda má self - objet, classa a message tzn. parametr, který mu zadáváme. Takže naše frakce je sama o sobě objekt - a naučíme classu takto metodu speak."
   ]
  },
  {
   "cell_type": "markdown",
   "metadata": {},
   "source": [
    "Monkey patching = právě dodávání atribut \"in runntime\""
   ]
  },
  {
   "cell_type": "markdown",
   "metadata": {},
   "source": [
    "#### Frakce jestli je inetgral"
   ]
  },
  {
   "cell_type": "code",
   "execution_count": 327,
   "metadata": {},
   "outputs": [],
   "source": [
    "Fraction.is_integral = lambda self: self.denominator == 1"
   ]
  },
  {
   "cell_type": "code",
   "execution_count": 328,
   "metadata": {},
   "outputs": [],
   "source": [
    "f1 = Fraction(2,3)\n",
    "f2 = Fraction(64,8)"
   ]
  },
  {
   "cell_type": "markdown",
   "metadata": {},
   "source": [
    "Celé číslo je pokud je dělitel 1 - cokoliv co dělím 1 je celé, jasné."
   ]
  },
  {
   "cell_type": "code",
   "execution_count": 330,
   "metadata": {},
   "outputs": [
    {
     "data": {
      "text/plain": [
       "(False, True)"
      ]
     },
     "execution_count": 330,
     "metadata": {},
     "output_type": "execute_result"
    }
   ],
   "source": [
    "f1.is_integral(), f2.is_integral()"
   ]
  },
  {
   "cell_type": "markdown",
   "metadata": {},
   "source": [
    "Moc pěkné :) - máme ověření zda je frakce celé číslo. Zkusíme pomocí deco."
   ]
  },
  {
   "cell_type": "code",
   "execution_count": 331,
   "metadata": {},
   "outputs": [],
   "source": [
    "def dec_speak(cls): #funkci předáváme classu\n",
    "    cls.speak = lambda self, message: f\"{self.__class__.__name__} says {message}\"\n",
    "    \n",
    "    return cls\n"
   ]
  },
  {
   "cell_type": "code",
   "execution_count": 332,
   "metadata": {},
   "outputs": [],
   "source": [
    "Fraction = dec_speak(Fraction)"
   ]
  },
  {
   "cell_type": "code",
   "execution_count": 333,
   "metadata": {},
   "outputs": [],
   "source": [
    "f1 = Fraction(2,3)"
   ]
  },
  {
   "cell_type": "code",
   "execution_count": 334,
   "metadata": {},
   "outputs": [
    {
     "data": {
      "text/plain": [
       "'Fraction says Hello'"
      ]
     },
     "execution_count": 334,
     "metadata": {},
     "output_type": "execute_result"
    }
   ],
   "source": [
    "f1.speak(\"Hello\")"
   ]
  },
  {
   "cell_type": "code",
   "execution_count": 335,
   "metadata": {},
   "outputs": [],
   "source": [
    "class Person:\n",
    "    pass"
   ]
  },
  {
   "cell_type": "code",
   "execution_count": 336,
   "metadata": {},
   "outputs": [],
   "source": [
    "Person = dec_speak(Person)"
   ]
  },
  {
   "cell_type": "code",
   "execution_count": 337,
   "metadata": {},
   "outputs": [],
   "source": [
    "p = Person()"
   ]
  },
  {
   "cell_type": "code",
   "execution_count": 338,
   "metadata": {},
   "outputs": [
    {
     "data": {
      "text/plain": [
       "'Person says this work'"
      ]
     },
     "execution_count": 338,
     "metadata": {},
     "output_type": "execute_result"
    }
   ],
   "source": [
    "p.speak(\"this work\")"
   ]
  },
  {
   "cell_type": "markdown",
   "metadata": {},
   "source": [
    "V podstatě zde ukazuji nástin jak vše funguje. Definuji že moje funkce speak bere jako parametr classu a tudíž ta classa když je volaná tak zavolá jméno classy a zprávu kterou zadám. Stejný princip jako u dekorátorů."
   ]
  },
  {
   "cell_type": "markdown",
   "metadata": {},
   "source": [
    "#### Chceme dodat debugging info pro classu"
   ]
  },
  {
   "cell_type": "code",
   "execution_count": 340,
   "metadata": {},
   "outputs": [],
   "source": [
    "from datetime import datetime, timezone"
   ]
  },
  {
   "cell_type": "code",
   "execution_count": 349,
   "metadata": {},
   "outputs": [],
   "source": [
    "def info(self): #self je zde důležité! Jako kdyby to byla classa\n",
    "    \"\"\"zde pouze řeším jaké informace přidávám do listu\n",
    "    neboli jaké bude naše debugging info\n",
    "    #čas - jméno a id\"\"\"\n",
    "    results = []\n",
    "    results.append(f\"time: {datetime.now(timezone.utc)}\")\n",
    "    results.append(f\"Class {self.__class__.__name__}\")\n",
    "    results.append(f\"id: {hex(id(self))}\")\n",
    "        \n",
    "    #vars - chceme atributy classy získat - spešl fičura a items\n",
    "    #pro získání klíčů a hodnot\n",
    "    for k,v in vars(self).items():\n",
    "        results.append(f\"{k}: {v}\")\n",
    "    return results\n",
    "\n",
    "def debug_info(cls):\n",
    "    cls.debug = info\n",
    "    return cls\n",
    "\n",
    "#nakonec jsem rozděllil na dvě části, máme funkci info - doluje prostě jen data\n",
    "#a debug_info ta bude používat info pro dolování dat z classy"
   ]
  },
  {
   "cell_type": "code",
   "execution_count": 350,
   "metadata": {},
   "outputs": [],
   "source": [
    "@debug_info\n",
    "class Person:\n",
    "    def __init__(self, name, birth_year):\n",
    "        self.name = name\n",
    "        self.birth_year = birth_year\n",
    "        \n",
    "    def say_hi():\n",
    "        return \"hello there\""
   ]
  },
  {
   "cell_type": "code",
   "execution_count": 351,
   "metadata": {},
   "outputs": [],
   "source": [
    "p = Person(\"John\", 1939)"
   ]
  },
  {
   "cell_type": "code",
   "execution_count": 352,
   "metadata": {},
   "outputs": [
    {
     "data": {
      "text/plain": [
       "['time: 2020-06-03 04:37:48.226791+00:00',\n",
       " 'Class Person',\n",
       " 'id: 0x1d0b8021d00',\n",
       " 'name: John',\n",
       " 'birth_year: 1939']"
      ]
     },
     "execution_count": 352,
     "metadata": {},
     "output_type": "execute_result"
    }
   ],
   "source": [
    "p.debug()"
   ]
  },
  {
   "cell_type": "markdown",
   "metadata": {},
   "source": [
    "Takže mám dekorovanou classu :D. Tzn. moje classa zavolá debug info a ta zavolá info z funkce info."
   ]
  },
  {
   "cell_type": "markdown",
   "metadata": {},
   "source": [
    "#### Nyní pokus bez navracení classy"
   ]
  },
  {
   "cell_type": "code",
   "execution_count": 353,
   "metadata": {},
   "outputs": [],
   "source": [
    "def info2(self): #self je zde důležité! Jako kdyby to byla classa\n",
    "    \"\"\"zde pouze řeším jaké informace přidávám do listu\n",
    "    neboli jaké bude naše debugging info\n",
    "    #čas - jméno a id\"\"\"\n",
    "    results = []\n",
    "    results.append(f\"time: {datetime.now(timezone.utc)}\")\n",
    "    results.append(f\"Class {self.__class__.__name__}\")\n",
    "    results.append(f\"id: {hex(id(self))}\")\n",
    "        \n",
    "    #vars - chceme atributy classy získat - spešl fičura a items\n",
    "    #pro získání klíčů a hodnot\n",
    "    for k,v in vars(self).items():\n",
    "        results.append(f\"{k}: {v}\")\n",
    "    return results\n",
    "\n",
    "def debug_info2(cls):\n",
    "    cls.debug = info2\n",
    "#zadávám si 2ky pro sychr"
   ]
  },
  {
   "cell_type": "code",
   "execution_count": 354,
   "metadata": {},
   "outputs": [],
   "source": [
    "@debug_info\n",
    "class Person2:\n",
    "    def __init__(self, name, birth_year):\n",
    "        self.name = name\n",
    "        self.birth_year = birth_year\n",
    "        \n",
    "    def say_hi():\n",
    "        return \"hello there\""
   ]
  },
  {
   "cell_type": "code",
   "execution_count": 355,
   "metadata": {},
   "outputs": [],
   "source": [
    "s = Person2(\"John2\", 1940)"
   ]
  },
  {
   "cell_type": "code",
   "execution_count": 356,
   "metadata": {},
   "outputs": [
    {
     "data": {
      "text/plain": [
       "['time: 2020-06-03 04:41:25.237897+00:00',\n",
       " 'Class Person2',\n",
       " 'id: 0x1d0b82a8d30',\n",
       " 'name: John2',\n",
       " 'birth_year: 1940']"
      ]
     },
     "execution_count": 356,
     "metadata": {},
     "output_type": "execute_result"
    }
   ],
   "source": [
    "s.debug()"
   ]
  },
  {
   "cell_type": "markdown",
   "metadata": {},
   "source": [
    "Neukazujeme nic jiného jen to že debug_info2 nemusí nic navracet. Náš deco se ale dá použít na více věcí takto."
   ]
  },
  {
   "cell_type": "code",
   "execution_count": 360,
   "metadata": {},
   "outputs": [],
   "source": [
    "@debug_info\n",
    "class Car:\n",
    "    def __init__(self, make, model, year, top_speed):\n",
    "        self.make = make\n",
    "        self.model = model\n",
    "        self.year = year\n",
    "        self.top_speed = top_speed\n",
    "        self._speed =  0\n",
    "        #pseudo private\n",
    "    #vytvořím speed na kterou mohu použít set a get\n",
    "    @property #built-in deco pro metody\n",
    "    def speed(self):\n",
    "        return self._speed\n",
    "    \n",
    "    @speed.setter\n",
    "    def speed(self, new_speed):\n",
    "        if new_speed > self.top_speed:\n",
    "            raise ValueError(\"Speed cannon exceed top_speed\")\n",
    "        else:\n",
    "            self._speed = new_speed\n",
    "    #settery a gettery jsou trochu mimo prozatím\n",
    "        "
   ]
  },
  {
   "cell_type": "code",
   "execution_count": 358,
   "metadata": {},
   "outputs": [],
   "source": [
    "favorite = Car(\"Ford\",\"Model T\", 1908, 45)"
   ]
  },
  {
   "cell_type": "code",
   "execution_count": 359,
   "metadata": {},
   "outputs": [
    {
     "data": {
      "text/plain": [
       "['time: 2020-06-03 05:32:15.672613+00:00',\n",
       " 'Class Car',\n",
       " 'id: 0x1d0b84bff10',\n",
       " 'make: Ford',\n",
       " 'model: Model T',\n",
       " 'year: 1908',\n",
       " 'top_speed: 45',\n",
       " '_speed: 0']"
      ]
     },
     "execution_count": 359,
     "metadata": {},
     "output_type": "execute_result"
    }
   ],
   "source": [
    "favorite.debug()"
   ]
  },
  {
   "cell_type": "markdown",
   "metadata": {},
   "source": [
    "A mám, zde krásné info ohledně všeho co je třeba :)."
   ]
  },
  {
   "cell_type": "code",
   "execution_count": 361,
   "metadata": {},
   "outputs": [],
   "source": [
    "from math import sqrt"
   ]
  },
  {
   "cell_type": "code",
   "execution_count": 367,
   "metadata": {},
   "outputs": [],
   "source": [
    "class Point:\n",
    "    def __init__(self, x, y):\n",
    "        self.x = x\n",
    "        self.y = y\n",
    "        \n",
    "    def __abs__(self):\n",
    "        \"\"\"speciální dunder funkce pro absolutní\"\"\"\n",
    "        return sqrt(self.x**2 + self.y**2)\n",
    "    \n",
    "    def __repr__(self):\n",
    "        return f\"Point{self.x}, {self.y}\"\n",
    "#v podstatě mám jen classu o x a y .."
   ]
  },
  {
   "cell_type": "code",
   "execution_count": 363,
   "metadata": {},
   "outputs": [],
   "source": [
    "p1, p2, p3 = Point(2,3), Point(2,3), Point(0,0)"
   ]
  },
  {
   "cell_type": "code",
   "execution_count": 368,
   "metadata": {},
   "outputs": [
    {
     "data": {
      "text/plain": [
       "3.605551275463989"
      ]
     },
     "execution_count": 368,
     "metadata": {},
     "output_type": "execute_result"
    }
   ],
   "source": [
    "abs(p1) #metoda funguje"
   ]
  },
  {
   "cell_type": "code",
   "execution_count": 369,
   "metadata": {},
   "outputs": [
    {
     "data": {
      "text/plain": [
       "False"
      ]
     },
     "execution_count": 369,
     "metadata": {},
     "output_type": "execute_result"
    }
   ],
   "source": [
    "p1 is p2 #jasné mají jinou referenci"
   ]
  },
  {
   "cell_type": "code",
   "execution_count": 370,
   "metadata": {},
   "outputs": [
    {
     "data": {
      "text/plain": [
       "False"
      ]
     },
     "execution_count": 370,
     "metadata": {},
     "output_type": "execute_result"
    }
   ],
   "source": [
    "p1 == p2 #nemáme qual metodu nelze porovnávat classy"
   ]
  },
  {
   "cell_type": "code",
   "execution_count": 375,
   "metadata": {},
   "outputs": [],
   "source": [
    "class Point:\n",
    "    def __init__(self, x, y):\n",
    "        self.x = x\n",
    "        self.y = y\n",
    "        \n",
    "    def __abs__(self):\n",
    "        \"\"\"speciální dunder funkce pro absolutní\"\"\"\n",
    "        return sqrt(self.x**2 + self.y**2)\n",
    "    \n",
    "    def __repr__(self):\n",
    "        return f\"Point{self.x}, {self.y}\"\n",
    "    \n",
    "    def __eq__(self, other):\n",
    "        \"\"\"dunder pro rovnost\"\"\"\n",
    "        if isinstance(other, Point):\n",
    "        #pokud se jedná o point - rovnost nastane takto\n",
    "            return self.x == other.x and self.y == other.y\n",
    "        else:\n",
    "            return False\n",
    "    def __lt__(self, other):\n",
    "        \"\"\"dunder pro porovnávání\"\"\"\n",
    "        if isinstance(other, Point):\n",
    "            return abs(self) < abs(other)\n",
    "        #tehle zápis mě docela prudí - Trochu se zamyslet proč tohle takto funguje\n",
    "        #viz na řádku 378 ..Ono mu stačí je < ..protože Python je schopný si to přetočit\n",
    "        #takže to pozná ..--> ALE <= => NENÍ podporováno\n",
    "        else:\n",
    "            return NotImplemented"
   ]
  },
  {
   "cell_type": "code",
   "execution_count": 376,
   "metadata": {},
   "outputs": [],
   "source": [
    "p1, p2, p3 = Point(2,3), Point(2,3), Point(0,0)"
   ]
  },
  {
   "cell_type": "code",
   "execution_count": 377,
   "metadata": {},
   "outputs": [
    {
     "data": {
      "text/plain": [
       "True"
      ]
     },
     "execution_count": 377,
     "metadata": {},
     "output_type": "execute_result"
    }
   ],
   "source": [
    "p1 == p2"
   ]
  },
  {
   "cell_type": "markdown",
   "metadata": {},
   "source": [
    "Nyní nám to vše funguje, ale musíme dodat ordering."
   ]
  },
  {
   "cell_type": "code",
   "execution_count": 378,
   "metadata": {},
   "outputs": [
    {
     "data": {
      "text/plain": [
       "True"
      ]
     },
     "execution_count": 378,
     "metadata": {},
     "output_type": "execute_result"
    }
   ],
   "source": [
    "p3 < p1"
   ]
  },
  {
   "cell_type": "code",
   "execution_count": 380,
   "metadata": {},
   "outputs": [
    {
     "data": {
      "text/plain": [
       "False"
      ]
     },
     "execution_count": 380,
     "metadata": {},
     "output_type": "execute_result"
    }
   ],
   "source": [
    "p3 > p1 #python si to přepíše jako p1 < p3"
   ]
  },
  {
   "cell_type": "code",
   "execution_count": 381,
   "metadata": {},
   "outputs": [
    {
     "ename": "SyntaxError",
     "evalue": "invalid syntax (<ipython-input-381-b9f3fb8e915d>, line 2)",
     "output_type": "error",
     "traceback": [
      "\u001b[1;36m  File \u001b[1;32m\"<ipython-input-381-b9f3fb8e915d>\"\u001b[1;36m, line \u001b[1;32m2\u001b[0m\n\u001b[1;33m    p1 => p2\u001b[0m\n\u001b[1;37m        ^\u001b[0m\n\u001b[1;31mSyntaxError\u001b[0m\u001b[1;31m:\u001b[0m invalid syntax\n"
     ]
    }
   ],
   "source": [
    "#ale\n",
    "p1 => p2"
   ]
  },
  {
   "cell_type": "markdown",
   "metadata": {},
   "source": [
    "Nemáme. Museli bychom definovat další dunder - le, gt, ge, ne apod."
   ]
  },
  {
   "cell_type": "markdown",
   "metadata": {},
   "source": [
    "* a <= b iff (a<b or a = b)\n",
    "* a > b iff not (a<b) and a != b\n",
    "* a >= b iff not (a<b)"
   ]
  },
  {
   "cell_type": "markdown",
   "metadata": {},
   "source": [
    "V podstatě jen zápis že mi stačí rovnost a < - pro tvorbu ostatních částí"
   ]
  },
  {
   "cell_type": "code",
   "execution_count": 394,
   "metadata": {},
   "outputs": [],
   "source": [
    "def complete_ordering(cls):\n",
    "    if '__eq__' in dir(cls) and '__lt__' in dir(cls):\n",
    "        #pokud dáš dir na clasuu má zápis takto i s ''\n",
    "        cls.__le__ = lambda self, other: self < other or self == other\n",
    "        cls.__gt__ = lambda self, other: not (self<other) and not (self == other)\n",
    "        cls.__ge__ = lambda self, other: not (self<other)\n",
    "    return cls\n",
    "#takže používám funkci jako deco kde mám 3 lambdy pro definování rovností - docela mindfuck\n",
    "#lambda funkce jsou asi jasné dvě hodnoty self a other - a podmínky pro implementace jen \n",
    "#pomocí < a ==\n",
    "# například toto znamená: not (self<other) and not (self == other)\n",
    "#dunder greater then nastane pokud --> není menší a není rovno -> \n",
    "#tak je logicky větší než :)"
   ]
  },
  {
   "cell_type": "code",
   "execution_count": 389,
   "metadata": {},
   "outputs": [],
   "source": [
    "@complete_ordering\n",
    "#díky tomuto pokud budu chtít po classe porovnání ve stavu gt, lt, ge \n",
    "#tak jelikož už má implementováno < znaménkko z lt :D a == z eq \n",
    "#tak pokud jsem schopný zapsat ostatní rovnosti jen na základě těchto znamének\n",
    "#mohu tak dodělat dekorátor\n",
    "class Point:\n",
    "    def __init__(self, x, y):\n",
    "        self.x = x\n",
    "        self.y = y\n",
    "        \n",
    "    def __abs__(self):\n",
    "        \"\"\"speciální dunder funkce pro absolutní\"\"\"\n",
    "        return sqrt(self.x**2 + self.y**2)\n",
    "    \n",
    "    def __repr__(self):\n",
    "        return f\"Point{self.x}, {self.y}\"\n",
    "    \n",
    "    def __eq__(self, other):\n",
    "        \"\"\"dunder pro rovnost\"\"\"\n",
    "        if isinstance(other, Point):\n",
    "        #pokud se jedná o point - rovnost nastane takto\n",
    "            return self.x == other.x and self.y == other.y\n",
    "        else:\n",
    "            return False\n",
    "    def __lt__(self, other):\n",
    "        \"\"\"dunder pro porovnávání\"\"\"\n",
    "        if isinstance(other, Point):\n",
    "            return abs(self) < abs(other)\n",
    "        else:\n",
    "            return NotImplemented"
   ]
  },
  {
   "cell_type": "code",
   "execution_count": 390,
   "metadata": {},
   "outputs": [],
   "source": [
    "p1, p2, p3, p4 = Point(2,3), Point(2,3), Point(0,0), Point(100,200)"
   ]
  },
  {
   "cell_type": "code",
   "execution_count": 395,
   "metadata": {
    "scrolled": true
   },
   "outputs": [
    {
     "data": {
      "text/plain": [
       "True"
      ]
     },
     "execution_count": 395,
     "metadata": {},
     "output_type": "execute_result"
    }
   ],
   "source": [
    "p1 <= p4\n",
    "#zavolá dunder metodu __lt__ ale zavolá jí z decorátoru!"
   ]
  },
  {
   "cell_type": "code",
   "execution_count": 393,
   "metadata": {},
   "outputs": [
    {
     "data": {
      "text/plain": [
       "False"
      ]
     },
     "execution_count": 393,
     "metadata": {},
     "output_type": "execute_result"
    }
   ],
   "source": [
    "p1!=p2"
   ]
  },
  {
   "cell_type": "markdown",
   "metadata": {},
   "source": [
    "Tzn. náš dekorátor nám obohatil classu o možnost porovnávání."
   ]
  },
  {
   "cell_type": "markdown",
   "metadata": {},
   "source": [
    "Python má fičuru co to zmákne sama."
   ]
  },
  {
   "cell_type": "code",
   "execution_count": 397,
   "metadata": {},
   "outputs": [],
   "source": [
    "from functools import total_ordering\n",
    "#jedná se v pdostatě o decorátor"
   ]
  },
  {
   "cell_type": "code",
   "execution_count": 400,
   "metadata": {},
   "outputs": [],
   "source": [
    "#\n",
    "#@total_ordering \n",
    "#stačí aby měl pouze jeden a zbytek zvládne sám \n",
    "#moc pěkná fičura tedy\n",
    "#\n",
    "#Takže to nemusím budovat od začátku\n",
    "#"
   ]
  },
  {
   "cell_type": "code",
   "execution_count": null,
   "metadata": {},
   "outputs": [],
   "source": []
  }
 ],
 "metadata": {
  "kernelspec": {
   "display_name": "Python 3",
   "language": "python",
   "name": "python3"
  },
  "language_info": {
   "codemirror_mode": {
    "name": "ipython",
    "version": 3
   },
   "file_extension": ".py",
   "mimetype": "text/x-python",
   "name": "python",
   "nbconvert_exporter": "python",
   "pygments_lexer": "ipython3",
   "version": "3.8.5"
  }
 },
 "nbformat": 4,
 "nbformat_minor": 4
}
