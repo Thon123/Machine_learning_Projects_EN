{
 "cells": [
  {
   "cell_type": "markdown",
   "metadata": {},
   "source": [
    "### Constructors and Context teorie"
   ]
  },
  {
   "cell_type": "markdown",
   "metadata": {},
   "source": [
    "Nase classa decimal tzn Decimal(x) muzeme zapsat vice zpusoby jako integer -- Decimal(10), string '0.1', tuples ale to je trochu zamotane. Floats radeji nepouzivat v podstate to zaeviduje s jejich nepresnosti."
   ]
  },
  {
   "cell_type": "markdown",
   "metadata": {},
   "source": [
    "- TUPLE CONSTRUCTOR\n",
    "- 1.23 zapiseme jako +123 x 10 na -2\n",
    "- -1.23  jako -123 x 10 na -2\n",
    "- znamenko - cislice - exponent\n",
    "- takze v tuplu se decimal zapisuje jako (sign(c1,c2...),exponent)\n",
    "- stim ze s je 0 pokud mame kladne cislo\n",
    "- s davame jako 1 pokud mame zaporne cislo\n",
    "- -3.1415 zapiseme v tuple jako (1,(3,1,4,1,5),-4)\n",
    "- exponent abychom posunuli carku v podstate o 4"
   ]
  },
  {
   "cell_type": "markdown",
   "metadata": {},
   "source": [
    "Presnost constructu ovlivnuje matematicke operace ale construktor samotny neovlivnuje. "
   ]
  },
  {
   "cell_type": "markdown",
   "metadata": {},
   "source": [
    "- a = Decimal('0.12345'), b = Decimal('0.12345')\n",
    "- DO KONTEXTU OBOJI ULOZI TAKTO S PRESNOSTI 5\n",
    "- c = a+b => 0.25 ALE PRI VYPOCTU PRESNOST RESI"
   ]
  },
  {
   "cell_type": "markdown",
   "metadata": {},
   "source": [
    "### Coding part"
   ]
  },
  {
   "cell_type": "code",
   "execution_count": 207,
   "metadata": {},
   "outputs": [],
   "source": [
    "import decimal\n",
    "from decimal import Decimal"
   ]
  },
  {
   "cell_type": "code",
   "execution_count": 210,
   "metadata": {},
   "outputs": [
    {
     "data": {
      "text/plain": [
       "(Decimal('10'), Decimal('10.1'))"
      ]
     },
     "execution_count": 210,
     "metadata": {},
     "output_type": "execute_result"
    }
   ],
   "source": [
    "Decimal(10), Decimal('10.1') #integer a string zapis"
   ]
  },
  {
   "cell_type": "code",
   "execution_count": 220,
   "metadata": {},
   "outputs": [
    {
     "data": {
      "text/plain": [
       "Decimal('3.1415')"
      ]
     },
     "execution_count": 220,
     "metadata": {},
     "output_type": "execute_result"
    }
   ],
   "source": [
    "t = (0, (3,1,4,1,5), -4) #nejdriv musim takto\n",
    "Decimal(t)\n",
    "Decimal((0, (3,1,4,1,5), -4))\n",
    "# pokud chci zapsat musim dalsi zavorky jinak netvorim tuple"
   ]
  },
  {
   "cell_type": "code",
   "execution_count": 221,
   "metadata": {},
   "outputs": [
    {
     "data": {
      "text/plain": [
       "Decimal('-3.1415')"
      ]
     },
     "execution_count": 221,
     "metadata": {},
     "output_type": "execute_result"
    }
   ],
   "source": [
    "Decimal((1, (3,1,4,1,5), -4))#1ka pro zapornou hodnotu"
   ]
  },
  {
   "cell_type": "code",
   "execution_count": 222,
   "metadata": {},
   "outputs": [
    {
     "data": {
      "text/plain": [
       "'0.1000000000000000055511151'"
      ]
     },
     "execution_count": 222,
     "metadata": {},
     "output_type": "execute_result"
    }
   ],
   "source": [
    "format(0.1, '.25f')"
   ]
  },
  {
   "cell_type": "code",
   "execution_count": 223,
   "metadata": {},
   "outputs": [
    {
     "data": {
      "text/plain": [
       "Decimal('0.1000000000000000055511151231257827021181583404541015625')"
      ]
     },
     "execution_count": 223,
     "metadata": {},
     "output_type": "execute_result"
    }
   ],
   "source": [
    "Decimal(0.1) #nepouzivat float jako parametr pro Decimal"
   ]
  },
  {
   "cell_type": "code",
   "execution_count": 224,
   "metadata": {},
   "outputs": [
    {
     "data": {
      "text/plain": [
       "False"
      ]
     },
     "execution_count": 224,
     "metadata": {},
     "output_type": "execute_result"
    }
   ],
   "source": [
    "Decimal(0.1) == Decimal('0.1') #strig je ale funkcni"
   ]
  },
  {
   "cell_type": "code",
   "execution_count": 225,
   "metadata": {},
   "outputs": [
    {
     "data": {
      "text/plain": [
       "Context(prec=28, rounding=ROUND_HALF_EVEN, Emin=-999999, Emax=999999, capitals=1, clamp=0, flags=[], traps=[InvalidOperation, DivisionByZero, Overflow])"
      ]
     },
     "execution_count": 225,
     "metadata": {},
     "output_type": "execute_result"
    }
   ],
   "source": [
    "decimal.getcontext()"
   ]
  },
  {
   "cell_type": "code",
   "execution_count": 228,
   "metadata": {},
   "outputs": [],
   "source": [
    "decimal.DefaultContext.prec = 6\n",
    "# nastavim presnost kontextu "
   ]
  },
  {
   "cell_type": "code",
   "execution_count": 229,
   "metadata": {},
   "outputs": [],
   "source": [
    "a = Decimal('0.123456789')"
   ]
  },
  {
   "cell_type": "code",
   "execution_count": 230,
   "metadata": {},
   "outputs": [
    {
     "data": {
      "text/plain": [
       "Decimal('0.123456789')"
      ]
     },
     "execution_count": 230,
     "metadata": {},
     "output_type": "execute_result"
    }
   ],
   "source": [
    "a #ale i pres prenost 6 to vidi spravne"
   ]
  },
  {
   "cell_type": "code",
   "execution_count": 232,
   "metadata": {},
   "outputs": [
    {
     "name": "stdout",
     "output_type": "stream",
     "text": [
      "0.12345 0.12345 0.25\n"
     ]
    }
   ],
   "source": [
    "decimal.DefaultContext.prec = 2\n",
    "a = Decimal('0.12345')\n",
    "b = Decimal('0.12345')\n",
    "c = a+b\n",
    "print(a,b,c)\n",
    "#Ale zde vidime ze pro vypocty se presnost meni\n",
    "# tzn secte a zaokrouhli "
   ]
  },
  {
   "cell_type": "code",
   "execution_count": 235,
   "metadata": {},
   "outputs": [
    {
     "name": "stdout",
     "output_type": "stream",
     "text": [
      "0.24690\n",
      "0.25 with local context\n",
      "0.25 with global context\n"
     ]
    }
   ],
   "source": [
    "decimal.DefaultContext.prec = 6\n",
    "a = Decimal('0.12345')\n",
    "b = Decimal('0.12345')\n",
    "print(a+b)\n",
    "with decimal.localcontext() as ctx:\n",
    "    ctx.prec =2\n",
    "    c = a + b\n",
    "    print(f'{c} with local context')\n",
    "print(f'{c} with global context')"
   ]
  },
  {
   "cell_type": "markdown",
   "metadata": {},
   "source": [
    "Nejdrive jsme pocitali s presnosti 6 a tudiz mame 0.24690 ale pote doslo k prechodu na presnost 2. Pokud to ale znovu neprepisi stale si pamatuje hodnotz z local contextu."
   ]
  },
  {
   "cell_type": "code",
   "execution_count": null,
   "metadata": {},
   "outputs": [],
   "source": []
  }
 ],
 "metadata": {
  "kernelspec": {
   "display_name": "Python 3",
   "language": "python",
   "name": "python3"
  },
  "language_info": {
   "codemirror_mode": {
    "name": "ipython",
    "version": 3
   },
   "file_extension": ".py",
   "mimetype": "text/x-python",
   "name": "python",
   "nbconvert_exporter": "python",
   "pygments_lexer": "ipython3",
   "version": "3.8.5"
  }
 },
 "nbformat": 4,
 "nbformat_minor": 4
}
