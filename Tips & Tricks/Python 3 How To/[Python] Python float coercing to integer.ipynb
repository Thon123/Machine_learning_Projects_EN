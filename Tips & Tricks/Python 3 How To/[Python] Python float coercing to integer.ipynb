{
 "cells": [
  {
   "cell_type": "markdown",
   "metadata": {},
   "source": [
    "### Floats coercing to integer - teorie"
   ]
  },
  {
   "cell_type": "markdown",
   "metadata": {},
   "source": [
    "Pokud provádíme přeměnu z float hodnoty na integer. Máme stím spojené ztráty. Je otázka zda chcem \"zaokrouhlit\" hodnotu nahoru nebo dolu. Máme tedy truncation, floor, ceiling a rounding."
   ]
  },
  {
   "cell_type": "markdown",
   "metadata": {},
   "source": [
    "- truncation - trunc() - prostě vezme hodnotu před . -> jedno jaká hodnota, 10.4-10,10.8-10 atd.., u negativních funguje stejně\n",
    "- int funkce používá trun funkci pokud vytváří integer a zadáme mu float, tzn. můžu použít int místo trunc() funkce\n",
    "- floor je trochu zamotanějš, bere nejmenší číslo po x -> zde to bude odlišné od záporných hodnot\n",
    "- tzn. 10.4 - floor je 10 ale u -10.4 je floor 11\n",
    "- takže u pozitivních čísel je floor a truncation shodné u negativních hodnot je to odlišné\n",
    "- floor() funkce tez z knihovny math\n",
    "- Ceiling je opak floor, bere tedy nejmensi tzn. 10.4 - 11, -10.4 - -10"
   ]
  },
  {
   "cell_type": "markdown",
   "metadata": {},
   "source": [
    "### Coding part"
   ]
  },
  {
   "cell_type": "code",
   "execution_count": 146,
   "metadata": {},
   "outputs": [],
   "source": [
    "from math import trunc, floor, ceil"
   ]
  },
  {
   "cell_type": "code",
   "execution_count": 142,
   "metadata": {},
   "outputs": [
    {
     "data": {
      "text/plain": [
       "(10, 10, -10)"
      ]
     },
     "execution_count": 142,
     "metadata": {},
     "output_type": "execute_result"
    }
   ],
   "source": [
    "trunc(10.3), trunc(10.5), trunc(-10.8)\n",
    "# neni co resit "
   ]
  },
  {
   "cell_type": "code",
   "execution_count": 145,
   "metadata": {},
   "outputs": [
    {
     "data": {
      "text/plain": [
       "(10, 10, -11)"
      ]
     },
     "execution_count": 145,
     "metadata": {},
     "output_type": "execute_result"
    }
   ],
   "source": [
    "floor(10.3), floor(10.5), floor(-10.8)\n",
    "# zde je tedu rozdil u negativnich cisel"
   ]
  },
  {
   "cell_type": "code",
   "execution_count": null,
   "metadata": {},
   "outputs": [],
   "source": [
    "floor(10.3), floor(10.5), floor(-10.8)"
   ]
  },
  {
   "cell_type": "code",
   "execution_count": 147,
   "metadata": {},
   "outputs": [
    {
     "data": {
      "text/plain": [
       "(11, 11, -10)"
      ]
     },
     "execution_count": 147,
     "metadata": {},
     "output_type": "execute_result"
    }
   ],
   "source": [
    "ceil(10.3), ceil(10.5), ceil(-10.8)\n",
    "# a tady to mame obracene"
   ]
  },
  {
   "cell_type": "code",
   "execution_count": 149,
   "metadata": {},
   "outputs": [
    {
     "data": {
      "text/plain": [
       "10"
      ]
     },
     "execution_count": 149,
     "metadata": {},
     "output_type": "execute_result"
    }
   ],
   "source": [
    "int(10.8) #trunc netreba pouzivat"
   ]
  },
  {
   "cell_type": "code",
   "execution_count": null,
   "metadata": {},
   "outputs": [],
   "source": []
  }
 ],
 "metadata": {
  "kernelspec": {
   "display_name": "Python 3",
   "language": "python",
   "name": "python3"
  },
  "language_info": {
   "codemirror_mode": {
    "name": "ipython",
    "version": 3
   },
   "file_extension": ".py",
   "mimetype": "text/x-python",
   "name": "python",
   "nbconvert_exporter": "python",
   "pygments_lexer": "ipython3",
   "version": "3.8.5"
  }
 },
 "nbformat": 4,
 "nbformat_minor": 4
}
