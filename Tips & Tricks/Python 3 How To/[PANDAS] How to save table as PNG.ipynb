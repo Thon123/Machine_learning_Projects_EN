{
 "cells": [
  {
   "cell_type": "markdown",
   "metadata": {},
   "source": [
    "> Saving dataframe as png image\n",
    ">> 1 - installing package\n",
    ">>> 2- having an image :)\n",
    ">>>> 3 saving it "
   ]
  },
  {
   "cell_type": "code",
   "execution_count": 2,
   "metadata": {},
   "outputs": [
    {
     "name": "stdout",
     "output_type": "stream",
     "text": [
      "Collecting dataframe_image\n",
      "  Downloading dataframe_image-0.1.1-py3-none-any.whl (32 kB)\n",
      "Collecting beautifulsoup4\n",
      "  Downloading beautifulsoup4-4.11.1-py3-none-any.whl (128 kB)\n",
      "Collecting aiohttp\n",
      "  Downloading aiohttp-3.8.1-cp38-cp38-win_amd64.whl (555 kB)\n",
      "Requirement already satisfied: pandas>=0.24 in c:\\users\\robert.kanera\\anaconda3\\envs\\alza\\lib\\site-packages (from dataframe_image) (1.1.3)\n",
      "Requirement already satisfied: nbconvert>=5 in c:\\users\\robert.kanera\\anaconda3\\envs\\alza\\lib\\site-packages (from dataframe_image) (6.0.7)\n",
      "Requirement already satisfied: requests in c:\\users\\robert.kanera\\anaconda3\\envs\\alza\\lib\\site-packages (from dataframe_image) (1.2.3)\n",
      "Collecting matplotlib>=3.1\n",
      "  Downloading matplotlib-3.5.2-cp38-cp38-win_amd64.whl (7.2 MB)\n",
      "Collecting soupsieve>1.2\n",
      "  Downloading soupsieve-2.3.2.post1-py3-none-any.whl (37 kB)\n",
      "Collecting async-timeout<5.0,>=4.0.0a3\n",
      "  Downloading async_timeout-4.0.2-py3-none-any.whl (5.8 kB)\n",
      "Collecting frozenlist>=1.1.1\n",
      "  Downloading frozenlist-1.3.0-cp38-cp38-win_amd64.whl (33 kB)\n",
      "Collecting aiosignal>=1.1.2\n",
      "  Downloading aiosignal-1.2.0-py3-none-any.whl (8.2 kB)\n",
      "Collecting multidict<7.0,>=4.5\n",
      "  Downloading multidict-6.0.2-cp38-cp38-win_amd64.whl (28 kB)\n",
      "Requirement already satisfied: attrs>=17.3.0 in c:\\users\\robert.kanera\\anaconda3\\envs\\alza\\lib\\site-packages (from aiohttp->dataframe_image) (20.3.0)\n",
      "Collecting yarl<2.0,>=1.0\n",
      "  Downloading yarl-1.7.2-cp38-cp38-win_amd64.whl (122 kB)\n",
      "Collecting charset-normalizer<3.0,>=2.0\n",
      "  Downloading charset_normalizer-2.0.12-py3-none-any.whl (39 kB)\n",
      "Requirement already satisfied: numpy>=1.15.4 in c:\\users\\robert.kanera\\anaconda3\\envs\\alza\\lib\\site-packages (from pandas>=0.24->dataframe_image) (1.19.2)\n",
      "Requirement already satisfied: pytz>=2017.2 in c:\\users\\robert.kanera\\anaconda3\\envs\\alza\\lib\\site-packages (from pandas>=0.24->dataframe_image) (2020.1)\n",
      "Requirement already satisfied: python-dateutil>=2.7.3 in c:\\users\\robert.kanera\\anaconda3\\envs\\alza\\lib\\site-packages (from pandas>=0.24->dataframe_image) (2.8.1)\n",
      "Requirement already satisfied: mistune<2,>=0.8.1 in c:\\users\\robert.kanera\\anaconda3\\envs\\alza\\lib\\site-packages (from nbconvert>=5->dataframe_image) (0.8.4)\n",
      "Requirement already satisfied: bleach in c:\\users\\robert.kanera\\anaconda3\\envs\\alza\\lib\\site-packages (from nbconvert>=5->dataframe_image) (3.2.1)\n",
      "Requirement already satisfied: jupyterlab-pygments in c:\\users\\robert.kanera\\anaconda3\\envs\\alza\\lib\\site-packages (from nbconvert>=5->dataframe_image) (0.1.2)\n",
      "Requirement already satisfied: defusedxml in c:\\users\\robert.kanera\\anaconda3\\envs\\alza\\lib\\site-packages (from nbconvert>=5->dataframe_image) (0.6.0)\n",
      "Requirement already satisfied: nbclient<0.6.0,>=0.5.0 in c:\\users\\robert.kanera\\anaconda3\\envs\\alza\\lib\\site-packages (from nbconvert>=5->dataframe_image) (0.5.1)\n",
      "Requirement already satisfied: jinja2>=2.4 in c:\\users\\robert.kanera\\anaconda3\\envs\\alza\\lib\\site-packages (from nbconvert>=5->dataframe_image) (2.11.2)\n",
      "Requirement already satisfied: nbformat>=4.4 in c:\\users\\robert.kanera\\anaconda3\\envs\\alza\\lib\\site-packages (from nbconvert>=5->dataframe_image) (5.0.8)\n",
      "Requirement already satisfied: testpath in c:\\users\\robert.kanera\\anaconda3\\envs\\alza\\lib\\site-packages (from nbconvert>=5->dataframe_image) (0.4.4)\n",
      "Requirement already satisfied: jupyter-core in c:\\users\\robert.kanera\\anaconda3\\envs\\alza\\lib\\site-packages (from nbconvert>=5->dataframe_image) (4.6.3)\n",
      "Requirement already satisfied: pygments>=2.4.1 in c:\\users\\robert.kanera\\anaconda3\\envs\\alza\\lib\\site-packages (from nbconvert>=5->dataframe_image) (2.7.2)\n",
      "Requirement already satisfied: pandocfilters>=1.4.1 in c:\\users\\robert.kanera\\anaconda3\\envs\\alza\\lib\\site-packages (from nbconvert>=5->dataframe_image) (1.4.3)\n",
      "Requirement already satisfied: entrypoints>=0.2.2 in c:\\users\\robert.kanera\\anaconda3\\envs\\alza\\lib\\site-packages (from nbconvert>=5->dataframe_image) (0.3)\n",
      "Requirement already satisfied: traitlets>=4.2 in c:\\users\\robert.kanera\\anaconda3\\envs\\alza\\lib\\site-packages (from nbconvert>=5->dataframe_image) (5.0.5)\n",
      "Requirement already satisfied: pyparsing>=2.2.1 in c:\\users\\robert.kanera\\anaconda3\\envs\\alza\\lib\\site-packages (from matplotlib>=3.1->dataframe_image) (2.4.7)\n",
      "Collecting cycler>=0.10\n",
      "  Downloading cycler-0.11.0-py3-none-any.whl (6.4 kB)\n",
      "Collecting kiwisolver>=1.0.1\n",
      "  Downloading kiwisolver-1.4.2-cp38-cp38-win_amd64.whl (55 kB)\n",
      "Collecting fonttools>=4.22.0\n",
      "  Downloading fonttools-4.33.3-py3-none-any.whl (930 kB)\n",
      "Requirement already satisfied: packaging>=20.0 in c:\\users\\robert.kanera\\anaconda3\\envs\\alza\\lib\\site-packages (from matplotlib>=3.1->dataframe_image) (20.4)\n",
      "Collecting pillow>=6.2.0\n",
      "  Downloading Pillow-9.1.0-cp38-cp38-win_amd64.whl (3.3 MB)\n",
      "Requirement already satisfied: idna>=2.0 in c:\\users\\robert.kanera\\anaconda3\\envs\\alza\\lib\\site-packages (from yarl<2.0,>=1.0->aiohttp->dataframe_image) (2.10)\n",
      "Requirement already satisfied: six>=1.5 in c:\\users\\robert.kanera\\anaconda3\\envs\\alza\\lib\\site-packages (from python-dateutil>=2.7.3->pandas>=0.24->dataframe_image) (1.15.0)\n",
      "Requirement already satisfied: webencodings in c:\\users\\robert.kanera\\anaconda3\\envs\\alza\\lib\\site-packages (from bleach->nbconvert>=5->dataframe_image) (0.5.1)\n",
      "Requirement already satisfied: nest-asyncio in c:\\users\\robert.kanera\\anaconda3\\envs\\alza\\lib\\site-packages (from nbclient<0.6.0,>=0.5.0->nbconvert>=5->dataframe_image) (1.4.2)\n",
      "Requirement already satisfied: async-generator in c:\\users\\robert.kanera\\anaconda3\\envs\\alza\\lib\\site-packages (from nbclient<0.6.0,>=0.5.0->nbconvert>=5->dataframe_image) (1.10)\n",
      "Requirement already satisfied: jupyter-client>=6.1.5 in c:\\users\\robert.kanera\\anaconda3\\envs\\alza\\lib\\site-packages (from nbclient<0.6.0,>=0.5.0->nbconvert>=5->dataframe_image) (6.1.7)\n",
      "Requirement already satisfied: MarkupSafe>=0.23 in c:\\users\\robert.kanera\\anaconda3\\envs\\alza\\lib\\site-packages (from jinja2>=2.4->nbconvert>=5->dataframe_image) (1.1.1)\n",
      "Requirement already satisfied: ipython-genutils in c:\\users\\robert.kanera\\anaconda3\\envs\\alza\\lib\\site-packages (from nbformat>=4.4->nbconvert>=5->dataframe_image) (0.2.0)\n",
      "Requirement already satisfied: jsonschema!=2.5.0,>=2.4 in c:\\users\\robert.kanera\\anaconda3\\envs\\alza\\lib\\site-packages (from nbformat>=4.4->nbconvert>=5->dataframe_image) (3.2.0)\n",
      "Requirement already satisfied: pywin32>=1.0; sys_platform == \"win32\" in c:\\users\\robert.kanera\\anaconda3\\envs\\alza\\lib\\site-packages (from jupyter-core->nbconvert>=5->dataframe_image) (227)\n",
      "Requirement already satisfied: pyzmq>=13 in c:\\users\\robert.kanera\\anaconda3\\envs\\alza\\lib\\site-packages (from jupyter-client>=6.1.5->nbclient<0.6.0,>=0.5.0->nbconvert>=5->dataframe_image) (19.0.2)\n",
      "Requirement already satisfied: tornado>=4.1 in c:\\users\\robert.kanera\\anaconda3\\envs\\alza\\lib\\site-packages (from jupyter-client>=6.1.5->nbclient<0.6.0,>=0.5.0->nbconvert>=5->dataframe_image) (6.0.4)\n",
      "Requirement already satisfied: pyrsistent>=0.14.0 in c:\\users\\robert.kanera\\anaconda3\\envs\\alza\\lib\\site-packages (from jsonschema!=2.5.0,>=2.4->nbformat>=4.4->nbconvert>=5->dataframe_image) (0.17.3)\n",
      "Requirement already satisfied: setuptools in c:\\users\\robert.kanera\\anaconda3\\envs\\alza\\lib\\site-packages (from jsonschema!=2.5.0,>=2.4->nbformat>=4.4->nbconvert>=5->dataframe_image) (50.3.1.post20201107)\n",
      "Installing collected packages: soupsieve, beautifulsoup4, async-timeout, frozenlist, aiosignal, multidict, yarl, charset-normalizer, aiohttp, cycler, kiwisolver, fonttools, pillow, matplotlib, dataframe-image\n",
      "Successfully installed aiohttp-3.8.1 aiosignal-1.2.0 async-timeout-4.0.2 beautifulsoup4-4.11.1 charset-normalizer-2.0.12 cycler-0.11.0 dataframe-image-0.1.1 fonttools-4.33.3 frozenlist-1.3.0 kiwisolver-1.4.2 matplotlib-3.5.2 multidict-6.0.2 pillow-9.1.0 soupsieve-2.3.2.post1 yarl-1.7.2\n"
     ]
    }
   ],
   "source": [
    "!pip install dataframe_image"
   ]
  },
  {
   "cell_type": "code",
   "execution_count": 3,
   "metadata": {},
   "outputs": [],
   "source": [
    "import pandas as pd\n",
    "import numpy as np\n",
    "import dataframe_image as dfi\n",
    "df = pd.DataFrame(np.random.randn(6, 6), columns=list('ABCDEF'))"
   ]
  },
  {
   "cell_type": "code",
   "execution_count": 4,
   "metadata": {},
   "outputs": [
    {
     "data": {
      "text/html": [
       "<div>\n",
       "<style scoped>\n",
       "    .dataframe tbody tr th:only-of-type {\n",
       "        vertical-align: middle;\n",
       "    }\n",
       "\n",
       "    .dataframe tbody tr th {\n",
       "        vertical-align: top;\n",
       "    }\n",
       "\n",
       "    .dataframe thead th {\n",
       "        text-align: right;\n",
       "    }\n",
       "</style>\n",
       "<table border=\"1\" class=\"dataframe\">\n",
       "  <thead>\n",
       "    <tr style=\"text-align: right;\">\n",
       "      <th></th>\n",
       "      <th>A</th>\n",
       "      <th>B</th>\n",
       "      <th>C</th>\n",
       "      <th>D</th>\n",
       "      <th>E</th>\n",
       "      <th>F</th>\n",
       "    </tr>\n",
       "  </thead>\n",
       "  <tbody>\n",
       "    <tr>\n",
       "      <th>0</th>\n",
       "      <td>-1.042209</td>\n",
       "      <td>-0.225425</td>\n",
       "      <td>0.835462</td>\n",
       "      <td>-0.676173</td>\n",
       "      <td>-0.259290</td>\n",
       "      <td>-0.324948</td>\n",
       "    </tr>\n",
       "    <tr>\n",
       "      <th>1</th>\n",
       "      <td>-0.411917</td>\n",
       "      <td>2.135643</td>\n",
       "      <td>-1.133384</td>\n",
       "      <td>0.024178</td>\n",
       "      <td>-0.694855</td>\n",
       "      <td>0.025431</td>\n",
       "    </tr>\n",
       "    <tr>\n",
       "      <th>2</th>\n",
       "      <td>-0.662869</td>\n",
       "      <td>0.857605</td>\n",
       "      <td>1.593224</td>\n",
       "      <td>0.678387</td>\n",
       "      <td>-0.532629</td>\n",
       "      <td>-1.132150</td>\n",
       "    </tr>\n",
       "    <tr>\n",
       "      <th>3</th>\n",
       "      <td>0.064728</td>\n",
       "      <td>-0.501213</td>\n",
       "      <td>-1.116440</td>\n",
       "      <td>0.293530</td>\n",
       "      <td>-1.256243</td>\n",
       "      <td>1.401387</td>\n",
       "    </tr>\n",
       "    <tr>\n",
       "      <th>4</th>\n",
       "      <td>-0.723889</td>\n",
       "      <td>-0.102627</td>\n",
       "      <td>1.171825</td>\n",
       "      <td>-0.969004</td>\n",
       "      <td>-1.723448</td>\n",
       "      <td>-1.899014</td>\n",
       "    </tr>\n",
       "    <tr>\n",
       "      <th>5</th>\n",
       "      <td>-1.334682</td>\n",
       "      <td>1.259542</td>\n",
       "      <td>0.456491</td>\n",
       "      <td>0.786619</td>\n",
       "      <td>-0.867798</td>\n",
       "      <td>-1.274762</td>\n",
       "    </tr>\n",
       "  </tbody>\n",
       "</table>\n",
       "</div>"
      ],
      "text/plain": [
       "          A         B         C         D         E         F\n",
       "0 -1.042209 -0.225425  0.835462 -0.676173 -0.259290 -0.324948\n",
       "1 -0.411917  2.135643 -1.133384  0.024178 -0.694855  0.025431\n",
       "2 -0.662869  0.857605  1.593224  0.678387 -0.532629 -1.132150\n",
       "3  0.064728 -0.501213 -1.116440  0.293530 -1.256243  1.401387\n",
       "4 -0.723889 -0.102627  1.171825 -0.969004 -1.723448 -1.899014\n",
       "5 -1.334682  1.259542  0.456491  0.786619 -0.867798 -1.274762"
      ]
     },
     "execution_count": 4,
     "metadata": {},
     "output_type": "execute_result"
    }
   ],
   "source": [
    "df"
   ]
  },
  {
   "cell_type": "code",
   "execution_count": 6,
   "metadata": {},
   "outputs": [],
   "source": [
    "dfi.export(df,\"mytable.png\") #final function for printing the package"
   ]
  },
  {
   "cell_type": "code",
   "execution_count": null,
   "metadata": {},
   "outputs": [],
   "source": []
  }
 ],
 "metadata": {
  "kernelspec": {
   "display_name": "Python 3",
   "language": "python",
   "name": "python3"
  },
  "language_info": {
   "codemirror_mode": {
    "name": "ipython",
    "version": 3
   },
   "file_extension": ".py",
   "mimetype": "text/x-python",
   "name": "python",
   "nbconvert_exporter": "python",
   "pygments_lexer": "ipython3",
   "version": "3.8.5"
  }
 },
 "nbformat": 4,
 "nbformat_minor": 4
}
