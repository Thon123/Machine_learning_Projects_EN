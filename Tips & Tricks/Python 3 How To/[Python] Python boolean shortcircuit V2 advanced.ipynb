{
 "cells": [
  {
   "cell_type": "markdown",
   "metadata": {},
   "source": [
    "### Boolean Operator teorie 2"
   ]
  },
  {
   "cell_type": "markdown",
   "metadata": {},
   "source": [
    "OR POUZIJI POKUD CHCI VYDOLOVAT TRUTH HODNOTU A IGNOROVAT FALSE HODNOTY pokud ale nejsou truth ziskat FALSE"
   ]
  },
  {
   "cell_type": "markdown",
   "metadata": {},
   "source": [
    "AND POUZIJU POKUD CHCI VZDOLOVAT FALSE HODNOTU A IGNOROVAT TRUTH HODNOTY pokud ale nejsou FALSE ziskat TRUTH"
   ]
  },
  {
   "cell_type": "markdown",
   "metadata": {},
   "source": [
    "Jelikoy kazdy objekt disponuje bool hodnotou muzeme vse porovnavat a nemusime ani formou bool(x) and bool(y) staci zapisovat formou X and Y, ale otazka je co zde ziskavame?"
   ]
  },
  {
   "cell_type": "markdown",
   "metadata": {},
   "source": [
    "Tohle je trochu zamotanejsi takze:"
   ]
  },
  {
   "cell_type": "markdown",
   "metadata": {},
   "source": [
    "- OR\n",
    "- if X je Tru navratime X nebo Y, povazujme hodnoty dale zapsane jako X,Y\n",
    "- 0 0 X je false vracime Y tedy 0\n",
    "- 0 1 X je false vracime Y tedy 0\n",
    "- 1 0 a 1 1 X je pravda vracime 1\n",
    "- jenze Y nemusime ani cist dokud X neni pravda\n",
    "- LEPSI JE TEDY:\n",
    "- POKUD JE X Pravda vrat X jinak vrat Y"
   ]
  },
  {
   "cell_type": "markdown",
   "metadata": {},
   "source": [
    "Nyni se presuneme na A"
   ]
  },
  {
   "cell_type": "markdown",
   "metadata": {},
   "source": [
    "- AND\n",
    "- IF X IS FALSZ returns X otherwise retunrs Y\n",
    "- 0 0 X je nepravda vracime X a tedy 0\n",
    "- 0 1 X je nepravda vracime X a tedy 0\n",
    "- 1 0 X je pravda vracime Y a tedy 0\n",
    "- 1 1 Y je pravda vracime Y a tedz 1\n",
    "- POKUD X JE NEPRAVDA VRAT X JINAK VRAT Y"
   ]
  },
  {
   "cell_type": "markdown",
   "metadata": {},
   "source": [
    "V podstate AND a OR logika je ted trochu jina. Zatimco pokud neco porovnavame mame trochu jina pravidla nez pokud porovnavame dva objekty ktere samy o sobe maji TRUE/FALSE hodnotu."
   ]
  },
  {
   "cell_type": "code",
   "execution_count": 343,
   "metadata": {},
   "outputs": [],
   "source": [
    "s1,s2,s3 = '','',''\n",
    "a = s1 or s2 or s3 or 'N/A'\n",
    "#Mame OR operatory a short circuit neboli \n",
    "#POKUD JE NECO PRAVDA VRATI TO JINAK JDE DAL\n",
    "#V TOMTO PRIPADE U OPERATORU Y LEVA DO PRAVA VZHODNOCUJEME\n",
    "#TAKZE COKOLIV CO BUDE PRAVDA JAKO PRVNI SE NAVRATI"
   ]
  },
  {
   "cell_type": "markdown",
   "metadata": {},
   "source": [
    "Takze tohle je pekne. Chceme obdrzet prvni znak ze jmena ci nic pokud chybi."
   ]
  },
  {
   "cell_type": "code",
   "execution_count": 346,
   "metadata": {},
   "outputs": [],
   "source": [
    "#if s:\n",
    "#    return s[0]\n",
    "#else:\n",
    "#    return ''\n",
    "#noobie zapis\n",
    "\n",
    "#return s and s[0]\n",
    "#profi zapis jelikoz mame and tak vrati s jen pokud bude falsy a tudiz none nebo bez delky\n",
    "#jinak navrati prvni znak\n",
    "# return (s and s[0]) or ''\n",
    "# tohle uz je tezka stylovka dokonce si urcime hodnotu kterou nam ma navratit pokud nastane none pripad"
   ]
  },
  {
   "cell_type": "markdown",
   "metadata": {},
   "source": [
    "NOT OPERATOR"
   ]
  },
  {
   "cell_type": "markdown",
   "metadata": {},
   "source": [
    "- not x \n",
    "- True if x is falsy\n",
    "- False if x is truthy\n",
    "- [] falsy -> not [] -> True ..jasne netreba resit"
   ]
  },
  {
   "cell_type": "markdown",
   "metadata": {},
   "source": [
    "### Coding Part"
   ]
  },
  {
   "cell_type": "markdown",
   "metadata": {},
   "source": [
    "X or Y: if X is truthy, returns X, otherwise evaluates Y and returns it"
   ]
  },
  {
   "cell_type": "code",
   "execution_count": 347,
   "metadata": {},
   "outputs": [
    {
     "data": {
      "text/plain": [
       "'a'"
      ]
     },
     "execution_count": 347,
     "metadata": {},
     "output_type": "execute_result"
    }
   ],
   "source": [
    "'a' or [1,2]#prvni je truthy navrati jej"
   ]
  },
  {
   "cell_type": "code",
   "execution_count": 348,
   "metadata": {},
   "outputs": [
    {
     "data": {
      "text/plain": [
       "[1, 2]"
      ]
     },
     "execution_count": 348,
     "metadata": {},
     "output_type": "execute_result"
    }
   ],
   "source": [
    "'' or [1,2] #nepravdive navrati to druhe"
   ]
  },
  {
   "cell_type": "code",
   "execution_count": 349,
   "metadata": {},
   "outputs": [
    {
     "data": {
      "text/plain": [
       "'a'"
      ]
     },
     "execution_count": 349,
     "metadata": {},
     "output_type": "execute_result"
    }
   ],
   "source": [
    "'' or '' or '' or 'a' # hehe"
   ]
  },
  {
   "cell_type": "code",
   "execution_count": 350,
   "metadata": {},
   "outputs": [
    {
     "data": {
      "text/plain": [
       "1"
      ]
     },
     "execution_count": 350,
     "metadata": {},
     "output_type": "execute_result"
    }
   ],
   "source": [
    "1 or 1/0 #nemam zerodivison error vyhodnoti prvne 1 a ukonci tzn. short circuting"
   ]
  },
  {
   "cell_type": "code",
   "execution_count": 351,
   "metadata": {},
   "outputs": [
    {
     "ename": "ZeroDivisionError",
     "evalue": "division by zero",
     "output_type": "error",
     "traceback": [
      "\u001b[1;31m---------------------------------------------------------------------------\u001b[0m",
      "\u001b[1;31mZeroDivisionError\u001b[0m                         Traceback (most recent call last)",
      "\u001b[1;32m<ipython-input-351-a7e2436e8887>\u001b[0m in \u001b[0;36m<module>\u001b[1;34m\u001b[0m\n\u001b[1;32m----> 1\u001b[1;33m \u001b[1;36m0\u001b[0m \u001b[1;32mor\u001b[0m \u001b[1;36m1\u001b[0m\u001b[1;33m/\u001b[0m\u001b[1;36m0\u001b[0m\u001b[1;33m\u001b[0m\u001b[1;33m\u001b[0m\u001b[0m\n\u001b[0m",
      "\u001b[1;31mZeroDivisionError\u001b[0m: division by zero"
     ]
    }
   ],
   "source": [
    "0 or 1/0  #nenastane pravda short circuting nenastane"
   ]
  },
  {
   "cell_type": "markdown",
   "metadata": {},
   "source": [
    "X and Y: if X is falsy, return X, otherwise evaluate Y and return it"
   ]
  },
  {
   "cell_type": "code",
   "execution_count": 353,
   "metadata": {},
   "outputs": [
    {
     "name": "stdout",
     "output_type": "stream",
     "text": [
      "None\n"
     ]
    }
   ],
   "source": [
    "print(None and 100)"
   ]
  },
  {
   "cell_type": "code",
   "execution_count": 354,
   "metadata": {},
   "outputs": [
    {
     "data": {
      "text/plain": [
       "[]"
      ]
     },
     "execution_count": 354,
     "metadata": {},
     "output_type": "execute_result"
    }
   ],
   "source": [
    "[] and [0]"
   ]
  },
  {
   "cell_type": "markdown",
   "metadata": {},
   "source": [
    "Mame zde mensi opak u and, v podstate obdrzujeme prvni false hodnotu"
   ]
  },
  {
   "cell_type": "markdown",
   "metadata": {},
   "source": [
    "OR POUZIJI POKUD CHCI VYDOLOVAT TRUTH HODNOTU A IGNOROVAT FALSE HODNOTY pokud ale nejsou truth ziskat FALSE"
   ]
  },
  {
   "cell_type": "markdown",
   "metadata": {},
   "source": [
    "AND POUZIJU POKUD CHCI VZDOLOVAT FALSE HODNOTU A IGNOROVAT TRUTH HODNOTY pokud ale nejsou FALSE ziskat TRUTH"
   ]
  },
  {
   "cell_type": "code",
   "execution_count": 355,
   "metadata": {},
   "outputs": [
    {
     "name": "stdout",
     "output_type": "stream",
     "text": [
      "0.5\n"
     ]
    }
   ],
   "source": [
    "a,b = 2,4\n",
    "if b == 0:\n",
    "    print(0)\n",
    "else:\n",
    "    print(a/b)"
   ]
  },
  {
   "cell_type": "markdown",
   "metadata": {},
   "source": [
    "A ted trochu styloveji."
   ]
  },
  {
   "cell_type": "code",
   "execution_count": 2,
   "metadata": {
    "scrolled": true
   },
   "outputs": [
    {
     "name": "stdout",
     "output_type": "stream",
     "text": [
      "0\n"
     ]
    }
   ],
   "source": [
    "a = 2 \n",
    "b = 0\n",
    "print(b and a/b)"
   ]
  },
  {
   "cell_type": "markdown",
   "metadata": {},
   "source": [
    "Aneb zero divison error handling.."
   ]
  },
  {
   "cell_type": "code",
   "execution_count": 9,
   "metadata": {},
   "outputs": [],
   "source": [
    "s1, s2, s3 = None, '', 'abc'"
   ]
  },
  {
   "cell_type": "code",
   "execution_count": 361,
   "metadata": {},
   "outputs": [
    {
     "data": {
      "text/plain": [
       "('ok ', ' ', 'a')"
      ]
     },
     "execution_count": 361,
     "metadata": {},
     "output_type": "execute_result"
    }
   ],
   "source": [
    "((s1 and s1[0]) or 'ok '), ((s2 and s2[0]) or ' '), ((s3 and s3[0]) or ' ')"
   ]
  },
  {
   "cell_type": "markdown",
   "metadata": {},
   "source": [
    "Co asi dela tento krasny kod :]. \n",
    "- s1 and s1[0] - Pokud je prvni falsy navrati ji jinak navrati druhou\n",
    "- takze navrati None, None a pote abc\n",
    "- a nas or navrati prvni True hodnotu \n",
    "- tzn navrati abc protoze uz je true ale pro ostatni dve navrati bud true hodnotu nebo to co zbyde\n",
    "- proto v prvnim mam true hodnotu a v druhem false ale oboji se navrati"
   ]
  },
  {
   "cell_type": "code",
   "execution_count": 364,
   "metadata": {},
   "outputs": [
    {
     "data": {
      "text/plain": [
       "(False, True, False, False)"
      ]
     },
     "execution_count": 364,
     "metadata": {},
     "output_type": "execute_result"
    }
   ],
   "source": [
    "not True, not False, not bool('abc'), not ('abc')\n",
    "#v podstate ~ logic :]"
   ]
  },
  {
   "cell_type": "code",
   "execution_count": null,
   "metadata": {},
   "outputs": [],
   "source": []
  }
 ],
 "metadata": {
  "kernelspec": {
   "display_name": "Python 3",
   "language": "python",
   "name": "python3"
  },
  "language_info": {
   "codemirror_mode": {
    "name": "ipython",
    "version": 3
   },
   "file_extension": ".py",
   "mimetype": "text/x-python",
   "name": "python",
   "nbconvert_exporter": "python",
   "pygments_lexer": "ipython3",
   "version": "3.8.5"
  }
 },
 "nbformat": 4,
 "nbformat_minor": 4
}
