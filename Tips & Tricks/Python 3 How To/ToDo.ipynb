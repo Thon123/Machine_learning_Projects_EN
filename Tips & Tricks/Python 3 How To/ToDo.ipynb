{
 "cells": [
  {
   "cell_type": "markdown",
   "metadata": {},
   "source": [
    "CÍL JE:"
   ]
  },
  {
   "cell_type": "markdown",
   "metadata": {},
   "source": [
    "- mít dobrou verzi pro čtení, pro hledání i pro pochopení"
   ]
  },
  {
   "cell_type": "markdown",
   "metadata": {},
   "source": [
    "- Python 3 dodělat Study mode: zbývá 7 a dále\n",
    "- Python 3 dodělat Understand mode - zbývá 6 a dále\n",
    "- Python 3: Všechny mody propojit do sebe a uploadnout na GH\n",
    "- Pandas - Read, Study, Understand mode\n",
    "- ML projects -> vytvořit Understand mode (delší)"
   ]
  },
  {
   "cell_type": "code",
   "execution_count": null,
   "metadata": {},
   "outputs": [],
   "source": []
  }
 ],
 "metadata": {
  "kernelspec": {
   "display_name": "Python 3",
   "language": "python",
   "name": "python3"
  },
  "language_info": {
   "codemirror_mode": {
    "name": "ipython",
    "version": 3
   },
   "file_extension": ".py",
   "mimetype": "text/x-python",
   "name": "python",
   "nbconvert_exporter": "python",
   "pygments_lexer": "ipython3",
   "version": "3.8.5"
  }
 },
 "nbformat": 4,
 "nbformat_minor": 4
}
