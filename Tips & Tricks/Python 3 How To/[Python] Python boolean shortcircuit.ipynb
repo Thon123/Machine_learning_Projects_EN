{
 "cells": [
  {
   "cell_type": "markdown",
   "metadata": {},
   "source": [
    "### Booleans Operator, precedence and short circuit evaluation"
   ]
  },
  {
   "cell_type": "markdown",
   "metadata": {},
   "source": [
    "OR POUZIJI POKUD CHCI VYDOLOVAT TRUTH HODNOTU A IGNOROVAT FALSE HODNOTY pokud ale nejsou truth ziskat FALSE"
   ]
  },
  {
   "cell_type": "markdown",
   "metadata": {},
   "source": [
    "AND POUZIJU POKUD CHCI VZDOLOVAT FALSE HODNOTU A IGNOROVAT TRUTH HODNOTY pokud ale nejsou FALSE ziskat TRUTH"
   ]
  },
  {
   "cell_type": "markdown",
   "metadata": {},
   "source": [
    "Operátory jsou jasné NOT AND OR. Často se používá graf u obvodů - otevřený obvod FALSE, zavřený tzn průchozí TRUE. OR se zobrazuje jako dva switche paralerně. AND jsou dva switche za sebou a pokud nemají oba open neboli TRUE nic nejde skrz. "
   ]
  },
  {
   "cell_type": "markdown",
   "metadata": {},
   "source": [
    "- Precedence podle vlivu co nejdrive a co na zaver\n",
    "- ()\n",
    "- <> <= >= != in ins\n",
    "- not\n",
    "- and\n",
    "- or\n",
    "- Tohle je pomerne dobre si pamatovat :), na poradi zalezi, obecne spravne udavat zavorky je hlavni, kod bude vic readable"
   ]
  },
  {
   "cell_type": "code",
   "execution_count": 328,
   "metadata": {},
   "outputs": [],
   "source": [
    "#Short circuting ukazka:\n",
    "#if symbol in watch_list:\n",
    "#    if price(symbol) > threshold:\n",
    "#        do something\n",
    "#==> jede na dve faze narocnejsi kod\n",
    "#\n",
    "#V ramci short circuting - tzn utnuti na zacatku co to jde\n",
    "#\n",
    "#if symbol in watch_list and price(symbol) > threshold:\n",
    "#    do something\n",
    "#\n",
    "#==> druhy priklad je castecne zdatnejsi neprojede vse ale cast ukonci na zacatku a usetri tak cas"
   ]
  },
  {
   "cell_type": "code",
   "execution_count": 329,
   "metadata": {},
   "outputs": [],
   "source": [
    "# chceme provest akci kontrolovat zda prvni znak je digit\n",
    "# if name[0] in string.digits:\n",
    "#     do something\n",
    "# tento kod se rozbije pokud je jmeno None nebo prazdny string\n",
    "\n",
    "# spravne to je\n",
    "# if name and name[0] in string.digits:\n",
    "#           do something\n",
    "#NYNI to overuje zda je name true neboli zda neni none nebo ma len a pote prejde na druhou cast\n",
    "# a zacina to luxusne zapadat :)"
   ]
  },
  {
   "cell_type": "markdown",
   "metadata": {},
   "source": [
    "### Coding part"
   ]
  },
  {
   "cell_type": "markdown",
   "metadata": {},
   "source": [
    "not --> and --> or"
   ]
  },
  {
   "cell_type": "code",
   "execution_count": 330,
   "metadata": {},
   "outputs": [
    {
     "data": {
      "text/plain": [
       "True"
      ]
     },
     "execution_count": 330,
     "metadata": {},
     "output_type": "execute_result"
    }
   ],
   "source": [
    "True or True and False"
   ]
  },
  {
   "cell_type": "code",
   "execution_count": 331,
   "metadata": {},
   "outputs": [
    {
     "data": {
      "text/plain": [
       "True"
      ]
     },
     "execution_count": 331,
     "metadata": {},
     "output_type": "execute_result"
    }
   ],
   "source": [
    "True or (True and False)\n",
    "#takto to prehledneji..and se zde vzhodnotilo samo"
   ]
  },
  {
   "cell_type": "markdown",
   "metadata": {},
   "source": [
    "Short circuting"
   ]
  },
  {
   "cell_type": "markdown",
   "metadata": {},
   "source": [
    "Jakmile ukonci obvod nemusi vyhodnocovat dalsi casti a setrime cas"
   ]
  },
  {
   "cell_type": "code",
   "execution_count": 332,
   "metadata": {},
   "outputs": [
    {
     "name": "stdout",
     "output_type": "stream",
     "text": [
      "a is at least twice b\n"
     ]
    }
   ],
   "source": [
    "a = 10\n",
    "b = 2\n",
    "\n",
    "if a/b > 2:\n",
    "    print('a is at least twice b')"
   ]
  },
  {
   "cell_type": "code",
   "execution_count": 335,
   "metadata": {},
   "outputs": [],
   "source": [
    "b = 0\n",
    "if b and a/b >2:\n",
    "    print('do something')\n",
    "    \n",
    "#prvni priklad nad hodi chybu pokud delime 0\n",
    "#takto tomu ale predejdeme\n",
    "#nemam zadne podchycovani zerodivision apod..\n",
    "#dokonce poresim i problem s None\n",
    "#moc pekne :)"
   ]
  },
  {
   "cell_type": "code",
   "execution_count": 336,
   "metadata": {},
   "outputs": [],
   "source": [
    "import string"
   ]
  },
  {
   "cell_type": "code",
   "execution_count": 337,
   "metadata": {},
   "outputs": [
    {
     "data": {
      "text/plain": [
       "'ABCDEFGHIJKLMNOPQRSTUVWXYZ'"
      ]
     },
     "execution_count": 337,
     "metadata": {},
     "output_type": "execute_result"
    }
   ],
   "source": [
    "string.ascii_uppercase"
   ]
  },
  {
   "cell_type": "code",
   "execution_count": 338,
   "metadata": {},
   "outputs": [
    {
     "data": {
      "text/plain": [
       "'abcdefghijklmnopqrstuvwxyzABCDEFGHIJKLMNOPQRSTUVWXYZ'"
      ]
     },
     "execution_count": 338,
     "metadata": {},
     "output_type": "execute_result"
    }
   ],
   "source": [
    "string.ascii_letters"
   ]
  },
  {
   "cell_type": "code",
   "execution_count": 339,
   "metadata": {},
   "outputs": [
    {
     "data": {
      "text/plain": [
       "'0123456789'"
      ]
     },
     "execution_count": 339,
     "metadata": {},
     "output_type": "execute_result"
    }
   ],
   "source": [
    "string.digits"
   ]
  },
  {
   "cell_type": "markdown",
   "metadata": {},
   "source": [
    "Pouze ukazka sikovne knihovnicky se znaky."
   ]
  },
  {
   "cell_type": "code",
   "execution_count": 340,
   "metadata": {},
   "outputs": [
    {
     "ename": "IndexError",
     "evalue": "string index out of range",
     "output_type": "error",
     "traceback": [
      "\u001b[1;31m---------------------------------------------------------------------------\u001b[0m",
      "\u001b[1;31mIndexError\u001b[0m                                Traceback (most recent call last)",
      "\u001b[1;32m<ipython-input-340-188ac652abc2>\u001b[0m in \u001b[0;36m<module>\u001b[1;34m\u001b[0m\n\u001b[0;32m      1\u001b[0m \u001b[0mname\u001b[0m \u001b[1;33m=\u001b[0m \u001b[1;34m''\u001b[0m\u001b[1;33m\u001b[0m\u001b[1;33m\u001b[0m\u001b[0m\n\u001b[1;32m----> 2\u001b[1;33m \u001b[1;32mif\u001b[0m \u001b[0mname\u001b[0m\u001b[1;33m[\u001b[0m\u001b[1;36m0\u001b[0m\u001b[1;33m]\u001b[0m \u001b[1;32min\u001b[0m \u001b[0mstring\u001b[0m\u001b[1;33m.\u001b[0m\u001b[0mdigits\u001b[0m\u001b[1;33m:\u001b[0m\u001b[1;33m\u001b[0m\u001b[1;33m\u001b[0m\u001b[0m\n\u001b[0m\u001b[0;32m      3\u001b[0m     \u001b[0mprint\u001b[0m\u001b[1;33m(\u001b[0m\u001b[1;34m'Name cannon start with a digit'\u001b[0m\u001b[1;33m)\u001b[0m\u001b[1;33m\u001b[0m\u001b[1;33m\u001b[0m\u001b[0m\n",
      "\u001b[1;31mIndexError\u001b[0m: string index out of range"
     ]
    }
   ],
   "source": [
    "name = ''\n",
    "if name[0] in string.digits:\n",
    "    print('Name cannon start with a digit')"
   ]
  },
  {
   "cell_type": "markdown",
   "metadata": {},
   "source": [
    "Neumime pokyt prazdny string ani none spravne takto"
   ]
  },
  {
   "cell_type": "code",
   "execution_count": 1,
   "metadata": {},
   "outputs": [],
   "source": [
    "name = ''\n",
    "if name and name[0] in string.digits:\n",
    "    print('Name cannon start with a digit')"
   ]
  },
  {
   "cell_type": "markdown",
   "metadata": {},
   "source": [
    "Asi nejkrasnejsi dva radky za celou lekci. Konecne to dava perfektni smysl :)"
   ]
  },
  {
   "cell_type": "code",
   "execution_count": null,
   "metadata": {},
   "outputs": [],
   "source": []
  }
 ],
 "metadata": {
  "kernelspec": {
   "display_name": "Python 3",
   "language": "python",
   "name": "python3"
  },
  "language_info": {
   "codemirror_mode": {
    "name": "ipython",
    "version": 3
   },
   "file_extension": ".py",
   "mimetype": "text/x-python",
   "name": "python",
   "nbconvert_exporter": "python",
   "pygments_lexer": "ipython3",
   "version": "3.8.5"
  }
 },
 "nbformat": 4,
 "nbformat_minor": 4
}
