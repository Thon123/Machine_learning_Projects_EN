{
 "cells": [
  {
   "cell_type": "markdown",
   "metadata": {},
   "source": [
    "## Global and Local Scopes"
   ]
  },
  {
   "cell_type": "markdown",
   "metadata": {},
   "source": [
    "Scope je pro mě zamotaná část, takže zde teorie bude poctivě."
   ]
  },
  {
   "cell_type": "markdown",
   "metadata": {},
   "source": [
    "- a = 10, naše proměnná je vázaná na objekt má id adresu\n",
    "- nicméně naše a existuje vždy v určité části kodu\n",
    "- naše reference a propojení proměnných je uložené v namespaces\n",
    "- každý scope má namespace - něco jako tabulka Co s Čím je jak propojeno"
   ]
  },
  {
   "cell_type": "markdown",
   "metadata": {},
   "source": [
    "Global scope"
   ]
  },
  {
   "cell_type": "markdown",
   "metadata": {},
   "source": [
    "- něco jako truly global scope neexistuje, napříč aplikace apod.\n",
    "- kromě pár vyjímek jako None, True, False, print, dict apod.\n",
    "- Global scopes jsou umístění uvnitř built-in scope\n",
    "- Náš built-in scope má v sobě právě print apod..a má svojí namespace\n",
    "- Ale poté má například jiný scope se svojí tabulkou - má svojí tabulku\n",
    "- A pokud například v naše scopu nenajde vazbu na a - přejde na built-in scope\n",
    "- print(True) --> proběhně správně nic nenajde ale v built-in scope najde obojí\n",
    "- print(a) --> nastane chyba protože a nemáme určené"
   ]
  },
  {
   "cell_type": "markdown",
   "metadata": {},
   "source": [
    "Ale tohle je pěkné :)"
   ]
  },
  {
   "cell_type": "markdown",
   "metadata": {},
   "source": [
    "- print = lambda x: f\"{hello}\"\n",
    "- s = print(\"world\")\n",
    "- jde o to že zde najde v global scope náš print a nepoužije tak print z built-in scope (tzn klasický print)"
   ]
  },
  {
   "cell_type": "markdown",
   "metadata": {},
   "source": [
    "Local Scope"
   ]
  },
  {
   "cell_type": "markdown",
   "metadata": {},
   "source": [
    "- jedná se o scope v našich funkcích\n",
    "- důležité je, že naše neznáme uvnitř funkce nejsou vytvořeny dokud není funkce zavolaná\n",
    "- kdykoliv je funkce zavolaná - je zavolán nový scope - nový binding\n",
    "- protože se mohou měnit hodnoty\n",
    "- A PŘESNĚ PROTO FUNGUJE REKURZE :) - protože když se zavolá faktoriál znovu jedeme pořád na nový scope\n",
    "- tzn na nové hodnoty ...fuck yeah\n",
    "- compilate a running time - při tvorbě funkce python odhadne scope ale vytvoří jej až při spuštění a po konci jej zase smaže"
   ]
  },
  {
   "cell_type": "markdown",
   "metadata": {},
   "source": [
    "Nested Scopes"
   ]
  },
  {
   "cell_type": "markdown",
   "metadata": {},
   "source": [
    "- jdeme vždycky od spoda ze shora - local scope - module scope  built-in scope\n",
    "- důležité je že local scope se nazvájem nemohou prohledávat\n",
    "- dále máme funkce ve funkcích apod..--> takže se nám to trochu nestí :)\n",
    "- naše funkce mohou využívat hodnoty napříč všemi scopy samozřejmě\n",
    "- viz příklad print(True), print(a) ..\n",
    "- JAKMILE FUNKCE DOJEDE - všechny reference a binding se vyčistí"
   ]
  },
  {
   "cell_type": "markdown",
   "metadata": {},
   "source": [
    "Modifikace global variables z local scope"
   ]
  },
  {
   "cell_type": "markdown",
   "metadata": {},
   "source": [
    "- pokud mám napříkla a v global scope a poté ve funkci tak se takzvaně maskují\n",
    "- mají odlišné adresy, najde ve funkci a vyčistí, takže naše a se nezmění\n",
    "- máme proto ale global keyword - čímž jej přesuneme právě na global scope"
   ]
  },
  {
   "cell_type": "markdown",
   "metadata": {},
   "source": [
    "Global and Local Scoping"
   ]
  },
  {
   "cell_type": "markdown",
   "metadata": {},
   "source": [
    "- při napsání funkce začíná compilace, Python projede všechny neznámé a projede, které jsou přiřazené tzn. x = 10 apod..a přiřadí je jako local - pokud nemají přesně specifikováno, že budou global\n",
    "- pokud k ním není přiřazena hodnota - označí se jako non local nic víc a až při spuštění řeší co hodnota je\n",
    "- JE NUTNÉ ROZLIŠIT mezi a, a=10, global a -> a = 100, TŘI ROZDÍLNÉ PŘÍPADY"
   ]
  },
  {
   "cell_type": "code",
   "execution_count": 8,
   "metadata": {},
   "outputs": [],
   "source": [
    "a = 10"
   ]
  },
  {
   "cell_type": "code",
   "execution_count": 9,
   "metadata": {},
   "outputs": [],
   "source": [
    "def my_func(n):\n",
    "    c = n **2\n",
    "    return c\n",
    "#c je local, n je též local "
   ]
  },
  {
   "cell_type": "code",
   "execution_count": 11,
   "metadata": {},
   "outputs": [],
   "source": [
    "def my_func(n):\n",
    "    print(f\"global a:{a}\")\n",
    "    #n je local a a je v tomto případě global\n",
    "    c = a ** n\n",
    "    return c"
   ]
  },
  {
   "cell_type": "code",
   "execution_count": 13,
   "metadata": {},
   "outputs": [
    {
     "name": "stdout",
     "output_type": "stream",
     "text": [
      "global a:10\n"
     ]
    },
    {
     "data": {
      "text/plain": [
       "100"
      ]
     },
     "execution_count": 13,
     "metadata": {},
     "output_type": "execute_result"
    }
   ],
   "source": [
    "my_func(2) #vše funguje jak má - bere si jak global a, tak local n"
   ]
  },
  {
   "cell_type": "code",
   "execution_count": 14,
   "metadata": {},
   "outputs": [],
   "source": [
    "def my_func(n):\n",
    "    a = 20\n",
    "    c = a ** n\n",
    "    return c"
   ]
  },
  {
   "cell_type": "code",
   "execution_count": 16,
   "metadata": {},
   "outputs": [
    {
     "data": {
      "text/plain": [
       "400"
      ]
     },
     "execution_count": 16,
     "metadata": {},
     "output_type": "execute_result"
    }
   ],
   "source": [
    "my_func(2)"
   ]
  },
  {
   "cell_type": "code",
   "execution_count": 17,
   "metadata": {},
   "outputs": [
    {
     "name": "stdout",
     "output_type": "stream",
     "text": [
      "10\n"
     ]
    }
   ],
   "source": [
    "print(a) #jasné naše a je pouze local a na globální a nemá žádný vliv"
   ]
  },
  {
   "cell_type": "code",
   "execution_count": 18,
   "metadata": {},
   "outputs": [],
   "source": [
    "def my_func(n):\n",
    "    global a\n",
    "    a = 20\n",
    "    c = a ** n\n",
    "    return c"
   ]
  },
  {
   "cell_type": "code",
   "execution_count": 20,
   "metadata": {},
   "outputs": [
    {
     "name": "stdout",
     "output_type": "stream",
     "text": [
      "10\n"
     ]
    }
   ],
   "source": [
    "print(a) #jelikož jsem ještě nespustil nepřepsal jsem a"
   ]
  },
  {
   "cell_type": "code",
   "execution_count": 21,
   "metadata": {},
   "outputs": [
    {
     "data": {
      "text/plain": [
       "400"
      ]
     },
     "execution_count": 21,
     "metadata": {},
     "output_type": "execute_result"
    }
   ],
   "source": [
    "my_func(2)"
   ]
  },
  {
   "cell_type": "code",
   "execution_count": 23,
   "metadata": {},
   "outputs": [
    {
     "name": "stdout",
     "output_type": "stream",
     "text": [
      "20\n"
     ]
    }
   ],
   "source": [
    "print(a) #Ale nyní jsme již přepsali naše a v global :)"
   ]
  },
  {
   "cell_type": "code",
   "execution_count": 24,
   "metadata": {},
   "outputs": [],
   "source": [
    "def my_func():\n",
    "    global var\n",
    "    var = \"hello world\"\n",
    "    return"
   ]
  },
  {
   "cell_type": "code",
   "execution_count": 26,
   "metadata": {},
   "outputs": [
    {
     "ename": "NameError",
     "evalue": "name 'var' is not defined",
     "output_type": "error",
     "traceback": [
      "\u001b[1;31m---------------------------------------------------------------------------\u001b[0m",
      "\u001b[1;31mNameError\u001b[0m                                 Traceback (most recent call last)",
      "\u001b[1;32m<ipython-input-26-3fc063619e86>\u001b[0m in \u001b[0;36m<module>\u001b[1;34m\u001b[0m\n\u001b[1;32m----> 1\u001b[1;33m \u001b[0mprint\u001b[0m\u001b[1;33m(\u001b[0m\u001b[0mvar\u001b[0m\u001b[1;33m)\u001b[0m \u001b[1;31m#hodnota neexistuje nemám jí nikde v global scope\u001b[0m\u001b[1;33m\u001b[0m\u001b[1;33m\u001b[0m\u001b[0m\n\u001b[0m",
      "\u001b[1;31mNameError\u001b[0m: name 'var' is not defined"
     ]
    }
   ],
   "source": [
    "print(var) #hodnota neexistuje nemám jí nikde v global scope"
   ]
  },
  {
   "cell_type": "code",
   "execution_count": 27,
   "metadata": {},
   "outputs": [],
   "source": [
    "my_func()"
   ]
  },
  {
   "cell_type": "code",
   "execution_count": 29,
   "metadata": {},
   "outputs": [
    {
     "name": "stdout",
     "output_type": "stream",
     "text": [
      "hello world\n"
     ]
    }
   ],
   "source": [
    "print(var) #ALE NYNÍ HDONOTA EXISTUJE"
   ]
  },
  {
   "cell_type": "markdown",
   "metadata": {},
   "source": [
    "V podstatě mohu ve funkci vytvářet nové global hodnoty do global scopu ikdyž zde ještě nejsou."
   ]
  },
  {
   "cell_type": "code",
   "execution_count": 30,
   "metadata": {},
   "outputs": [],
   "source": [
    "a = 10"
   ]
  },
  {
   "cell_type": "code",
   "execution_count": 31,
   "metadata": {},
   "outputs": [],
   "source": [
    "def my_func():\n",
    "    print(f\"global a: {a}\")\n",
    "    a = \"hello world\"\n",
    "    print(a)\n",
    "#tahle funkce hodí eror - protože v compilace si myslí\n",
    "#že definuji tisknu a až po definování - nedostane se do fáze kde by python mohl najít v global jiné a.."
   ]
  },
  {
   "cell_type": "code",
   "execution_count": 32,
   "metadata": {},
   "outputs": [],
   "source": [
    "f = lambda n: print(a**n)"
   ]
  },
  {
   "cell_type": "code",
   "execution_count": 33,
   "metadata": {},
   "outputs": [
    {
     "name": "stdout",
     "output_type": "stream",
     "text": [
      "100\n"
     ]
    }
   ],
   "source": [
    "f(2)"
   ]
  },
  {
   "cell_type": "code",
   "execution_count": 39,
   "metadata": {},
   "outputs": [],
   "source": [
    "def print(x):\n",
    "    return f\"hello {x}\""
   ]
  },
  {
   "cell_type": "code",
   "execution_count": 40,
   "metadata": {},
   "outputs": [
    {
     "data": {
      "text/plain": [
       "'hello world'"
      ]
     },
     "execution_count": 40,
     "metadata": {},
     "output_type": "execute_result"
    }
   ],
   "source": [
    "print(\"world\")"
   ]
  },
  {
   "cell_type": "markdown",
   "metadata": {},
   "source": [
    "Nyní jsme narušili print funkci :D. Už jí nepoužijeme, protože najdeme hned odpověď v global scopu a nedostaneme se do built-in scopu."
   ]
  },
  {
   "cell_type": "code",
   "execution_count": 41,
   "metadata": {},
   "outputs": [],
   "source": [
    "del print #odmažeme jí ať nám nedělá bordel"
   ]
  },
  {
   "cell_type": "code",
   "execution_count": null,
   "metadata": {},
   "outputs": [],
   "source": []
  }
 ],
 "metadata": {
  "kernelspec": {
   "display_name": "Python 3",
   "language": "python",
   "name": "python3"
  },
  "language_info": {
   "codemirror_mode": {
    "name": "ipython",
    "version": 3
   },
   "file_extension": ".py",
   "mimetype": "text/x-python",
   "name": "python",
   "nbconvert_exporter": "python",
   "pygments_lexer": "ipython3",
   "version": "3.8.5"
  }
 },
 "nbformat": 4,
 "nbformat_minor": 4
}
