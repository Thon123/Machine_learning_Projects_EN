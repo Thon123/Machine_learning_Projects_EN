{
 "cells": [
  {
   "cell_type": "markdown",
   "metadata": {},
   "source": [
    "### DeAp Dispatching P1"
   ]
  },
  {
   "cell_type": "markdown",
   "metadata": {},
   "source": [
    "Overloading je když máme funkce s více jmény a program si podle rozdílného podpisu - parametry apod. je schopný rozoznat kterou potřebuje. V Pythonu overloading není, nejedná se o statický jazyk. Python má single dispatch a multi dispatch."
   ]
  },
  {
   "cell_type": "code",
   "execution_count": 415,
   "metadata": {},
   "outputs": [],
   "source": [
    "from html import escape #poznám dále"
   ]
  },
  {
   "cell_type": "code",
   "execution_count": 416,
   "metadata": {},
   "outputs": [],
   "source": [
    "def html_escape(arg):\n",
    "    return escape(str(arg))\n",
    "    #prostě jen převe argument do stringu a escapne?\n",
    "    \n",
    "def html_int(a):\n",
    "    return f\"{a} (<i>{str(hex(a))}</i>)\"\n",
    "#převede integer ok\n",
    "\n",
    "def html_real(a):\n",
    "    return f\"{round(a,2):.2f}\"\n",
    "\n",
    "def html_str(s):\n",
    "    return html_escape(s).replace(\"\\n\", \"<br/>\\n\")\n",
    "\n",
    "def html_list(l):\n",
    "    items = (f\"<li>{html_escape(item)}</li>\"\n",
    "            for item in l \n",
    "            )\n",
    "    return \"<ul>\\n\" + \"\\n\".join(items) + \"\\n</ul>\"\n",
    "\n",
    "def html_dict(d):\n",
    "    items = (f\"<li>{k}={v}</li>\"\n",
    "             for k,v in d.items()\n",
    "            )\n",
    "    return \"<ul>\\n\" + \"\\n\" .join(items) + \"\\n</ul>\"\n",
    "\n",
    "#Prostě máme kotel funkcí pro úpravu všemožných formátů, int, stringu, listů, dictionary apod.\n",
    "#Největší pozor dát asi na list a dict generátory se stringem - tj. poměrně zajímavá část"
   ]
  },
  {
   "cell_type": "code",
   "execution_count": 417,
   "metadata": {},
   "outputs": [
    {
     "name": "stdout",
     "output_type": "stream",
     "text": [
      "this is <br/>\n",
      "a multi line string<br/>\n",
      "with special characters: 10 &lt; 100\n"
     ]
    }
   ],
   "source": [
    "print(html_str(\"\"\"this is \n",
    "a multi line string\n",
    "with special characters: 10 < 100\"\"\"))"
   ]
  },
  {
   "cell_type": "code",
   "execution_count": 418,
   "metadata": {},
   "outputs": [
    {
     "name": "stdout",
     "output_type": "stream",
     "text": [
      "255 (<i>0xff</i>)\n"
     ]
    }
   ],
   "source": [
    "print(html_int(255))"
   ]
  },
  {
   "cell_type": "code",
   "execution_count": 422,
   "metadata": {},
   "outputs": [
    {
     "data": {
      "text/plain": [
       "'<ul>\\n<li>1</li>\\n<li>2</li>\\n<li>3</li>\\n<li>4</li>\\n<li>5</li>\\n</ul>'"
      ]
     },
     "execution_count": 422,
     "metadata": {},
     "output_type": "execute_result"
    }
   ],
   "source": [
    "html_list([1,2,3,4,5])"
   ]
  },
  {
   "cell_type": "code",
   "execution_count": 423,
   "metadata": {},
   "outputs": [
    {
     "data": {
      "text/plain": [
       "'<ul>\\n<li>1</li>\\n<li>2</li>\\n<li>3</li>\\n<li>4</li>\\n<li>5</li>\\n</ul>'"
      ]
     },
     "execution_count": 423,
     "metadata": {},
     "output_type": "execute_result"
    }
   ],
   "source": [
    "html_list([1,2,3,4,5])"
   ]
  },
  {
   "cell_type": "markdown",
   "metadata": {},
   "source": [
    "Jasné prostě kotel funkcí co zde máme pro hmtl úpravy."
   ]
  },
  {
   "cell_type": "markdown",
   "metadata": {},
   "source": [
    "#### NYNÍ CHCEME NAPSAT FUNKCI - CO URČÍ JAKOU FUNKCI MÁ POUŽÍT"
   ]
  },
  {
   "cell_type": "code",
   "execution_count": 424,
   "metadata": {},
   "outputs": [],
   "source": [
    "from decimal import Decimal"
   ]
  },
  {
   "cell_type": "code",
   "execution_count": 439,
   "metadata": {},
   "outputs": [],
   "source": [
    "#budeme to psát zase nahrubo a ručně \n",
    "def htmlize(arg):\n",
    "    #pokud máme integere vrátíme funkci pro integer\n",
    "    if isinstance(arg, int):\n",
    "        return html_int(arg)\n",
    "    elif isinstance(arg, float) or isinstance(arg, Decimal):\n",
    "        return html_real(arg) #kryjeme decimal a float\n",
    "    elif isinstance(arg, str):\n",
    "        return html_str(arg)\n",
    "    elif isinstance(arg, list) or isinstance(arg, tuple):\n",
    "        return html_list(arg)\n",
    "    elif isinstance(arg, dict):\n",
    "        return html_dict(arg)\n",
    "    elif isinstance(arg,set):\n",
    "        return html_set(arg)\n",
    "    else:\n",
    "        return html_escape(arg)\n",
    "#netřeba řešit řešíme zda je něco instance něčeho - tzn. zda náš argument\n",
    "#je instance něčeho a podle toho navracíme funkci"
   ]
  },
  {
   "cell_type": "code",
   "execution_count": 428,
   "metadata": {},
   "outputs": [
    {
     "data": {
      "text/plain": [
       "'100 (<i>0x64</i>)'"
      ]
     },
     "execution_count": 428,
     "metadata": {},
     "output_type": "execute_result"
    }
   ],
   "source": [
    "htmlize(100)"
   ]
  },
  {
   "cell_type": "code",
   "execution_count": 432,
   "metadata": {},
   "outputs": [
    {
     "data": {
      "text/plain": [
       "'<ul>\\n<li>1</li>\\n<li>2</li>\\n<li>3</li>\\n<li>4</li>\\n</ul>'"
      ]
     },
     "execution_count": 432,
     "metadata": {},
     "output_type": "execute_result"
    }
   ],
   "source": [
    "htmlize([1,2,3,4])"
   ]
  },
  {
   "cell_type": "markdown",
   "metadata": {},
   "source": [
    "Tohle je tedy náš hardcoded dispatcher."
   ]
  },
  {
   "cell_type": "code",
   "execution_count": 433,
   "metadata": {},
   "outputs": [
    {
     "name": "stdout",
     "output_type": "stream",
     "text": [
      "<ul>\n",
      "<li>1</li>\n",
      "<li>2</li>\n",
      "<li>3</li>\n",
      "<li>4</li>\n",
      "</ul>\n"
     ]
    }
   ],
   "source": [
    "print(htmlize([1,2,3,4]))"
   ]
  },
  {
   "cell_type": "markdown",
   "metadata": {},
   "source": [
    "Samozřejmě to není dokonalé. Jakmile bude typ v typu už máme tak trochu problém. Nenajde to správnou úpravu."
   ]
  },
  {
   "cell_type": "code",
   "execution_count": 434,
   "metadata": {},
   "outputs": [],
   "source": [
    "def func1():\n",
    "    func2()"
   ]
  },
  {
   "cell_type": "code",
   "execution_count": 435,
   "metadata": {},
   "outputs": [],
   "source": [
    "def func2():\n",
    "    print(\"func2\")"
   ]
  },
  {
   "cell_type": "markdown",
   "metadata": {},
   "source": [
    "Pokud nevolám funkci 1 dokud nemám nadefinovanou func2 - není problém a po nadefinování mohu vše volat. V podstatě není problém psát funkci, která není ještě definovaná - pokud jí dodefinujeme před spuštěním."
   ]
  },
  {
   "cell_type": "code",
   "execution_count": 438,
   "metadata": {},
   "outputs": [],
   "source": [
    "def html_escape(arg):\n",
    "    return escape(str(arg))\n",
    "    #prostě jen převe argument do stringu a escapne?\n",
    "    \n",
    "def html_int(a):\n",
    "    return f\"{a} (<i>{str(hex(a))}</i>)\"\n",
    "#převede integer ok\n",
    "\n",
    "def html_real(a):\n",
    "    return f\"{round(a,2):.2f}\"\n",
    "\n",
    "def html_str(s):\n",
    "    return html_escape(s).replace(\"\\n\", \"<br/>\\n\")\n",
    "\n",
    "def html_list(l):\n",
    "    items = (f\"<li>{htmlize(item)}</li>\"\n",
    "            for item in l \n",
    "            )\n",
    "    return \"<ul>\\n\" + \"\\n\".join(items) + \"\\n</ul>\"\n",
    "\n",
    "def html_dict(d):\n",
    "    items = (f\"<li>{html_escape(k)}={htmlize(v)}</li>\"\n",
    "             for k,v in d.items()\n",
    "            )\n",
    "    return \"<ul>\\n\" + \"\\n\" .join(items) + \"\\n</ul>\"\n",
    "\n",
    "def html_set(arg):\n",
    "    return html_list(arg)"
   ]
  },
  {
   "cell_type": "markdown",
   "metadata": {},
   "source": [
    "A tudíž mohu takto upravit naší funkci - která vybírá sama sebe ? :D, viz dict a list"
   ]
  },
  {
   "cell_type": "code",
   "execution_count": 437,
   "metadata": {},
   "outputs": [
    {
     "name": "stdout",
     "output_type": "stream",
     "text": [
      "<ul>\n",
      "<li><br/>\n",
      "Python rocks! 0 &lt; 1<br/>\n",
      "</li>\n",
      "<li><ul>\n",
      "<li>10 (<i>0xa</i>)</li>\n",
      "<li>20 (<i>0x14</i>)</li>\n",
      "<li>30 (<i>0x1e</i>)</li>\n",
      "</ul></li>\n",
      "<li>100 (<i>0x64</i>)</li>\n",
      "</ul>\n"
     ]
    }
   ],
   "source": [
    "print(htmlize([\"\"\"\n",
    "Python rocks! 0 < 1\n",
    "\"\"\", (10,20,30),100]))"
   ]
  },
  {
   "cell_type": "markdown",
   "metadata": {},
   "source": [
    "Jo takže vidíme že pozná i v jedné části co je to za část uvnitř :D. Takže například použije htmlize na list - ale uvnitr 10,20,30 použije htmlize na integer"
   ]
  },
  {
   "cell_type": "markdown",
   "metadata": {},
   "source": [
    "#### Nyní to zkusíme předělat trochu chytřeji"
   ]
  },
  {
   "cell_type": "code",
   "execution_count": 445,
   "metadata": {},
   "outputs": [],
   "source": [
    "def htmlize(arg):\n",
    "    #nejdříve si uděláme registr typ: funkce\n",
    "    registry = {\n",
    "        object: html_escape,\n",
    "        int: hmtl_int,\n",
    "        float: hmtl_int,\n",
    "        Decimal: html_int,\n",
    "        str: html_str,\n",
    "        list: html_list,\n",
    "        tuple: html_list,\n",
    "        set: html_set,\n",
    "        dict: html_dict        \n",
    "    }\n",
    "    #registry object je defaultní hodnota - prostě jen escape\n",
    "    fn = registry.get(type(arg), registry[object])\n",
    "    \n",
    "    return fn(arg)\n",
    "#získáme typ argumentu a rovnou získáme název funkce\n",
    "#poté pouze spustíme funkce s argumentem\n",
    "#pokud mu totiž zadám například \"ahoj\" - tak registry.get - type\n",
    "#získá typ - str - a je to jako kdybych napsal ..\n",
    "#najdi mi hodnotu k str - a tudíž najde funkci html_str"
   ]
  },
  {
   "cell_type": "code",
   "execution_count": 452,
   "metadata": {},
   "outputs": [],
   "source": [
    "registry2 = {\n",
    "    object: html_escape,\n",
    "    str: html_str,\n",
    "    list: html_list,\n",
    "    tuple: html_list,\n",
    "    set: html_set,\n",
    "    dict: html_dict        \n",
    "    }"
   ]
  },
  {
   "cell_type": "code",
   "execution_count": 457,
   "metadata": {},
   "outputs": [
    {
     "data": {
      "text/plain": [
       "<function __main__.html_str(s)>"
      ]
     },
     "execution_count": 457,
     "metadata": {},
     "output_type": "execute_result"
    }
   ],
   "source": [
    "registry2.get(type(\"ahoj\"))"
   ]
  },
  {
   "cell_type": "code",
   "execution_count": 455,
   "metadata": {},
   "outputs": [
    {
     "data": {
      "text/plain": [
       "str"
      ]
     },
     "execution_count": 455,
     "metadata": {},
     "output_type": "execute_result"
    }
   ],
   "source": [
    "type(\"ahoj\")"
   ]
  },
  {
   "cell_type": "markdown",
   "metadata": {},
   "source": [
    "Zde pouze k dopochopení. Obecně klasika, pokud mám MASS ELIF - je lepší použít dictionary"
   ]
  },
  {
   "cell_type": "markdown",
   "metadata": {},
   "source": [
    "### DeAp Dispatching P2"
   ]
  },
  {
   "cell_type": "markdown",
   "metadata": {},
   "source": [
    "Máme hardcoded registr, který nechceme. Potřebujeme to mít trochu vyladěnější."
   ]
  },
  {
   "cell_type": "code",
   "execution_count": 458,
   "metadata": {},
   "outputs": [],
   "source": [
    "def singledispatch(fn):\n",
    "    registry = {}\n",
    "    \n",
    "    registry[object] = fn #defaultní funkce?\n",
    "    \n",
    "    def inner(arg):\n",
    "        return registry[object](arg)\n",
    "    \n",
    "    return inner"
   ]
  },
  {
   "cell_type": "code",
   "execution_count": 459,
   "metadata": {},
   "outputs": [],
   "source": [
    "@singledispatch\n",
    "def htmlize(a):\n",
    "    return escape(str(a))"
   ]
  },
  {
   "cell_type": "code",
   "execution_count": 461,
   "metadata": {},
   "outputs": [
    {
     "data": {
      "text/plain": [
       "'1 &lt; 100'"
      ]
     },
     "execution_count": 461,
     "metadata": {},
     "output_type": "execute_result"
    }
   ],
   "source": [
    "htmlize(\"1 < 100\")\n",
    "#když volám htmlize - voláme inner - kvůli dekorátoru\n",
    "# a inner má navrátit to co je v registry - ale to je funkce kterou pouštíme\n",
    "#takže spustí return escape(str(a))\n",
    "#tzn v podstatě se otočí dokola ale ve výsledku zatím nic neudělá"
   ]
  },
  {
   "cell_type": "code",
   "execution_count": 463,
   "metadata": {},
   "outputs": [
    {
     "data": {
      "text/plain": [
       "'1 &lt; 100'"
      ]
     },
     "execution_count": 463,
     "metadata": {},
     "output_type": "execute_result"
    }
   ],
   "source": [
    "escape(str(\"1 < 100\")) #to samé, ale projede kolečko :)"
   ]
  },
  {
   "cell_type": "code",
   "execution_count": 467,
   "metadata": {},
   "outputs": [],
   "source": [
    "def singledispatch(fn):\n",
    "    registry = {}\n",
    "    \n",
    "    registry[object] = fn #defaultní funkce\n",
    "    registry[int] = lambda a: f\"{a} (<i>{str(hex(a))}</i>)\"\n",
    "    registry[str] = lambda s: escape(s).replace(\"\\n\", \"<br/>\\n\")\n",
    "    \n",
    "    \n",
    "    def inner(arg):\n",
    "        return registry.get(type(arg), registry[object])(arg) #(arg) - call funce na arg\n",
    "    \n",
    "    return inner\n",
    "#v podstatě mám decorátor - který projede inner funkci, a inner funkce\n",
    "#spustí funkci kterou najde v registrech"
   ]
  },
  {
   "cell_type": "code",
   "execution_count": 466,
   "metadata": {},
   "outputs": [],
   "source": [
    "@singledispatch\n",
    "def htmlize(a):\n",
    "    return escape(str(a))"
   ]
  },
  {
   "cell_type": "code",
   "execution_count": 471,
   "metadata": {},
   "outputs": [
    {
     "data": {
      "text/plain": [
       "<function __main__.singledispatch.<locals>.<lambda>(a)>"
      ]
     },
     "execution_count": 471,
     "metadata": {},
     "output_type": "execute_result"
    }
   ],
   "source": [
    "htmlize(100)"
   ]
  },
  {
   "cell_type": "markdown",
   "metadata": {},
   "source": [
    "Podle všeho nic extra neřešíme. Náš registry postup tedy nechceme. Potřebujeme funkci která nám umožní vkládat klíče a hodnoty do registru. Budeme psát decorátor unvitř decoratoru."
   ]
  },
  {
   "cell_type": "code",
   "execution_count": 519,
   "metadata": {},
   "outputs": [],
   "source": [
    "def singledispatch(fn):\n",
    "    registry = {}\n",
    "    \n",
    "    registry[object] = fn #defaultní funkce\n",
    "    \n",
    "    def decorator(arg):\n",
    "        return registry.get(type(arg), registry[object])(arg) #(arg) - call funce na arg\n",
    "    \n",
    "    def register(type_): #naše dec.factory\n",
    "        def inner(fn):\n",
    "            registry[type_] = fn\n",
    "            return fn\n",
    "        #měla by přiřadit funkci k typu v registru\n",
    "        return inner\n",
    "    \n",
    "    def dispatch(type_):\n",
    "        return resgitry.get(type_, registry[object])\n",
    "    \n",
    "    decorator.dispatch = dispatch #jiný způsob pro registr\n",
    "    decorator.register = register #handle na decorator\n",
    "    decorator.registry = registry #abych viděl registry\n",
    "    #teď v podstatě přiřadíme propojení našeho decorátoru na funkci register\n",
    "    #abychom jí mohli použít\n",
    "    return decorator"
   ]
  },
  {
   "cell_type": "code",
   "execution_count": 520,
   "metadata": {},
   "outputs": [],
   "source": [
    "@singledispatch\n",
    "def htmlize(a):\n",
    "    return escape(str(a))"
   ]
  },
  {
   "cell_type": "code",
   "execution_count": 521,
   "metadata": {},
   "outputs": [
    {
     "data": {
      "text/plain": [
       "'tuduu'"
      ]
     },
     "execution_count": 521,
     "metadata": {},
     "output_type": "execute_result"
    }
   ],
   "source": [
    "htmlize(\"tuduu\") #použije prostě defaultní hodnotu"
   ]
  },
  {
   "cell_type": "code",
   "execution_count": 522,
   "metadata": {},
   "outputs": [
    {
     "data": {
      "text/plain": [
       "'100'"
      ]
     },
     "execution_count": 522,
     "metadata": {},
     "output_type": "execute_result"
    }
   ],
   "source": [
    "htmlize(100) #nic to nedělá že náš integer není v registrech"
   ]
  },
  {
   "cell_type": "markdown",
   "metadata": {},
   "source": [
    "Jenže jak použijeme naší registre funkci uvnitř decorátoru abychom mohli evidovat typy?"
   ]
  },
  {
   "cell_type": "markdown",
   "metadata": {},
   "source": [
    "Přidali jsme atribut - decorated.register - abychom měli páku."
   ]
  },
  {
   "cell_type": "code",
   "execution_count": 513,
   "metadata": {
    "scrolled": true
   },
   "outputs": [],
   "source": [
    "#spouštím decorátor v decorátoru (singledispatch)\n",
    "#náš decorátor v decorátoru má jako parametr typ\n",
    "#a jako funkci očekává funkci - kterou zaeviduje do registrů\n",
    "@htmlize.register(int)\n",
    "def html_int(a):\n",
    "    return f\"{a} (<i>{str(hex(a))}</i>)\"\n",
    "#navíc já beru htmlize.register což je psycho zápis již deokoravné funkce výše"
   ]
  },
  {
   "cell_type": "code",
   "execution_count": 514,
   "metadata": {},
   "outputs": [
    {
     "data": {
      "text/plain": [
       "'100 (<i>0x64</i>)'"
      ]
     },
     "execution_count": 514,
     "metadata": {},
     "output_type": "execute_result"
    }
   ],
   "source": [
    "htmlize(100)"
   ]
  },
  {
   "cell_type": "markdown",
   "metadata": {},
   "source": [
    "A nyní to použije správnou funkci, protože to použije námi dodaný kod."
   ]
  },
  {
   "cell_type": "code",
   "execution_count": 515,
   "metadata": {},
   "outputs": [],
   "source": [
    "@htmlize.register(list)\n",
    "def html_list(l):\n",
    "    items = (f\"<li>{htmlize(item)}</li>\"\n",
    "        for item in l \n",
    "        )\n",
    "    return \"<ul>\\n\" + \"\\n\".join(items) + \"\\n</ul>\""
   ]
  },
  {
   "cell_type": "code",
   "execution_count": 516,
   "metadata": {},
   "outputs": [],
   "source": [
    "html_list = htmlize.register(list)(html_list) #bleeh nedekorovaný zápis"
   ]
  },
  {
   "cell_type": "markdown",
   "metadata": {},
   "source": [
    "Navíc můžu stackovat dekorátory takto"
   ]
  },
  {
   "cell_type": "code",
   "execution_count": 517,
   "metadata": {},
   "outputs": [],
   "source": [
    "@htmlize.register(list)\n",
    "@htmlize.register(tuple)\n",
    "def html_list(l):\n",
    "    items = (f\"<li>{htmlize(item)}</li>\"\n",
    "        for item in l \n",
    "        )\n",
    "    return \"<ul>\\n\" + \"\\n\".join(items) + \"\\n</ul>\"\n",
    "#takto přidá stejnou funkci k tuplu i listu"
   ]
  },
  {
   "cell_type": "markdown",
   "metadata": {},
   "source": [
    "Nyní bychom ale rádi viděli jak registor vypadá"
   ]
  },
  {
   "cell_type": "code",
   "execution_count": 518,
   "metadata": {},
   "outputs": [
    {
     "data": {
      "text/plain": [
       "{object: <function __main__.htmlize(a)>,\n",
       " int: <function __main__.html_int(a)>,\n",
       " list: <function __main__.html_list(l)>,\n",
       " tuple: <function __main__.html_list(l)>}"
      ]
     },
     "execution_count": 518,
     "metadata": {},
     "output_type": "execute_result"
    }
   ],
   "source": [
    "htmlize.registry"
   ]
  },
  {
   "cell_type": "markdown",
   "metadata": {},
   "source": [
    "A nyní vidím, že máme krásně přidané naše registry funkcí."
   ]
  },
  {
   "cell_type": "code",
   "execution_count": 524,
   "metadata": {},
   "outputs": [
    {
     "data": {
      "text/plain": [
       "<function __main__.singledispatch.<locals>.dispatch(type_)>"
      ]
     },
     "execution_count": 524,
     "metadata": {},
     "output_type": "execute_result"
    }
   ],
   "source": [
    "htmlize.dispatch"
   ]
  },
  {
   "cell_type": "markdown",
   "metadata": {},
   "source": [
    "#### A nyní PROČ to co píšeme je SHITTY"
   ]
  },
  {
   "cell_type": "code",
   "execution_count": 526,
   "metadata": {},
   "outputs": [],
   "source": [
    "from numbers import Integral"
   ]
  },
  {
   "cell_type": "code",
   "execution_count": 528,
   "metadata": {},
   "outputs": [],
   "source": [
    "class Person:\n",
    "    pass\n",
    "\n",
    "class Student(Person):\n",
    "    pass"
   ]
  },
  {
   "cell_type": "code",
   "execution_count": 529,
   "metadata": {},
   "outputs": [],
   "source": [
    "p = Student()"
   ]
  },
  {
   "cell_type": "code",
   "execution_count": 530,
   "metadata": {},
   "outputs": [
    {
     "data": {
      "text/plain": [
       "__main__.Student"
      ]
     },
     "execution_count": 530,
     "metadata": {},
     "output_type": "execute_result"
    }
   ],
   "source": [
    "type(p)"
   ]
  },
  {
   "cell_type": "markdown",
   "metadata": {},
   "source": [
    "Ok dvě classy, typ p je student jasné. Ale student je i hodnota - typ to ale nepodchytí."
   ]
  },
  {
   "cell_type": "code",
   "execution_count": 531,
   "metadata": {},
   "outputs": [
    {
     "data": {
      "text/plain": [
       "(True, True)"
      ]
     },
     "execution_count": 531,
     "metadata": {},
     "output_type": "execute_result"
    }
   ],
   "source": [
    "isinstance(p, Student), isinstance(p,Person)"
   ]
  },
  {
   "cell_type": "markdown",
   "metadata": {},
   "source": [
    "Ale isinstance pozná vše správně."
   ]
  },
  {
   "cell_type": "code",
   "execution_count": 532,
   "metadata": {},
   "outputs": [],
   "source": [
    "@singledispatch\n",
    "def htmlize(a):\n",
    "    return escape(str(a))"
   ]
  },
  {
   "cell_type": "code",
   "execution_count": 533,
   "metadata": {},
   "outputs": [],
   "source": [
    "@htmlize.register(Integral)\n",
    "def html_integral_number(a):\n",
    "    return f\"{a} (<i>{str(hex(a))}</i>)\""
   ]
  },
  {
   "cell_type": "code",
   "execution_count": 534,
   "metadata": {},
   "outputs": [
    {
     "data": {
      "text/plain": [
       "True"
      ]
     },
     "execution_count": 534,
     "metadata": {},
     "output_type": "execute_result"
    }
   ],
   "source": [
    "isinstance(10, Integral)"
   ]
  },
  {
   "cell_type": "code",
   "execution_count": 535,
   "metadata": {},
   "outputs": [
    {
     "data": {
      "text/plain": [
       "'10'"
      ]
     },
     "execution_count": 535,
     "metadata": {},
     "output_type": "execute_result"
    }
   ],
   "source": [
    "htmlize(10)"
   ]
  },
  {
   "cell_type": "markdown",
   "metadata": {},
   "source": [
    "Protože kouká na typ, ale nekouká na isinstance. Musel bych naházet za sebe více deokorátorů s hodnotami, není to tolik \"generic\"."
   ]
  },
  {
   "cell_type": "code",
   "execution_count": 536,
   "metadata": {},
   "outputs": [],
   "source": [
    "from collections.abc import Sequence"
   ]
  },
  {
   "cell_type": "code",
   "execution_count": 537,
   "metadata": {},
   "outputs": [
    {
     "data": {
      "text/plain": [
       "True"
      ]
     },
     "execution_count": 537,
     "metadata": {},
     "output_type": "execute_result"
    }
   ],
   "source": [
    "isinstance([1,2,3],Sequence)"
   ]
  },
  {
   "cell_type": "markdown",
   "metadata": {},
   "source": [
    "Mám tedy abstraktní typy které pod sebe sdružují více typů, a ty můžeme dát do dekorátoru. Type to ale stejně neřeší."
   ]
  },
  {
   "cell_type": "markdown",
   "metadata": {},
   "source": [
    "### DeAp Dispatching P3"
   ]
  },
  {
   "cell_type": "code",
   "execution_count": 539,
   "metadata": {},
   "outputs": [],
   "source": [
    "from functools import singledispatch"
   ]
  },
  {
   "cell_type": "code",
   "execution_count": 541,
   "metadata": {},
   "outputs": [],
   "source": [
    "from numbers import Integral\n",
    "from collections.abc import Sequence"
   ]
  },
  {
   "cell_type": "markdown",
   "metadata": {},
   "source": [
    "V podstatě functools má to o co jsme se snažili zabudovaný v sobě"
   ]
  },
  {
   "cell_type": "code",
   "execution_count": 543,
   "metadata": {},
   "outputs": [],
   "source": [
    "@singledispatch\n",
    "def htmlize(a):\n",
    "    return escape(str(a))"
   ]
  },
  {
   "cell_type": "code",
   "execution_count": 544,
   "metadata": {},
   "outputs": [
    {
     "data": {
      "text/plain": [
       "mappingproxy({object: <function __main__.htmlize(a)>})"
      ]
     },
     "execution_count": 544,
     "metadata": {},
     "output_type": "execute_result"
    }
   ],
   "source": [
    "htmlize.registry #disponuje registry"
   ]
  },
  {
   "cell_type": "code",
   "execution_count": 545,
   "metadata": {},
   "outputs": [],
   "source": [
    "@htmlize.register(Integral)\n",
    "def htmlize_intgral_number(a):\n",
    "    return f\"{a} (<i>{str(hex(a))}</i>)\""
   ]
  },
  {
   "cell_type": "markdown",
   "metadata": {},
   "source": [
    "Stejně jako u naší verze můžeme vkládat."
   ]
  },
  {
   "cell_type": "code",
   "execution_count": 546,
   "metadata": {},
   "outputs": [
    {
     "data": {
      "text/plain": [
       "mappingproxy({object: <function __main__.htmlize(a)>,\n",
       "              numbers.Integral: <function __main__.htmlize_intgral_number(a)>})"
      ]
     },
     "execution_count": 546,
     "metadata": {},
     "output_type": "execute_result"
    }
   ],
   "source": [
    "htmlize.registry"
   ]
  },
  {
   "cell_type": "code",
   "execution_count": 547,
   "metadata": {},
   "outputs": [
    {
     "data": {
      "text/plain": [
       "<function __main__.htmlize_intgral_number(a)>"
      ]
     },
     "execution_count": 547,
     "metadata": {},
     "output_type": "execute_result"
    }
   ],
   "source": [
    "htmlize.dispatch(int)"
   ]
  },
  {
   "cell_type": "markdown",
   "metadata": {},
   "source": [
    "A to co u nás nefungovalo, zde funguje :). "
   ]
  },
  {
   "cell_type": "code",
   "execution_count": 550,
   "metadata": {},
   "outputs": [
    {
     "data": {
      "text/plain": [
       "(True, True, True)"
      ]
     },
     "execution_count": 550,
     "metadata": {},
     "output_type": "execute_result"
    }
   ],
   "source": [
    "isinstance(10,int), isinstance(10, Integral), isinstance(True, Integral)"
   ]
  },
  {
   "cell_type": "markdown",
   "metadata": {},
   "source": [
    "Pouze pro ukázku že Integral je více typů. Konec nejdelšího a asi nejnáročnějšího úseku celé kapitoly P1."
   ]
  },
  {
   "cell_type": "code",
   "execution_count": null,
   "metadata": {},
   "outputs": [],
   "source": []
  }
 ],
 "metadata": {
  "kernelspec": {
   "display_name": "Python 3",
   "language": "python",
   "name": "python3"
  },
  "language_info": {
   "codemirror_mode": {
    "name": "ipython",
    "version": 3
   },
   "file_extension": ".py",
   "mimetype": "text/x-python",
   "name": "python",
   "nbconvert_exporter": "python",
   "pygments_lexer": "ipython3",
   "version": "3.8.5"
  }
 },
 "nbformat": 4,
 "nbformat_minor": 4
}
